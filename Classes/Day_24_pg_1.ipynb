{
  "nbformat": 4,
  "nbformat_minor": 0,
  "metadata": {
    "colab": {
      "provenance": [],
      "authorship_tag": "ABX9TyM+C8Bp1yR3QVhFRrnFNg+7",
      "include_colab_link": true
    },
    "kernelspec": {
      "name": "python3",
      "display_name": "Python 3"
    },
    "language_info": {
      "name": "python"
    }
  },
  "cells": [
    {
      "cell_type": "markdown",
      "metadata": {
        "id": "view-in-github",
        "colab_type": "text"
      },
      "source": [
        "<a href=\"https://colab.research.google.com/github/Fasiloc/Machine_Learning_learn-repo/blob/main/Classes/Day_24_pg_1.ipynb\" target=\"_parent\"><img src=\"https://colab.research.google.com/assets/colab-badge.svg\" alt=\"Open In Colab\"/></a>"
      ]
    },
    {
      "cell_type": "code",
      "execution_count": null,
      "metadata": {
        "id": "G05Ovp0wsZvH"
      },
      "outputs": [],
      "source": [
        "import pandas as pd\n",
        "import matplotlib.pyplot as plt\n",
        "from sklearn.model_selection import train_test_split\n",
        "from sklearn.preprocessing import StandardScaler\n",
        "from sklearn.neural_network import MLPClassifier\n",
        "from sklearn.metrics import accuracy_score"
      ]
    },
    {
      "cell_type": "code",
      "source": [
        "df=pd.read_csv('Dataset_spine.csv')"
      ],
      "metadata": {
        "id": "OOBm9DOqsayt"
      },
      "execution_count": null,
      "outputs": []
    },
    {
      "cell_type": "code",
      "source": [
        "df"
      ],
      "metadata": {
        "colab": {
          "base_uri": "https://localhost:8080/",
          "height": 467
        },
        "id": "w9hWDdR3s4xK",
        "outputId": "9dfe4be1-203a-49ba-ae86-710b95260843"
      },
      "execution_count": null,
      "outputs": [
        {
          "output_type": "execute_result",
          "data": {
            "text/html": [
              "\n",
              "  <div id=\"df-3ae997b7-47ae-4504-bb62-64110699369c\">\n",
              "    <div class=\"colab-df-container\">\n",
              "      <div>\n",
              "<style scoped>\n",
              "    .dataframe tbody tr th:only-of-type {\n",
              "        vertical-align: middle;\n",
              "    }\n",
              "\n",
              "    .dataframe tbody tr th {\n",
              "        vertical-align: top;\n",
              "    }\n",
              "\n",
              "    .dataframe thead th {\n",
              "        text-align: right;\n",
              "    }\n",
              "</style>\n",
              "<table border=\"1\" class=\"dataframe\">\n",
              "  <thead>\n",
              "    <tr style=\"text-align: right;\">\n",
              "      <th></th>\n",
              "      <th>Col1</th>\n",
              "      <th>Col2</th>\n",
              "      <th>Col3</th>\n",
              "      <th>Col4</th>\n",
              "      <th>Col5</th>\n",
              "      <th>Col6</th>\n",
              "      <th>Class_att</th>\n",
              "    </tr>\n",
              "  </thead>\n",
              "  <tbody>\n",
              "    <tr>\n",
              "      <th>0</th>\n",
              "      <td>63.027817</td>\n",
              "      <td>22.552586</td>\n",
              "      <td>39.609117</td>\n",
              "      <td>40.475232</td>\n",
              "      <td>98.672917</td>\n",
              "      <td>-0.254400</td>\n",
              "      <td>Abnormal</td>\n",
              "    </tr>\n",
              "    <tr>\n",
              "      <th>1</th>\n",
              "      <td>39.056951</td>\n",
              "      <td>10.060991</td>\n",
              "      <td>25.015378</td>\n",
              "      <td>28.995960</td>\n",
              "      <td>114.405425</td>\n",
              "      <td>4.564259</td>\n",
              "      <td>Abnormal</td>\n",
              "    </tr>\n",
              "    <tr>\n",
              "      <th>2</th>\n",
              "      <td>68.832021</td>\n",
              "      <td>22.218482</td>\n",
              "      <td>50.092194</td>\n",
              "      <td>46.613539</td>\n",
              "      <td>105.985135</td>\n",
              "      <td>-3.530317</td>\n",
              "      <td>Abnormal</td>\n",
              "    </tr>\n",
              "    <tr>\n",
              "      <th>3</th>\n",
              "      <td>69.297008</td>\n",
              "      <td>24.652878</td>\n",
              "      <td>44.311238</td>\n",
              "      <td>44.644130</td>\n",
              "      <td>101.868495</td>\n",
              "      <td>11.211523</td>\n",
              "      <td>Abnormal</td>\n",
              "    </tr>\n",
              "    <tr>\n",
              "      <th>4</th>\n",
              "      <td>49.712859</td>\n",
              "      <td>9.652075</td>\n",
              "      <td>28.317406</td>\n",
              "      <td>40.060784</td>\n",
              "      <td>108.168725</td>\n",
              "      <td>7.918501</td>\n",
              "      <td>Abnormal</td>\n",
              "    </tr>\n",
              "    <tr>\n",
              "      <th>...</th>\n",
              "      <td>...</td>\n",
              "      <td>...</td>\n",
              "      <td>...</td>\n",
              "      <td>...</td>\n",
              "      <td>...</td>\n",
              "      <td>...</td>\n",
              "      <td>...</td>\n",
              "    </tr>\n",
              "    <tr>\n",
              "      <th>305</th>\n",
              "      <td>47.903565</td>\n",
              "      <td>13.616688</td>\n",
              "      <td>36.000000</td>\n",
              "      <td>34.286877</td>\n",
              "      <td>117.449062</td>\n",
              "      <td>-4.245395</td>\n",
              "      <td>Normal</td>\n",
              "    </tr>\n",
              "    <tr>\n",
              "      <th>306</th>\n",
              "      <td>53.936748</td>\n",
              "      <td>20.721496</td>\n",
              "      <td>29.220534</td>\n",
              "      <td>33.215251</td>\n",
              "      <td>114.365845</td>\n",
              "      <td>-0.421010</td>\n",
              "      <td>Normal</td>\n",
              "    </tr>\n",
              "    <tr>\n",
              "      <th>307</th>\n",
              "      <td>61.446597</td>\n",
              "      <td>22.694968</td>\n",
              "      <td>46.170347</td>\n",
              "      <td>38.751628</td>\n",
              "      <td>125.670725</td>\n",
              "      <td>-2.707880</td>\n",
              "      <td>Normal</td>\n",
              "    </tr>\n",
              "    <tr>\n",
              "      <th>308</th>\n",
              "      <td>45.252792</td>\n",
              "      <td>8.693157</td>\n",
              "      <td>41.583126</td>\n",
              "      <td>36.559635</td>\n",
              "      <td>118.545842</td>\n",
              "      <td>0.214750</td>\n",
              "      <td>Normal</td>\n",
              "    </tr>\n",
              "    <tr>\n",
              "      <th>309</th>\n",
              "      <td>33.841641</td>\n",
              "      <td>5.073991</td>\n",
              "      <td>36.641233</td>\n",
              "      <td>28.767649</td>\n",
              "      <td>123.945244</td>\n",
              "      <td>-0.199249</td>\n",
              "      <td>Normal</td>\n",
              "    </tr>\n",
              "  </tbody>\n",
              "</table>\n",
              "<p>310 rows × 7 columns</p>\n",
              "</div>\n",
              "      <button class=\"colab-df-convert\" onclick=\"convertToInteractive('df-3ae997b7-47ae-4504-bb62-64110699369c')\"\n",
              "              title=\"Convert this dataframe to an interactive table.\"\n",
              "              style=\"display:none;\">\n",
              "        \n",
              "  <svg xmlns=\"http://www.w3.org/2000/svg\" height=\"24px\"viewBox=\"0 0 24 24\"\n",
              "       width=\"24px\">\n",
              "    <path d=\"M0 0h24v24H0V0z\" fill=\"none\"/>\n",
              "    <path d=\"M18.56 5.44l.94 2.06.94-2.06 2.06-.94-2.06-.94-.94-2.06-.94 2.06-2.06.94zm-11 1L8.5 8.5l.94-2.06 2.06-.94-2.06-.94L8.5 2.5l-.94 2.06-2.06.94zm10 10l.94 2.06.94-2.06 2.06-.94-2.06-.94-.94-2.06-.94 2.06-2.06.94z\"/><path d=\"M17.41 7.96l-1.37-1.37c-.4-.4-.92-.59-1.43-.59-.52 0-1.04.2-1.43.59L10.3 9.45l-7.72 7.72c-.78.78-.78 2.05 0 2.83L4 21.41c.39.39.9.59 1.41.59.51 0 1.02-.2 1.41-.59l7.78-7.78 2.81-2.81c.8-.78.8-2.07 0-2.86zM5.41 20L4 18.59l7.72-7.72 1.47 1.35L5.41 20z\"/>\n",
              "  </svg>\n",
              "      </button>\n",
              "      \n",
              "  <style>\n",
              "    .colab-df-container {\n",
              "      display:flex;\n",
              "      flex-wrap:wrap;\n",
              "      gap: 12px;\n",
              "    }\n",
              "\n",
              "    .colab-df-convert {\n",
              "      background-color: #E8F0FE;\n",
              "      border: none;\n",
              "      border-radius: 50%;\n",
              "      cursor: pointer;\n",
              "      display: none;\n",
              "      fill: #1967D2;\n",
              "      height: 32px;\n",
              "      padding: 0 0 0 0;\n",
              "      width: 32px;\n",
              "    }\n",
              "\n",
              "    .colab-df-convert:hover {\n",
              "      background-color: #E2EBFA;\n",
              "      box-shadow: 0px 1px 2px rgba(60, 64, 67, 0.3), 0px 1px 3px 1px rgba(60, 64, 67, 0.15);\n",
              "      fill: #174EA6;\n",
              "    }\n",
              "\n",
              "    [theme=dark] .colab-df-convert {\n",
              "      background-color: #3B4455;\n",
              "      fill: #D2E3FC;\n",
              "    }\n",
              "\n",
              "    [theme=dark] .colab-df-convert:hover {\n",
              "      background-color: #434B5C;\n",
              "      box-shadow: 0px 1px 3px 1px rgba(0, 0, 0, 0.15);\n",
              "      filter: drop-shadow(0px 1px 2px rgba(0, 0, 0, 0.3));\n",
              "      fill: #FFFFFF;\n",
              "    }\n",
              "  </style>\n",
              "\n",
              "      <script>\n",
              "        const buttonEl =\n",
              "          document.querySelector('#df-3ae997b7-47ae-4504-bb62-64110699369c button.colab-df-convert');\n",
              "        buttonEl.style.display =\n",
              "          google.colab.kernel.accessAllowed ? 'block' : 'none';\n",
              "\n",
              "        async function convertToInteractive(key) {\n",
              "          const element = document.querySelector('#df-3ae997b7-47ae-4504-bb62-64110699369c');\n",
              "          const dataTable =\n",
              "            await google.colab.kernel.invokeFunction('convertToInteractive',\n",
              "                                                     [key], {});\n",
              "          if (!dataTable) return;\n",
              "\n",
              "          const docLinkHtml = 'Like what you see? Visit the ' +\n",
              "            '<a target=\"_blank\" href=https://colab.research.google.com/notebooks/data_table.ipynb>data table notebook</a>'\n",
              "            + ' to learn more about interactive tables.';\n",
              "          element.innerHTML = '';\n",
              "          dataTable['output_type'] = 'display_data';\n",
              "          await google.colab.output.renderOutput(dataTable, element);\n",
              "          const docLink = document.createElement('div');\n",
              "          docLink.innerHTML = docLinkHtml;\n",
              "          element.appendChild(docLink);\n",
              "        }\n",
              "      </script>\n",
              "    </div>\n",
              "  </div>\n",
              "  "
            ],
            "text/plain": [
              "          Col1       Col2       Col3  ...        Col5       Col6  Class_att\n",
              "0    63.027817  22.552586  39.609117  ...   98.672917  -0.254400   Abnormal\n",
              "1    39.056951  10.060991  25.015378  ...  114.405425   4.564259   Abnormal\n",
              "2    68.832021  22.218482  50.092194  ...  105.985135  -3.530317   Abnormal\n",
              "3    69.297008  24.652878  44.311238  ...  101.868495  11.211523   Abnormal\n",
              "4    49.712859   9.652075  28.317406  ...  108.168725   7.918501   Abnormal\n",
              "..         ...        ...        ...  ...         ...        ...        ...\n",
              "305  47.903565  13.616688  36.000000  ...  117.449062  -4.245395     Normal\n",
              "306  53.936748  20.721496  29.220534  ...  114.365845  -0.421010     Normal\n",
              "307  61.446597  22.694968  46.170347  ...  125.670725  -2.707880     Normal\n",
              "308  45.252792   8.693157  41.583126  ...  118.545842   0.214750     Normal\n",
              "309  33.841641   5.073991  36.641233  ...  123.945244  -0.199249     Normal\n",
              "\n",
              "[310 rows x 7 columns]"
            ]
          },
          "metadata": {},
          "execution_count": 4
        }
      ]
    },
    {
      "cell_type": "code",
      "source": [
        "df.info()"
      ],
      "metadata": {
        "colab": {
          "base_uri": "https://localhost:8080/"
        },
        "id": "L_MTS_3GsnmZ",
        "outputId": "130bb347-7ecb-45cb-fedb-9f4f77af749e"
      },
      "execution_count": null,
      "outputs": [
        {
          "output_type": "stream",
          "name": "stdout",
          "text": [
            "<class 'pandas.core.frame.DataFrame'>\n",
            "RangeIndex: 310 entries, 0 to 309\n",
            "Data columns (total 7 columns):\n",
            " #   Column     Non-Null Count  Dtype  \n",
            "---  ------     --------------  -----  \n",
            " 0   Col1       310 non-null    float64\n",
            " 1   Col2       310 non-null    float64\n",
            " 2   Col3       310 non-null    float64\n",
            " 3   Col4       310 non-null    float64\n",
            " 4   Col5       310 non-null    float64\n",
            " 5   Col6       310 non-null    float64\n",
            " 6   Class_att  310 non-null    object \n",
            "dtypes: float64(6), object(1)\n",
            "memory usage: 17.1+ KB\n"
          ]
        }
      ]
    },
    {
      "cell_type": "code",
      "source": [
        "df['Class_att'].value_counts()"
      ],
      "metadata": {
        "colab": {
          "base_uri": "https://localhost:8080/"
        },
        "id": "RgorIW4ssp_4",
        "outputId": "5bac517e-d1e9-4442-d19f-72aa2036b024"
      },
      "execution_count": null,
      "outputs": [
        {
          "output_type": "execute_result",
          "data": {
            "text/plain": [
              "Abnormal    210\n",
              "Normal      100\n",
              "Name: Class_att, dtype: int64"
            ]
          },
          "metadata": {},
          "execution_count": 5
        }
      ]
    },
    {
      "cell_type": "code",
      "source": [
        "df['Class_att'].value_counts().plot(kind='bar',title='count (target)')"
      ],
      "metadata": {
        "colab": {
          "base_uri": "https://localhost:8080/",
          "height": 337
        },
        "id": "i0mZxF32tD_Y",
        "outputId": "79404d2a-c69a-4362-b4e7-ff320b96e47f"
      },
      "execution_count": null,
      "outputs": [
        {
          "output_type": "execute_result",
          "data": {
            "text/plain": [
              "<matplotlib.axes._subplots.AxesSubplot at 0x7fc9fa3a5690>"
            ]
          },
          "metadata": {},
          "execution_count": 6
        },
        {
          "output_type": "display_data",
          "data": {
            "image/png": "[encoded data removed]",
            "text/plain": [
              "<Figure size 432x288 with 1 Axes>"
            ]
          },
          "metadata": {
            "needs_background": "light"
          }
        }
      ]
    },
    {
      "cell_type": "code",
      "source": [
        "# class count\n",
        "class_count_0,class_count_1 = df['Class_att'].value_counts()\n",
        "\n",
        "#separate classes\n",
        "class_0 = df[df['Class_att']=='Abnormal']\n",
        "class_1 = df[df['Class_att']=='Normal'] \n",
        "# print shape of the class\n",
        "print('class 0 :',class_0.shape)\n",
        "print('class 1 :',class_1.shape)"
      ],
      "metadata": {
        "colab": {
          "base_uri": "https://localhost:8080/"
        },
        "id": "aWV8MgEYtNq1",
        "outputId": "1ad5479c-015d-4f86-92fc-39102cde7dd1"
      },
      "execution_count": null,
      "outputs": [
        {
          "output_type": "stream",
          "name": "stdout",
          "text": [
            "class 0 : (210, 7)\n",
            "class 1 : (100, 7)\n"
          ]
        }
      ]
    },
    {
      "cell_type": "code",
      "source": [
        "class_1_over = class_1.sample(class_count_0,replace=True)\n",
        "\n",
        "# means if input data is repeating or not\n",
        "test_over = pd.concat([class_1_over,class_0],axis=0)\n",
        "print('total class of 1 and 0 :',test_over['Class_att'].value_counts())\n",
        "\n",
        "#plot the count after undersampling\n",
        "test_over['Class_att'].value_counts().plot(kind='bar',title='count(Target')"
      ],
      "metadata": {
        "colab": {
          "base_uri": "https://localhost:8080/",
          "height": 393
        },
        "id": "kptC_35atou4",
        "outputId": "45dded93-d5c1-4a8c-b465-dd7de96cea97"
      },
      "execution_count": null,
      "outputs": [
        {
          "output_type": "stream",
          "name": "stdout",
          "text": [
            "total class of 1 and 0 : Normal      210\n",
            "Abnormal    210\n",
            "Name: Class_att, dtype: int64\n"
          ]
        },
        {
          "output_type": "execute_result",
          "data": {
            "text/plain": [
              "<matplotlib.axes._subplots.AxesSubplot at 0x7fc9f9db69d0>"
            ]
          },
          "metadata": {},
          "execution_count": 8
        },
        {
          "output_type": "display_data",
          "data": {
            "image/png": "[encoded data removed]",
            "text/plain": [
              "<Figure size 432x288 with 1 Axes>"
            ]
          },
          "metadata": {
            "needs_background": "light"
          }
        }
      ]
    },
    {
      "cell_type": "code",
      "source": [
        "x = df.drop('Class_att',axis=1)\n",
        "y = df['Class_att']"
      ],
      "metadata": {
        "id": "Vb4EplBctzc5"
      },
      "execution_count": null,
      "outputs": []
    },
    {
      "cell_type": "code",
      "source": [
        "x_train,x_test,y_train,y_test=train_test_split(x,y,test_size=0.2)"
      ],
      "metadata": {
        "id": "Ryvf043Vt6uG"
      },
      "execution_count": null,
      "outputs": []
    },
    {
      "cell_type": "code",
      "source": [
        "sc = StandardScaler()\n",
        "\n",
        "scaler = sc.fit(x_train)\n",
        "x_train_scaled = scaler.transform(x_train)\n",
        "x_test_scaled = scaler.transform(x_test)"
      ],
      "metadata": {
        "id": "MMr_g67Yt9xV"
      },
      "execution_count": null,
      "outputs": []
    },
    {
      "cell_type": "code",
      "source": [
        "mlp_clf = MLPClassifier(hidden_layer_sizes=(20,10),\n",
        "                        max_iter=400,activation='relu',\n",
        "                        verbose=True,\n",
        "                        solver='adam')\n",
        "\n",
        "mlp_clf.fit(x_train_scaled,y_train)"
      ],
      "metadata": {
        "colab": {
          "base_uri": "https://localhost:8080/"
        },
        "id": "GVLgQ5C3uAb1",
        "outputId": "9ebd1a32-dbf0-4f44-e030-1a4ca6ade734"
      },
      "execution_count": null,
      "outputs": [
        {
          "output_type": "stream",
          "name": "stdout",
          "text": [
            "Iteration 1, loss = 0.79296624\n",
            "Iteration 2, loss = 0.78696947\n",
            "Iteration 3, loss = 0.78126544\n",
            "Iteration 4, loss = 0.77549009\n",
            "Iteration 5, loss = 0.77024074\n",
            "Iteration 6, loss = 0.76494128\n",
            "Iteration 7, loss = 0.75958521\n",
            "Iteration 8, loss = 0.75413870\n",
            "Iteration 9, loss = 0.74867342\n",
            "Iteration 10, loss = 0.74302469\n",
            "Iteration 11, loss = 0.73727822\n",
            "Iteration 12, loss = 0.73144820\n",
            "Iteration 13, loss = 0.72569448\n",
            "Iteration 14, loss = 0.71956324\n",
            "Iteration 15, loss = 0.71381079\n",
            "Iteration 16, loss = 0.70793372\n",
            "Iteration 17, loss = 0.70174282\n",
            "Iteration 18, loss = 0.69583582\n",
            "Iteration 19, loss = 0.68947687\n",
            "Iteration 20, loss = 0.68325002\n",
            "Iteration 21, loss = 0.67672451\n",
            "Iteration 22, loss = 0.67020435\n",
            "Iteration 23, loss = 0.66341410\n",
            "Iteration 24, loss = 0.65666427\n",
            "Iteration 25, loss = 0.65002265\n",
            "Iteration 26, loss = 0.64344967\n",
            "Iteration 27, loss = 0.63637482\n",
            "Iteration 28, loss = 0.62954552\n",
            "Iteration 29, loss = 0.62298882\n",
            "Iteration 30, loss = 0.61606961\n",
            "Iteration 31, loss = 0.60887584\n",
            "Iteration 32, loss = 0.60205071\n",
            "Iteration 33, loss = 0.59514598\n",
            "Iteration 34, loss = 0.58792970\n",
            "Iteration 35, loss = 0.58077340\n",
            "Iteration 36, loss = 0.57358242\n",
            "Iteration 37, loss = 0.56636203\n",
            "Iteration 38, loss = 0.55937509\n",
            "Iteration 39, loss = 0.55230534\n",
            "Iteration 40, loss = 0.54506000\n",
            "Iteration 41, loss = 0.53797657\n",
            "Iteration 42, loss = 0.53095820\n",
            "Iteration 43, loss = 0.52409562\n",
            "Iteration 44, loss = 0.51738977\n",
            "Iteration 45, loss = 0.51066242\n",
            "Iteration 46, loss = 0.50417173\n",
            "Iteration 47, loss = 0.49789963\n",
            "Iteration 48, loss = 0.49180372\n",
            "Iteration 49, loss = 0.48583348\n",
            "Iteration 50, loss = 0.48013690\n",
            "Iteration 51, loss = 0.47433623\n",
            "Iteration 52, loss = 0.46896191\n",
            "Iteration 53, loss = 0.46382029\n",
            "Iteration 54, loss = 0.45887517\n",
            "Iteration 55, loss = 0.45424603\n",
            "Iteration 56, loss = 0.44982763\n",
            "Iteration 57, loss = 0.44559238\n",
            "Iteration 58, loss = 0.44154259\n",
            "Iteration 59, loss = 0.43756497\n",
            "Iteration 60, loss = 0.43382621\n",
            "Iteration 61, loss = 0.43048979\n",
            "Iteration 62, loss = 0.42695694\n",
            "Iteration 63, loss = 0.42384491\n",
            "Iteration 64, loss = 0.42087810\n",
            "Iteration 65, loss = 0.41778310\n",
            "Iteration 66, loss = 0.41485949\n",
            "Iteration 67, loss = 0.41223033\n",
            "Iteration 68, loss = 0.40945675\n",
            "Iteration 69, loss = 0.40688855\n",
            "Iteration 70, loss = 0.40427131\n",
            "Iteration 71, loss = 0.40183941\n",
            "Iteration 72, loss = 0.39937353\n",
            "Iteration 73, loss = 0.39690443\n",
            "Iteration 74, loss = 0.39454005\n",
            "Iteration 75, loss = 0.39222581\n",
            "Iteration 76, loss = 0.38996227\n",
            "Iteration 77, loss = 0.38777089\n",
            "Iteration 78, loss = 0.38564999\n",
            "Iteration 79, loss = 0.38365770\n",
            "Iteration 80, loss = 0.38178697\n",
            "Iteration 81, loss = 0.37977182\n",
            "Iteration 82, loss = 0.37799468\n",
            "Iteration 83, loss = 0.37585774\n",
            "Iteration 84, loss = 0.37362216\n",
            "Iteration 85, loss = 0.37143918\n",
            "Iteration 86, loss = 0.36923078\n",
            "Iteration 87, loss = 0.36722265\n",
            "Iteration 88, loss = 0.36523956\n",
            "Iteration 89, loss = 0.36320673\n",
            "Iteration 90, loss = 0.36142126\n",
            "Iteration 91, loss = 0.35957115\n",
            "Iteration 92, loss = 0.35802930\n",
            "Iteration 93, loss = 0.35612811\n",
            "Iteration 94, loss = 0.35441837\n",
            "Iteration 95, loss = 0.35271720\n",
            "Iteration 96, loss = 0.35094429\n",
            "Iteration 97, loss = 0.34922566\n",
            "Iteration 98, loss = 0.34743190\n",
            "Iteration 99, loss = 0.34582277\n",
            "Iteration 100, loss = 0.34404551\n",
            "Iteration 101, loss = 0.34242858\n",
            "Iteration 102, loss = 0.34079652\n",
            "Iteration 103, loss = 0.33914026\n",
            "Iteration 104, loss = 0.33766444\n",
            "Iteration 105, loss = 0.33609559\n",
            "Iteration 106, loss = 0.33455595\n",
            "Iteration 107, loss = 0.33306336\n",
            "Iteration 108, loss = 0.33148981\n",
            "Iteration 109, loss = 0.32994980\n",
            "Iteration 110, loss = 0.32841349\n",
            "Iteration 111, loss = 0.32711695\n",
            "Iteration 112, loss = 0.32567501\n",
            "Iteration 113, loss = 0.32435672\n",
            "Iteration 114, loss = 0.32295018\n",
            "Iteration 115, loss = 0.32157469\n",
            "Iteration 116, loss = 0.32021999\n",
            "Iteration 117, loss = 0.31867406\n",
            "Iteration 118, loss = 0.31719835\n",
            "Iteration 119, loss = 0.31569659\n",
            "Iteration 120, loss = 0.31413646\n",
            "Iteration 121, loss = 0.31268120\n",
            "Iteration 122, loss = 0.31125992\n",
            "Iteration 123, loss = 0.31001792\n",
            "Iteration 124, loss = 0.30872707\n",
            "Iteration 125, loss = 0.30767306\n",
            "Iteration 126, loss = 0.30644361\n",
            "Iteration 127, loss = 0.30523474\n",
            "Iteration 128, loss = 0.30398023\n",
            "Iteration 129, loss = 0.30274651\n",
            "Iteration 130, loss = 0.30179729\n",
            "Iteration 131, loss = 0.30052046\n",
            "Iteration 132, loss = 0.29965037\n",
            "Iteration 133, loss = 0.29858597\n",
            "Iteration 134, loss = 0.29783559\n",
            "Iteration 135, loss = 0.29677509\n",
            "Iteration 136, loss = 0.29572665\n",
            "Iteration 137, loss = 0.29444398\n",
            "Iteration 138, loss = 0.29335862\n",
            "Iteration 139, loss = 0.29208293\n",
            "Iteration 140, loss = 0.29095847\n",
            "Iteration 141, loss = 0.28997230\n",
            "Iteration 142, loss = 0.28891636\n",
            "Iteration 143, loss = 0.28795368\n",
            "Iteration 144, loss = 0.28706781\n",
            "Iteration 145, loss = 0.28644422\n",
            "Iteration 146, loss = 0.28562224\n",
            "Iteration 147, loss = 0.28487257\n",
            "Iteration 148, loss = 0.28419538\n",
            "Iteration 149, loss = 0.28335997\n",
            "Iteration 150, loss = 0.28233668\n",
            "Iteration 151, loss = 0.28125569\n",
            "Iteration 152, loss = 0.28021696\n",
            "Iteration 153, loss = 0.27902983\n",
            "Iteration 154, loss = 0.27859069\n",
            "Iteration 155, loss = 0.27761820\n",
            "Iteration 156, loss = 0.27688873\n",
            "Iteration 157, loss = 0.27619856\n",
            "Iteration 158, loss = 0.27535422\n",
            "Iteration 159, loss = 0.27460729\n",
            "Iteration 160, loss = 0.27371252\n",
            "Iteration 161, loss = 0.27288305\n",
            "Iteration 162, loss = 0.27209701\n",
            "Iteration 163, loss = 0.27152745\n",
            "Iteration 164, loss = 0.27127941\n",
            "Iteration 165, loss = 0.27081669\n",
            "Iteration 166, loss = 0.27056829\n",
            "Iteration 167, loss = 0.26996873\n",
            "Iteration 168, loss = 0.26940696\n",
            "Iteration 169, loss = 0.26836965\n",
            "Iteration 170, loss = 0.26774292\n",
            "Iteration 171, loss = 0.26709801\n",
            "Iteration 172, loss = 0.26656560\n",
            "Iteration 173, loss = 0.26591951\n",
            "Iteration 174, loss = 0.26515510\n",
            "Iteration 175, loss = 0.26427032\n",
            "Iteration 176, loss = 0.26365969\n",
            "Iteration 177, loss = 0.26312767\n",
            "Iteration 178, loss = 0.26247798\n",
            "Iteration 179, loss = 0.26208836\n",
            "Iteration 180, loss = 0.26182901\n",
            "Iteration 181, loss = 0.26153352\n",
            "Iteration 182, loss = 0.26119135\n",
            "Iteration 183, loss = 0.26067744\n",
            "Iteration 184, loss = 0.26013409\n",
            "Iteration 185, loss = 0.25960042\n",
            "Iteration 186, loss = 0.25906708\n",
            "Iteration 187, loss = 0.25860071\n",
            "Iteration 188, loss = 0.25818751\n",
            "Iteration 189, loss = 0.25771513\n",
            "Iteration 190, loss = 0.25730382\n",
            "Iteration 191, loss = 0.25684696\n",
            "Iteration 192, loss = 0.25657313\n",
            "Iteration 193, loss = 0.25645524\n",
            "Iteration 194, loss = 0.25601718\n",
            "Iteration 195, loss = 0.25563439\n",
            "Iteration 196, loss = 0.25529881\n",
            "Iteration 197, loss = 0.25492369\n",
            "Iteration 198, loss = 0.25457356\n",
            "Iteration 199, loss = 0.25420385\n",
            "Iteration 200, loss = 0.25377208\n",
            "Iteration 201, loss = 0.25347456\n",
            "Iteration 202, loss = 0.25304983\n",
            "Iteration 203, loss = 0.25264785\n",
            "Iteration 204, loss = 0.25242528\n",
            "Iteration 205, loss = 0.25215085\n",
            "Iteration 206, loss = 0.25177245\n",
            "Iteration 207, loss = 0.25133224\n",
            "Iteration 208, loss = 0.25108353\n",
            "Iteration 209, loss = 0.25079632\n",
            "Iteration 210, loss = 0.25053946\n",
            "Iteration 211, loss = 0.25020275\n",
            "Iteration 212, loss = 0.24994870\n",
            "Iteration 213, loss = 0.24959969\n",
            "Iteration 214, loss = 0.24926842\n",
            "Iteration 215, loss = 0.24899670\n",
            "Iteration 216, loss = 0.24870637\n",
            "Iteration 217, loss = 0.24843816\n",
            "Iteration 218, loss = 0.24821929\n",
            "Iteration 219, loss = 0.24798937\n",
            "Iteration 220, loss = 0.24756426\n",
            "Iteration 221, loss = 0.24722811\n",
            "Iteration 222, loss = 0.24685875\n",
            "Iteration 223, loss = 0.24665129\n",
            "Iteration 224, loss = 0.24631072\n",
            "Iteration 225, loss = 0.24608103\n",
            "Iteration 226, loss = 0.24582327\n",
            "Iteration 227, loss = 0.24556464\n",
            "Iteration 228, loss = 0.24532113\n",
            "Iteration 229, loss = 0.24506208\n",
            "Iteration 230, loss = 0.24478180\n",
            "Iteration 231, loss = 0.24453262\n",
            "Iteration 232, loss = 0.24435277\n",
            "Iteration 233, loss = 0.24410021\n",
            "Iteration 234, loss = 0.24379522\n",
            "Iteration 235, loss = 0.24347656\n",
            "Iteration 236, loss = 0.24322024\n",
            "Iteration 237, loss = 0.24304522\n",
            "Iteration 238, loss = 0.24279937\n",
            "Iteration 239, loss = 0.24249452\n",
            "Iteration 240, loss = 0.24210503\n",
            "Iteration 241, loss = 0.24170250\n",
            "Iteration 242, loss = 0.24160572\n",
            "Iteration 243, loss = 0.24147787\n",
            "Iteration 244, loss = 0.24153716\n",
            "Iteration 245, loss = 0.24165805\n",
            "Iteration 246, loss = 0.24171776\n",
            "Iteration 247, loss = 0.24162036\n",
            "Iteration 248, loss = 0.24131354\n",
            "Iteration 249, loss = 0.24098693\n",
            "Iteration 250, loss = 0.24054642\n",
            "Iteration 251, loss = 0.24029240\n",
            "Iteration 252, loss = 0.23966264\n",
            "Iteration 253, loss = 0.23932724\n",
            "Iteration 254, loss = 0.23910076\n",
            "Iteration 255, loss = 0.23870220\n",
            "Iteration 256, loss = 0.23847470\n",
            "Iteration 257, loss = 0.23817621\n",
            "Iteration 258, loss = 0.23800355\n",
            "Iteration 259, loss = 0.23782016\n",
            "Iteration 260, loss = 0.23764095\n",
            "Iteration 261, loss = 0.23729604\n",
            "Iteration 262, loss = 0.23699026\n",
            "Iteration 263, loss = 0.23688144\n",
            "Iteration 264, loss = 0.23669101\n",
            "Iteration 265, loss = 0.23632283\n",
            "Iteration 266, loss = 0.23615544\n",
            "Iteration 267, loss = 0.23631193\n",
            "Iteration 268, loss = 0.23613663\n",
            "Iteration 269, loss = 0.23594607\n",
            "Iteration 270, loss = 0.23574806\n",
            "Iteration 271, loss = 0.23533372\n",
            "Iteration 272, loss = 0.23501949\n",
            "Iteration 273, loss = 0.23487488\n",
            "Iteration 274, loss = 0.23465698\n",
            "Iteration 275, loss = 0.23444041\n",
            "Iteration 276, loss = 0.23424621\n",
            "Iteration 277, loss = 0.23405505\n",
            "Iteration 278, loss = 0.23384156\n",
            "Iteration 279, loss = 0.23368265\n",
            "Iteration 280, loss = 0.23345207\n",
            "Iteration 281, loss = 0.23326394\n",
            "Iteration 282, loss = 0.23305690\n",
            "Iteration 283, loss = 0.23297228\n",
            "Iteration 284, loss = 0.23270231\n",
            "Iteration 285, loss = 0.23263949\n",
            "Iteration 286, loss = 0.23237421\n",
            "Iteration 287, loss = 0.23216244\n",
            "Iteration 288, loss = 0.23205819\n",
            "Iteration 289, loss = 0.23172750\n",
            "Iteration 290, loss = 0.23154193\n",
            "Iteration 291, loss = 0.23129773\n",
            "Iteration 292, loss = 0.23108001\n",
            "Iteration 293, loss = 0.23082093\n",
            "Iteration 294, loss = 0.23074850\n",
            "Iteration 295, loss = 0.23043116\n",
            "Iteration 296, loss = 0.23025769\n",
            "Iteration 297, loss = 0.23014997\n",
            "Iteration 298, loss = 0.22993790\n",
            "Iteration 299, loss = 0.22979397\n",
            "Iteration 300, loss = 0.22962905\n",
            "Iteration 301, loss = 0.22958627\n",
            "Iteration 302, loss = 0.22935728\n",
            "Iteration 303, loss = 0.22914641\n",
            "Iteration 304, loss = 0.22896687\n",
            "Iteration 305, loss = 0.22874792\n",
            "Iteration 306, loss = 0.22862838\n",
            "Iteration 307, loss = 0.22831595\n",
            "Iteration 308, loss = 0.22817944\n",
            "Iteration 309, loss = 0.22815495\n",
            "Iteration 310, loss = 0.22780332\n",
            "Iteration 311, loss = 0.22771049\n",
            "Iteration 312, loss = 0.22756535\n",
            "Iteration 313, loss = 0.22736451\n",
            "Iteration 314, loss = 0.22726518\n",
            "Iteration 315, loss = 0.22717503\n",
            "Iteration 316, loss = 0.22692403\n",
            "Iteration 317, loss = 0.22674924\n",
            "Iteration 318, loss = 0.22659715\n",
            "Iteration 319, loss = 0.22643981\n",
            "Iteration 320, loss = 0.22622621\n",
            "Iteration 321, loss = 0.22607570\n",
            "Iteration 322, loss = 0.22592711\n",
            "Iteration 323, loss = 0.22569139\n",
            "Iteration 324, loss = 0.22560813\n",
            "Iteration 325, loss = 0.22532410\n",
            "Iteration 326, loss = 0.22504614\n",
            "Iteration 327, loss = 0.22491199\n",
            "Iteration 328, loss = 0.22504978\n",
            "Iteration 329, loss = 0.22532664\n",
            "Iteration 330, loss = 0.22539764\n",
            "Iteration 331, loss = 0.22507237\n",
            "Iteration 332, loss = 0.22477145\n",
            "Iteration 333, loss = 0.22429969\n",
            "Iteration 334, loss = 0.22391854\n",
            "Iteration 335, loss = 0.22372976\n",
            "Iteration 336, loss = 0.22334151\n",
            "Iteration 337, loss = 0.22309601\n",
            "Iteration 338, loss = 0.22317303\n",
            "Iteration 339, loss = 0.22284442\n",
            "Iteration 340, loss = 0.22260381\n",
            "Iteration 341, loss = 0.22237786\n",
            "Iteration 342, loss = 0.22211544\n",
            "Iteration 343, loss = 0.22190608\n",
            "Iteration 344, loss = 0.22175884\n",
            "Iteration 345, loss = 0.22173689\n",
            "Iteration 346, loss = 0.22165317\n",
            "Iteration 347, loss = 0.22155993\n",
            "Iteration 348, loss = 0.22139814\n",
            "Iteration 349, loss = 0.22124636\n",
            "Iteration 350, loss = 0.22099301\n",
            "Iteration 351, loss = 0.22083206\n",
            "Iteration 352, loss = 0.22064635\n",
            "Iteration 353, loss = 0.22040714\n",
            "Iteration 354, loss = 0.22015865\n",
            "Iteration 355, loss = 0.22011606\n",
            "Iteration 356, loss = 0.21992270\n",
            "Iteration 357, loss = 0.21982081\n",
            "Iteration 358, loss = 0.21972357\n",
            "Iteration 359, loss = 0.21965454\n",
            "Iteration 360, loss = 0.21932433\n",
            "Iteration 361, loss = 0.21933202\n",
            "Iteration 362, loss = 0.21912509\n",
            "Iteration 363, loss = 0.21891194\n",
            "Iteration 364, loss = 0.21876309\n",
            "Iteration 365, loss = 0.21853559\n",
            "Iteration 366, loss = 0.21847489\n",
            "Iteration 367, loss = 0.21819465\n",
            "Iteration 368, loss = 0.21804651\n",
            "Iteration 369, loss = 0.21793667\n",
            "Iteration 370, loss = 0.21773506\n",
            "Iteration 371, loss = 0.21765972\n",
            "Iteration 372, loss = 0.21748749\n",
            "Iteration 373, loss = 0.21734518\n",
            "Iteration 374, loss = 0.21739329\n",
            "Iteration 375, loss = 0.21715025\n",
            "Iteration 376, loss = 0.21684120\n",
            "Iteration 377, loss = 0.21664283\n",
            "Iteration 378, loss = 0.21658781\n",
            "Iteration 379, loss = 0.21622042\n",
            "Iteration 380, loss = 0.21635759\n",
            "Iteration 381, loss = 0.21615365\n",
            "Iteration 382, loss = 0.21616909\n",
            "Iteration 383, loss = 0.21615939\n",
            "Iteration 384, loss = 0.21633686\n",
            "Iteration 385, loss = 0.21603072\n",
            "Iteration 386, loss = 0.21573574\n",
            "Iteration 387, loss = 0.21532312\n",
            "Iteration 388, loss = 0.21503604\n",
            "Iteration 389, loss = 0.21499928\n",
            "Iteration 390, loss = 0.21465801\n",
            "Iteration 391, loss = 0.21447978\n",
            "Iteration 392, loss = 0.21446074\n",
            "Iteration 393, loss = 0.21436674\n",
            "Iteration 394, loss = 0.21427366\n",
            "Iteration 395, loss = 0.21410876\n",
            "Iteration 396, loss = 0.21394233\n",
            "Iteration 397, loss = 0.21379514\n",
            "Iteration 398, loss = 0.21367335\n",
            "Iteration 399, loss = 0.21369570\n",
            "Iteration 400, loss = 0.21378618\n"
          ]
        },
        {
          "output_type": "stream",
          "name": "stderr",
          "text": [
            "/usr/local/lib/python3.7/dist-packages/sklearn/neural_network/_multilayer_perceptron.py:696: ConvergenceWarning: Stochastic Optimizer: Maximum iterations (400) reached and the optimization hasn't converged yet.\n",
            "  ConvergenceWarning,\n"
          ]
        },
        {
          "output_type": "execute_result",
          "data": {
            "text/plain": [
              "MLPClassifier(hidden_layer_sizes=(20, 10), max_iter=400, verbose=True)"
            ]
          },
          "metadata": {},
          "execution_count": 55
        }
      ]
    },
    {
      "cell_type": "code",
      "source": [
        "y_pred = mlp_clf.predict(x_test_scaled)\n",
        "print('Accuracy : {:.5f}'.format(accuracy_score(y_test,y_pred)))"
      ],
      "metadata": {
        "colab": {
          "base_uri": "https://localhost:8080/"
        },
        "id": "D5VjptXVuKWX",
        "outputId": "a552c2f8-2d07-4d83-88e0-13c3f1d49194"
      },
      "execution_count": null,
      "outputs": [
        {
          "output_type": "stream",
          "name": "stdout",
          "text": [
            "Accuracy : 0.87097\n"
          ]
        }
      ]
    },
    {
      "cell_type": "code",
      "source": [],
      "metadata": {
        "id": "iytusCgRuY_E"
      },
      "execution_count": null,
      "outputs": []
    }
  ]
}