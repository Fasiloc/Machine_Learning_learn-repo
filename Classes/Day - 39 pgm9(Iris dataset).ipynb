{
 "cells": [
  {
   "cell_type": "markdown",
   "id": "39ec3468",
   "metadata": {},
   "source": [
    "In this code, we use the Iris flower data set. That data set contains three classes of 50 instances each, where each class refers to a type of Iris plant."
   ]
  },
  {
   "cell_type": "code",
   "execution_count": 3,
   "id": "daa2381b",
   "metadata": {},
   "outputs": [],
   "source": [
    "from sklearn import svm, datasets\n",
    "import sklearn.model_selection as model_selection\n",
    "from sklearn.metrics import accuracy_score\n",
    "from sklearn.metrics import f1_score\n",
    "import matplotlib.pyplot as plt\n",
    "import numpy as np"
   ]
  },
  {
   "cell_type": "markdown",
   "id": "984832cc",
   "metadata": {},
   "source": [
    "Load Iris data set from Scikitlearn, no need to download it separately:"
   ]
  },
  {
   "cell_type": "code",
   "execution_count": 4,
   "id": "c566eae0",
   "metadata": {},
   "outputs": [],
   "source": [
    "iris = datasets.load_iris()"
   ]
  },
  {
   "cell_type": "code",
   "execution_count": 5,
   "id": "86992b49",
   "metadata": {},
   "outputs": [],
   "source": [
    "X = iris.data[:,:2]\n",
    "y = iris.target\n",
    "X_train, X_test, y_train, y_test = model_selection.train_test_split(X, y, train_size=0.80, test_size=0.20, random_state=101)"
   ]
  },
  {
   "cell_type": "code",
   "execution_count": 15,
   "id": "1ac29238",
   "metadata": {},
   "outputs": [
    {
     "data": {
      "text/plain": [
       "array(['setosa', 'versicolor', 'virginica'], dtype='<U10')"
      ]
     },
     "execution_count": 15,
     "metadata": {},
     "output_type": "execute_result"
    }
   ],
   "source": [
    "iris.target_names"
   ]
  },
  {
   "cell_type": "markdown",
   "id": "a2cddd71",
   "metadata": {},
   "source": [
    "We’ll create two objects from SVM, to create two different classifiers; one with Polynomial kernel, and another one with RBF kernel:"
   ]
  },
  {
   "cell_type": "code",
   "execution_count": 6,
   "id": "ad29a9bb",
   "metadata": {},
   "outputs": [
    {
     "data": {
      "text/plain": [
       "array([[6.5, 3. ],\n",
       "       [5.5, 2.5],\n",
       "       [6.5, 3. ],\n",
       "       [5.8, 2.7],\n",
       "       [6.8, 3. ],\n",
       "       [5.7, 2.8],\n",
       "       [6.7, 3.1],\n",
       "       [5.9, 3. ],\n",
       "       [5.6, 2.7],\n",
       "       [7.7, 3. ],\n",
       "       [5.1, 3.7],\n",
       "       [4.6, 3.6],\n",
       "       [4.7, 3.2],\n",
       "       [6.7, 3. ],\n",
       "       [5.6, 3. ],\n",
       "       [4.3, 3. ],\n",
       "       [7.1, 3. ],\n",
       "       [5.8, 2.7],\n",
       "       [4.9, 3.1],\n",
       "       [5.1, 2.5],\n",
       "       [5.6, 2.5],\n",
       "       [5.1, 3.3],\n",
       "       [5.8, 2.7],\n",
       "       [5. , 3.6],\n",
       "       [4.9, 2.4],\n",
       "       [6.7, 2.5],\n",
       "       [5.8, 2.6],\n",
       "       [4.9, 3.6],\n",
       "       [5.1, 3.4],\n",
       "       [6.1, 3. ],\n",
       "       [4.6, 3.4],\n",
       "       [6.4, 3.2],\n",
       "       [7.7, 2.6],\n",
       "       [6.3, 3.4],\n",
       "       [5.4, 3. ],\n",
       "       [5.8, 4. ],\n",
       "       [6. , 2.9],\n",
       "       [4.6, 3.1],\n",
       "       [5.8, 2.7],\n",
       "       [6.9, 3.2],\n",
       "       [6. , 3.4],\n",
       "       [6.2, 3.4],\n",
       "       [6.6, 2.9],\n",
       "       [6.3, 3.3],\n",
       "       [4.7, 3.2],\n",
       "       [4.8, 3. ],\n",
       "       [4.9, 3.1],\n",
       "       [6.5, 2.8],\n",
       "       [4.6, 3.2],\n",
       "       [5.1, 3.8],\n",
       "       [5. , 3.4],\n",
       "       [7.4, 2.8],\n",
       "       [5.2, 3.5],\n",
       "       [5.4, 3.4],\n",
       "       [6. , 3. ],\n",
       "       [6.2, 2.8],\n",
       "       [4.8, 3.1],\n",
       "       [5. , 3.2],\n",
       "       [7.2, 3.2],\n",
       "       [7.2, 3.6],\n",
       "       [5.7, 2.5],\n",
       "       [4.8, 3.4],\n",
       "       [5.7, 2.6],\n",
       "       [6.8, 3.2],\n",
       "       [5.1, 3.5],\n",
       "       [4.8, 3. ],\n",
       "       [6. , 2.2],\n",
       "       [6.4, 2.8],\n",
       "       [5.7, 4.4],\n",
       "       [6.1, 2.8],\n",
       "       [5.7, 3.8],\n",
       "       [4.9, 2.5],\n",
       "       [7.7, 3.8],\n",
       "       [4.4, 3. ],\n",
       "       [6.3, 2.9],\n",
       "       [6.3, 3.3],\n",
       "       [6.9, 3.1],\n",
       "       [6.7, 3.3],\n",
       "       [5. , 3.4],\n",
       "       [6.9, 3.1],\n",
       "       [5.2, 3.4],\n",
       "       [5.7, 2.8],\n",
       "       [6.3, 2.8],\n",
       "       [5.5, 3.5],\n",
       "       [6. , 2.2],\n",
       "       [4.4, 2.9],\n",
       "       [6.7, 3.1],\n",
       "       [6.1, 2.8],\n",
       "       [7.6, 3. ],\n",
       "       [5.1, 3.5],\n",
       "       [6.7, 3.3],\n",
       "       [7.3, 2.9],\n",
       "       [5.9, 3. ],\n",
       "       [6.8, 2.8],\n",
       "       [5.4, 3.7],\n",
       "       [5.1, 3.8],\n",
       "       [5.6, 2.8],\n",
       "       [6.3, 2.5],\n",
       "       [5.1, 3.8],\n",
       "       [5.2, 2.7],\n",
       "       [7.9, 3.8],\n",
       "       [6.4, 3.2],\n",
       "       [6.4, 2.7],\n",
       "       [6. , 2.7],\n",
       "       [5. , 3.3],\n",
       "       [6.9, 3.1],\n",
       "       [5.4, 3.9],\n",
       "       [6.5, 3.2],\n",
       "       [5. , 2. ],\n",
       "       [6.7, 3. ],\n",
       "       [6.4, 2.8],\n",
       "       [5. , 3.5],\n",
       "       [6.4, 3.1],\n",
       "       [6.6, 3. ],\n",
       "       [6.3, 2.3],\n",
       "       [6.1, 2.9],\n",
       "       [5.9, 3.2],\n",
       "       [5.5, 2.4],\n",
       "       [4.8, 3.4],\n",
       "       [5.7, 3. ]])"
      ]
     },
     "execution_count": 6,
     "metadata": {},
     "output_type": "execute_result"
    }
   ],
   "source": [
    "X_train"
   ]
  },
  {
   "cell_type": "code",
   "execution_count": 7,
   "id": "14530517",
   "metadata": {},
   "outputs": [],
   "source": [
    "rbf = svm.SVC(kernel='rbf', gamma=0.5, C=0.1).fit(X_train, y_train)\n",
    "poly = svm.SVC(kernel='poly', degree=3, C=1).fit(X_train, y_train)"
   ]
  },
  {
   "cell_type": "markdown",
   "id": "25a96c2d",
   "metadata": {},
   "source": [
    "To calculate the efficiency of the two models, we’ll test the two classifiers using the test data set:"
   ]
  },
  {
   "cell_type": "code",
   "execution_count": 8,
   "id": "942ee3a1",
   "metadata": {},
   "outputs": [],
   "source": [
    "poly_pred = poly.predict(X_test)\n",
    "rbf_pred = rbf.predict(X_test)"
   ]
  },
  {
   "cell_type": "markdown",
   "id": "281473d2",
   "metadata": {},
   "source": [
    "Finally, we’ll calculate the accuracy and f1 scores for SVM with Polynomial kernel:"
   ]
  },
  {
   "cell_type": "code",
   "execution_count": 9,
   "id": "258b0404",
   "metadata": {},
   "outputs": [
    {
     "name": "stdout",
     "output_type": "stream",
     "text": [
      "Accuracy (Polynomial Kernel):  70.00\n",
      "F1 (Polynomial Kernel):  69.67\n"
     ]
    }
   ],
   "source": [
    "poly_accuracy = accuracy_score(y_test, poly_pred)\n",
    "poly_f1 = f1_score(y_test, poly_pred, average='weighted')\n",
    "print('Accuracy (Polynomial Kernel): ', \"%.2f\" % (poly_accuracy*100))\n",
    "print('F1 (Polynomial Kernel): ', \"%.2f\" % (poly_f1*100))"
   ]
  },
  {
   "cell_type": "markdown",
   "id": "db8885e6",
   "metadata": {},
   "source": [
    "In the same way, the accuracy and f1 scores for SVM with RBF kernel:"
   ]
  },
  {
   "cell_type": "code",
   "execution_count": 10,
   "id": "625ceaa9",
   "metadata": {},
   "outputs": [
    {
     "name": "stdout",
     "output_type": "stream",
     "text": [
      "Accuracy (RBF Kernel):  76.67\n",
      "F1 (RBF Kernel):  76.36\n"
     ]
    }
   ],
   "source": [
    "rbf_accuracy = accuracy_score(y_test, rbf_pred)\n",
    "rbf_f1 = f1_score(y_test, rbf_pred, average='weighted')\n",
    "print('Accuracy (RBF Kernel): ', \"%.2f\" % (rbf_accuracy*100))\n",
    "print('F1 (RBF Kernel): ', \"%.2f\" % (rbf_f1*100))"
   ]
  },
  {
   "cell_type": "markdown",
   "id": "c74be818",
   "metadata": {},
   "source": [
    "Out of the known metrics for validating machine learning models, we choose Accuracy and F1 as they are the most used in supervised machine learning.\n",
    "\n",
    "For the accuracy score, it shows the percentage of the true positive and true negative to all data points. So, it’s useful when the data set is balanced.\n",
    "\n",
    "For the f1 score, it calculates the harmonic mean between precision and recall, and both depend on the false positive and false negative. So, it’s useful to calculate the f1 score when the data set isn’t balanced.\n",
    "\n",
    "Playing around with SVM hyperparameters, like C, gamma, and degree in the previous code snippet will display different results. As we can see, in this problem, SVM with RBF kernel function is outperforming SVM with Polynomial kernel function."
   ]
  },
  {
   "cell_type": "code",
   "execution_count": 16,
   "id": "a39e847a",
   "metadata": {},
   "outputs": [],
   "source": [
    "#stepsize in the mesh, it alters the accuracy of the plotprint\n",
    "#to better understand it, just play with the value, change it and print it\n",
    "\n",
    "#The purpose of meshgrid is to create a rectangular grid out of an array of x values and an array of y values.\n",
    "h = .01\n",
    "#create the mesh\n",
    "x_min, x_max = X[:, 0].min() - 1, X[:, 0].max() + 1\n",
    "y_min, y_max = X[:, 1].min() - 1, X[:, 1].max() + 1\n",
    "xx, yy = np.meshgrid(np.arange(x_min, x_max, h),np.arange(y_min, y_max, h))\n",
    "# create the title that will be shown on the plot\n",
    "titles = ['RBF kernel','Polynomial kernel','Sigmoid kernel']"
   ]
  },
  {
   "cell_type": "code",
   "execution_count": 18,
   "id": "ccfd3cf7",
   "metadata": {},
   "outputs": [
    {
     "data": {
      "image/png": "[encoded data removed]",
      "text/plain": [
       "<Figure size 432x288 with 1 Axes>"
      ]
     },
     "metadata": {},
     "output_type": "display_data"
    },
    {
     "data": {
      "image/png": "[encoded data removed]",
      "text/plain": [
       "<Figure size 432x288 with 1 Axes>"
      ]
     },
     "metadata": {},
     "output_type": "display_data"
    }
   ],
   "source": [
    "for i, clf in enumerate(( rbf, poly)):\n",
    "    #defines how many plots: 2 rows, 2columns=> leading to 4 plots\n",
    "    plt.subplot(2, 2, i + 1) #i+1 is the index\n",
    "    #space between plots\n",
    "    plt.subplots_adjust(wspace=0.4, hspace=0.4) \n",
    " #ravel() functions returns contiguous flattened array(1D array with all the input-array elements and with the same type as it). A copy is made only if needed.                 \n",
    "    Z = clf.predict(np.c_[xx.ravel(), yy.ravel()])\n",
    "    # Put the result into a color plot\n",
    "    Z = Z.reshape(xx.shape)\n",
    "    plt.contourf(xx, yy, Z, cmap=plt.cm.PuBuGn, alpha=0.7)\n",
    "    # Plot also the training points\n",
    "    plt.scatter(X[:, 0], X[:, 1], c=y, cmap=plt.cm.PuBuGn,     edgecolors='grey')\n",
    "    plt.xlabel('Sepal length')\n",
    "    plt.ylabel('Sepal width')\n",
    "    plt.xlim(xx.min(), xx.max())\n",
    "    plt.ylim(yy.min(), yy.max())\n",
    "    plt.xticks(())\n",
    "    plt.yticks(())\n",
    "    plt.title(titles[i])\n",
    "    plt.show()"
   ]
  },
  {
   "cell_type": "code",
   "execution_count": null,
   "id": "73759798",
   "metadata": {},
   "outputs": [],
   "source": []
  }
 ],
 "metadata": {
  "kernelspec": {
   "display_name": "Python 3",
   "language": "python",
   "name": "python3"
  },
  "language_info": {
   "codemirror_mode": {
    "name": "ipython",
    "version": 3
   },
   "file_extension": ".py",
   "mimetype": "text/x-python",
   "name": "python",
   "nbconvert_exporter": "python",
   "pygments_lexer": "ipython3",
   "version": "3.8.8"
  }
 },
 "nbformat": 4,
 "nbformat_minor": 5
}
