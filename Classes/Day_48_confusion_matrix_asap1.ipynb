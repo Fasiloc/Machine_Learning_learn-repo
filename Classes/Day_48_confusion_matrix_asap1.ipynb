{
 "cells": [
  {
   "cell_type": "code",
   "execution_count": 1,
   "id": "38865a3d",
   "metadata": {},
   "outputs": [],
   "source": [
    "import pandas as pd\n",
    "import matplotlib.pyplot as plt\n",
    "from sklearn import model_selection\n",
    "from sklearn.datasets import load_iris\n",
    "from sklearn.metrics import accuracy_score,confusion_matrix,plot_confusion_matrix\n",
    "from sklearn.neighbors import KNeighborsClassifier\n"
   ]
  },
  {
   "cell_type": "code",
   "execution_count": 2,
   "id": "887fbc83",
   "metadata": {},
   "outputs": [],
   "source": [
    "def iris_type(row):\n",
    "    if row['Target'] == 0:\n",
    "        return 'Iris-Setosa'\n",
    "    elif row['Target'] ==1:\n",
    "        return 'iRIS-VERSICOLOR'\n",
    "    elif row['Target'] == 2:\n",
    "        return 'iris-virginica'"
   ]
  },
  {
   "cell_type": "code",
   "execution_count": 3,
   "id": "294c9455",
   "metadata": {},
   "outputs": [],
   "source": [
    "iris=load_iris()\n",
    "df=pd.DataFrame(iris.data)\n",
    "df.columns=['sepal-length','sepal-width','petal-length','petel-width']\n",
    "df['Target']=iris.target\n",
    "df['iris-type']=df.apply(iris_type,axis=1)"
   ]
  },
  {
   "cell_type": "code",
   "execution_count": 4,
   "id": "f1aca28d",
   "metadata": {},
   "outputs": [],
   "source": [
    "x=df[df.columns[0:4]].values\n",
    "y=df[df.columns[5]].values\n",
    "x_train,x_test,y_train,y_test=model_selection.train_test_split(x,y,test_size=0.4)"
   ]
  },
  {
   "cell_type": "code",
   "execution_count": 5,
   "id": "fa18d043",
   "metadata": {},
   "outputs": [
    {
     "name": "stdout",
     "output_type": "stream",
     "text": [
      "accuracy 0.9666666666666667\n"
     ]
    }
   ],
   "source": [
    "knn_clf=KNeighborsClassifier(n_neighbors=9)\n",
    "knn_clf.fit(x_train,y_train)\n",
    "knn_predictions=knn_clf.predict(x_test)\n",
    "print(\"accuracy {}\".format(accuracy_score(y_test,knn_predictions)))"
   ]
  },
  {
   "cell_type": "code",
   "execution_count": 13,
   "id": "30785fe8",
   "metadata": {},
   "outputs": [],
   "source": [
    "cm=confusion_matrix(y_test,knn_predictions)"
   ]
  },
  {
   "cell_type": "code",
   "execution_count": 14,
   "id": "7a3bbdc3",
   "metadata": {},
   "outputs": [
    {
     "data": {
      "text/plain": [
       "<AxesSubplot:>"
      ]
     },
     "execution_count": 14,
     "metadata": {},
     "output_type": "execute_result"
    },
    {
     "data": {
      "image/png": "[encoded data removed]",
      "text/plain": [
       "<Figure size 432x288 with 2 Axes>"
      ]
     },
     "metadata": {
      "needs_background": "light"
     },
     "output_type": "display_data"
    }
   ],
   "source": [
    "import seaborn as sns\n",
    "sns.heatmap(cm, annot=True)"
   ]
  },
  {
   "cell_type": "code",
   "execution_count": 17,
   "id": "d1879936",
   "metadata": {},
   "outputs": [],
   "source": [
    "from sklearn.metrics import classification_report"
   ]
  },
  {
   "cell_type": "code",
   "execution_count": 18,
   "id": "878d8ef9",
   "metadata": {},
   "outputs": [
    {
     "name": "stdout",
     "output_type": "stream",
     "text": [
      "                 precision    recall  f1-score   support\n",
      "\n",
      "    Iris-Setosa       1.00      1.00      1.00        23\n",
      "iRIS-VERSICOLOR       0.89      1.00      0.94        17\n",
      " iris-virginica       1.00      0.90      0.95        20\n",
      "\n",
      "       accuracy                           0.97        60\n",
      "      macro avg       0.96      0.97      0.96        60\n",
      "   weighted avg       0.97      0.97      0.97        60\n",
      "\n"
     ]
    }
   ],
   "source": [
    "print(classification_report(y_test,knn_predictions))"
   ]
  },
  {
   "cell_type": "code",
   "execution_count": null,
   "id": "3e355235",
   "metadata": {},
   "outputs": [],
   "source": []
  }
 ],
 "metadata": {
  "kernelspec": {
   "display_name": "Python 3 (ipykernel)",
   "language": "python",
   "name": "python3"
  },
  "language_info": {
   "codemirror_mode": {
    "name": "ipython",
    "version": 3
   },
   "file_extension": ".py",
   "mimetype": "text/x-python",
   "name": "python",
   "nbconvert_exporter": "python",
   "pygments_lexer": "ipython3",
   "version": "3.9.7"
  }
 },
 "nbformat": 4,
 "nbformat_minor": 5
}
