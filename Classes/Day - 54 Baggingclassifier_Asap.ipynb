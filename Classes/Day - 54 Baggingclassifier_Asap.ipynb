{
 "cells": [
  {
   "cell_type": "code",
   "execution_count": 1,
   "id": "d609d415",
   "metadata": {},
   "outputs": [],
   "source": [
    "import pandas as pd\n",
    "import matplotlib.pyplot as plt\n",
    "import numpy as np\n",
    "from sklearn  import tree"
   ]
  },
  {
   "cell_type": "code",
   "execution_count": 2,
   "id": "0db33d7a",
   "metadata": {},
   "outputs": [],
   "source": [
    "from sklearn.tree import DecisionTreeClassifier\n",
    "from sklearn.model_selection import train_test_split\n"
   ]
  },
  {
   "cell_type": "code",
   "execution_count": 3,
   "id": "f88833cf",
   "metadata": {},
   "outputs": [],
   "source": [
    "from sklearn import metrics\n"
   ]
  },
  {
   "cell_type": "code",
   "execution_count": 4,
   "id": "ccd77790",
   "metadata": {},
   "outputs": [],
   "source": [
    "col_names=['pregnent','glucose','bp','skin','insulin','bmi','pedigree','age','label']"
   ]
  },
  {
   "cell_type": "code",
   "execution_count": 5,
   "id": "42cda268",
   "metadata": {},
   "outputs": [],
   "source": [
    "dataset=pd.read_csv('diabetes.csv')"
   ]
  },
  {
   "cell_type": "code",
   "execution_count": 6,
   "id": "30bf740c",
   "metadata": {},
   "outputs": [],
   "source": [
    "dataset.columns=col_names\n"
   ]
  },
  {
   "cell_type": "code",
   "execution_count": 7,
   "id": "bb1e8331",
   "metadata": {},
   "outputs": [],
   "source": [
    "feature_cols=['pregnent','glucose','bp','skin','insulin','bmi','pedigree']"
   ]
  },
  {
   "cell_type": "code",
   "execution_count": 8,
   "id": "8e9115a0",
   "metadata": {},
   "outputs": [],
   "source": [
    "X=dataset[feature_cols]"
   ]
  },
  {
   "cell_type": "code",
   "execution_count": 9,
   "id": "36670411",
   "metadata": {},
   "outputs": [],
   "source": [
    "y=dataset.label"
   ]
  },
  {
   "cell_type": "code",
   "execution_count": 10,
   "id": "d9b7039c",
   "metadata": {},
   "outputs": [],
   "source": [
    "x_train,x_test,y_train,y_test=train_test_split(X,y,test_size=0.3,random_state=1)"
   ]
  },
  {
   "cell_type": "code",
   "execution_count": 11,
   "id": "999e939c",
   "metadata": {},
   "outputs": [],
   "source": [
    "clf=DecisionTreeClassifier()"
   ]
  },
  {
   "cell_type": "code",
   "execution_count": 12,
   "id": "5317dc45",
   "metadata": {},
   "outputs": [],
   "source": [
    "clf=clf.fit(x_train,y_train)"
   ]
  },
  {
   "cell_type": "code",
   "execution_count": 13,
   "id": "017253a0",
   "metadata": {},
   "outputs": [],
   "source": [
    "y_pred=clf.predict(x_test)"
   ]
  },
  {
   "cell_type": "code",
   "execution_count": 14,
   "id": "b51d4f5c",
   "metadata": {},
   "outputs": [
    {
     "name": "stdout",
     "output_type": "stream",
     "text": [
      "Accuracy 0.6493506493506493\n"
     ]
    }
   ],
   "source": [
    "print(\"Accuracy\",metrics.accuracy_score(y_test,y_pred))"
   ]
  },
  {
   "cell_type": "code",
   "execution_count": 15,
   "id": "1a9a8527",
   "metadata": {},
   "outputs": [],
   "source": [
    "from sklearn.model_selection import cross_val_score"
   ]
  },
  {
   "cell_type": "code",
   "execution_count": 17,
   "id": "5d69e51c",
   "metadata": {},
   "outputs": [],
   "source": [
    "scores=cross_val_score(DecisionTreeClassifier(),X,y,cv=5)"
   ]
  },
  {
   "cell_type": "code",
   "execution_count": 18,
   "id": "cbcddc03",
   "metadata": {},
   "outputs": [
    {
     "data": {
      "text/plain": [
       "array([0.67532468, 0.66233766, 0.66883117, 0.68627451, 0.66013072])"
      ]
     },
     "execution_count": 18,
     "metadata": {},
     "output_type": "execute_result"
    }
   ],
   "source": [
    "scores"
   ]
  },
  {
   "cell_type": "code",
   "execution_count": 19,
   "id": "1d527c10",
   "metadata": {},
   "outputs": [
    {
     "data": {
      "text/plain": [
       "0.6705797470503353"
      ]
     },
     "execution_count": 19,
     "metadata": {},
     "output_type": "execute_result"
    }
   ],
   "source": [
    "scores.mean()"
   ]
  },
  {
   "cell_type": "code",
   "execution_count": 20,
   "id": "34f54e6b",
   "metadata": {},
   "outputs": [],
   "source": [
    "from sklearn.ensemble import BaggingClassifier"
   ]
  },
  {
   "cell_type": "code",
   "execution_count": 21,
   "id": "39386ddc",
   "metadata": {},
   "outputs": [],
   "source": [
    "bag_model=BaggingClassifier(\n",
    "    base_estimator=DecisionTreeClassifier(),\n",
    "    n_estimators=100,\n",
    "    max_samples=0.8,\n",
    "    random_state=0\n",
    "\n",
    ")"
   ]
  },
  {
   "cell_type": "code",
   "execution_count": 22,
   "id": "a0880f86",
   "metadata": {},
   "outputs": [
    {
     "data": {
      "text/plain": [
       "BaggingClassifier(base_estimator=DecisionTreeClassifier(), max_samples=0.8,\n",
       "                  n_estimators=100, random_state=0)"
      ]
     },
     "execution_count": 22,
     "metadata": {},
     "output_type": "execute_result"
    }
   ],
   "source": [
    "bag_model.fit(x_train,y_train)"
   ]
  },
  {
   "cell_type": "code",
   "execution_count": 23,
   "id": "92e672f3",
   "metadata": {},
   "outputs": [
    {
     "data": {
      "text/plain": [
       "0.7748917748917749"
      ]
     },
     "execution_count": 23,
     "metadata": {},
     "output_type": "execute_result"
    }
   ],
   "source": [
    "bag_model.score(x_test,y_test)"
   ]
  },
  {
   "cell_type": "code",
   "execution_count": null,
   "id": "ae19123f",
   "metadata": {},
   "outputs": [],
   "source": []
  }
 ],
 "metadata": {
  "kernelspec": {
   "display_name": "Python 3 (ipykernel)",
   "language": "python",
   "name": "python3"
  },
  "language_info": {
   "codemirror_mode": {
    "name": "ipython",
    "version": 3
   },
   "file_extension": ".py",
   "mimetype": "text/x-python",
   "name": "python",
   "nbconvert_exporter": "python",
   "pygments_lexer": "ipython3",
   "version": "3.9.7"
  }
 },
 "nbformat": 4,
 "nbformat_minor": 5
}
