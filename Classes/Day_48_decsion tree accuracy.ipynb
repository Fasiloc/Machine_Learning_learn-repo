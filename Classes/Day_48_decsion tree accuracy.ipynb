{
 "cells": [
  {
   "cell_type": "code",
   "execution_count": 27,
   "metadata": {},
   "outputs": [],
   "source": [
    "import pandas as pd\n",
    "import matplotlib.pyplot as plt"
   ]
  },
  {
   "cell_type": "code",
   "execution_count": 28,
   "metadata": {},
   "outputs": [],
   "source": [
    "import numpy as np\n",
    "from sklearn import tree"
   ]
  },
  {
   "cell_type": "code",
   "execution_count": 29,
   "metadata": {},
   "outputs": [],
   "source": [
    "from sklearn.tree import DecisionTreeClassifier\n",
    "from sklearn.model_selection import train_test_split\n",
    "from sklearn import  metrics\n",
    "import matplotlib.pyplot  as pt"
   ]
  },
  {
   "cell_type": "code",
   "execution_count": 30,
   "metadata": {},
   "outputs": [],
   "source": [
    "col_names=['pregnent','glucose','bp','skin','insulin','bmi','pedigree','age','label']"
   ]
  },
  {
   "cell_type": "code",
   "execution_count": 31,
   "metadata": {},
   "outputs": [],
   "source": [
    "dataset=pd.read_csv(\"diabetes.csv\")"
   ]
  },
  {
   "cell_type": "code",
   "execution_count": 32,
   "metadata": {},
   "outputs": [
    {
     "data": {
      "text/html": [
       "<div>\n",
       "<style scoped>\n",
       "    .dataframe tbody tr th:only-of-type {\n",
       "        vertical-align: middle;\n",
       "    }\n",
       "\n",
       "    .dataframe tbody tr th {\n",
       "        vertical-align: top;\n",
       "    }\n",
       "\n",
       "    .dataframe thead th {\n",
       "        text-align: right;\n",
       "    }\n",
       "</style>\n",
       "<table border=\"1\" class=\"dataframe\">\n",
       "  <thead>\n",
       "    <tr style=\"text-align: right;\">\n",
       "      <th></th>\n",
       "      <th>Pregnancies</th>\n",
       "      <th>Glucose</th>\n",
       "      <th>BloodPressure</th>\n",
       "      <th>SkinThickness</th>\n",
       "      <th>Insulin</th>\n",
       "      <th>BMI</th>\n",
       "      <th>DiabetesPedigreeFunction</th>\n",
       "      <th>Age</th>\n",
       "      <th>Outcome</th>\n",
       "    </tr>\n",
       "  </thead>\n",
       "  <tbody>\n",
       "    <tr>\n",
       "      <th>0</th>\n",
       "      <td>6</td>\n",
       "      <td>148</td>\n",
       "      <td>72</td>\n",
       "      <td>35</td>\n",
       "      <td>0</td>\n",
       "      <td>33.6</td>\n",
       "      <td>0.627</td>\n",
       "      <td>50</td>\n",
       "      <td>1</td>\n",
       "    </tr>\n",
       "    <tr>\n",
       "      <th>1</th>\n",
       "      <td>1</td>\n",
       "      <td>85</td>\n",
       "      <td>66</td>\n",
       "      <td>29</td>\n",
       "      <td>0</td>\n",
       "      <td>26.6</td>\n",
       "      <td>0.351</td>\n",
       "      <td>31</td>\n",
       "      <td>0</td>\n",
       "    </tr>\n",
       "    <tr>\n",
       "      <th>2</th>\n",
       "      <td>8</td>\n",
       "      <td>183</td>\n",
       "      <td>64</td>\n",
       "      <td>0</td>\n",
       "      <td>0</td>\n",
       "      <td>23.3</td>\n",
       "      <td>0.672</td>\n",
       "      <td>32</td>\n",
       "      <td>1</td>\n",
       "    </tr>\n",
       "    <tr>\n",
       "      <th>3</th>\n",
       "      <td>1</td>\n",
       "      <td>89</td>\n",
       "      <td>66</td>\n",
       "      <td>23</td>\n",
       "      <td>94</td>\n",
       "      <td>28.1</td>\n",
       "      <td>0.167</td>\n",
       "      <td>21</td>\n",
       "      <td>0</td>\n",
       "    </tr>\n",
       "    <tr>\n",
       "      <th>4</th>\n",
       "      <td>0</td>\n",
       "      <td>137</td>\n",
       "      <td>40</td>\n",
       "      <td>35</td>\n",
       "      <td>168</td>\n",
       "      <td>43.1</td>\n",
       "      <td>2.288</td>\n",
       "      <td>33</td>\n",
       "      <td>1</td>\n",
       "    </tr>\n",
       "  </tbody>\n",
       "</table>\n",
       "</div>"
      ],
      "text/plain": [
       "   Pregnancies  Glucose  BloodPressure  SkinThickness  Insulin   BMI  \\\n",
       "0            6      148             72             35        0  33.6   \n",
       "1            1       85             66             29        0  26.6   \n",
       "2            8      183             64              0        0  23.3   \n",
       "3            1       89             66             23       94  28.1   \n",
       "4            0      137             40             35      168  43.1   \n",
       "\n",
       "   DiabetesPedigreeFunction  Age  Outcome  \n",
       "0                     0.627   50        1  \n",
       "1                     0.351   31        0  \n",
       "2                     0.672   32        1  \n",
       "3                     0.167   21        0  \n",
       "4                     2.288   33        1  "
      ]
     },
     "execution_count": 32,
     "metadata": {},
     "output_type": "execute_result"
    }
   ],
   "source": [
    "dataset.head()"
   ]
  },
  {
   "cell_type": "code",
   "execution_count": 33,
   "metadata": {},
   "outputs": [],
   "source": [
    "dataset.columns=col_names"
   ]
  },
  {
   "cell_type": "code",
   "execution_count": 34,
   "metadata": {},
   "outputs": [],
   "source": [
    "feature_cols=['pregnent','glucose','bp','skin','insulin','bmi','pedigree']"
   ]
  },
  {
   "cell_type": "code",
   "execution_count": 35,
   "metadata": {},
   "outputs": [],
   "source": [
    "X=dataset[feature_cols]"
   ]
  },
  {
   "cell_type": "code",
   "execution_count": 36,
   "metadata": {},
   "outputs": [],
   "source": [
    "y=dataset.label"
   ]
  },
  {
   "cell_type": "code",
   "execution_count": 37,
   "metadata": {},
   "outputs": [],
   "source": [
    "X_train,X_test,y_train,y_test=train_test_split(X,y,test_size=0.3,random_state=1)"
   ]
  },
  {
   "cell_type": "code",
   "execution_count": 38,
   "metadata": {},
   "outputs": [],
   "source": [
    "clf=DecisionTreeClassifier()"
   ]
  },
  {
   "cell_type": "code",
   "execution_count": 39,
   "metadata": {},
   "outputs": [],
   "source": [
    "clf=clf.fit(X_train,y_train)"
   ]
  },
  {
   "cell_type": "code",
   "execution_count": 40,
   "metadata": {},
   "outputs": [],
   "source": [
    "y_pred=clf.predict(X_test)"
   ]
  },
  {
   "cell_type": "code",
   "execution_count": 41,
   "metadata": {},
   "outputs": [
    {
     "name": "stdout",
     "output_type": "stream",
     "text": [
      "Accuracy 0.6363636363636364\n"
     ]
    }
   ],
   "source": [
    "print(\"Accuracy\",metrics.accuracy_score(y_test,y_pred))"
   ]
  },
  {
   "cell_type": "code",
   "execution_count": 42,
   "metadata": {},
   "outputs": [
    {
     "data": {
      "text/plain": [
       "[Text(181.80717807424594, 210.192, 'X[1] <= 129.5\\ngini = 0.449\\nsamples = 537\\nvalue = [354, 183]'),\n",
       " Text(92.07485498839907, 195.696, 'X[5] <= 26.3\\ngini = 0.329\\nsamples = 357\\nvalue = [283, 74]'),\n",
       " Text(35.5385150812065, 181.2, 'X[5] <= 9.1\\ngini = 0.06\\nsamples = 97\\nvalue = [94, 3]'),\n",
       " Text(29.32412993039443, 166.704, 'X[1] <= 114.5\\ngini = 0.444\\nsamples = 6\\nvalue = [4, 2]'),\n",
       " Text(26.2169373549884, 152.208, 'gini = 0.0\\nsamples = 4\\nvalue = [4, 0]'),\n",
       " Text(32.431322505800466, 152.208, 'gini = 0.0\\nsamples = 2\\nvalue = [0, 2]'),\n",
       " Text(41.75290023201856, 166.704, 'X[6] <= 0.669\\ngini = 0.022\\nsamples = 91\\nvalue = [90, 1]'),\n",
       " Text(38.64570765661253, 152.208, 'gini = 0.0\\nsamples = 76\\nvalue = [76, 0]'),\n",
       " Text(44.86009280742459, 152.208, 'X[6] <= 0.705\\ngini = 0.124\\nsamples = 15\\nvalue = [14, 1]'),\n",
       " Text(41.75290023201856, 137.712, 'gini = 0.0\\nsamples = 1\\nvalue = [0, 1]'),\n",
       " Text(47.967285382830624, 137.712, 'gini = 0.0\\nsamples = 14\\nvalue = [14, 0]'),\n",
       " Text(148.61119489559164, 181.2, 'X[6] <= 0.634\\ngini = 0.397\\nsamples = 260\\nvalue = [189, 71]'),\n",
       " Text(92.92447795823666, 166.704, 'X[5] <= 45.4\\ngini = 0.332\\nsamples = 200\\nvalue = [158, 42]'),\n",
       " Text(89.81728538283063, 152.208, 'X[1] <= 111.5\\ngini = 0.307\\nsamples = 195\\nvalue = [158, 37]'),\n",
       " Text(54.181670533642695, 137.712, 'X[2] <= 12.0\\ngini = 0.202\\nsamples = 123\\nvalue = [109, 14]'),\n",
       " Text(51.07447795823666, 123.216, 'gini = 0.0\\nsamples = 1\\nvalue = [0, 1]'),\n",
       " Text(57.28886310904873, 123.216, 'X[0] <= 5.5\\ngini = 0.19\\nsamples = 122\\nvalue = [109, 13]'),\n",
       " Text(43.112296983758704, 108.72, 'X[4] <= 179.0\\ngini = 0.135\\nsamples = 96\\nvalue = [89, 7]'),\n",
       " Text(30.295127610208816, 94.22399999999999, 'X[5] <= 37.35\\ngini = 0.12\\nsamples = 94\\nvalue = [88, 6]'),\n",
       " Text(13.982366589327146, 79.72799999999998, 'X[2] <= 51.0\\ngini = 0.075\\nsamples = 77\\nvalue = [74, 3]'),\n",
       " Text(6.214385150812065, 65.232, 'X[1] <= 83.5\\ngini = 0.375\\nsamples = 4\\nvalue = [3, 1]'),\n",
       " Text(3.1071925754060326, 50.73599999999999, 'gini = 0.0\\nsamples = 1\\nvalue = [0, 1]'),\n",
       " Text(9.321577726218099, 50.73599999999999, 'gini = 0.0\\nsamples = 3\\nvalue = [3, 0]'),\n",
       " Text(21.75034802784223, 65.232, 'X[5] <= 27.05\\ngini = 0.053\\nsamples = 73\\nvalue = [71, 2]'),\n",
       " Text(15.535962877030162, 50.73599999999999, 'X[2] <= 74.0\\ngini = 0.32\\nsamples = 5\\nvalue = [4, 1]'),\n",
       " Text(12.42877030162413, 36.23999999999998, 'gini = 0.0\\nsamples = 4\\nvalue = [4, 0]'),\n",
       " Text(18.643155452436197, 36.23999999999998, 'gini = 0.0\\nsamples = 1\\nvalue = [0, 1]'),\n",
       " Text(27.964733178654292, 50.73599999999999, 'X[0] <= 4.5\\ngini = 0.029\\nsamples = 68\\nvalue = [67, 1]'),\n",
       " Text(24.85754060324826, 36.23999999999998, 'gini = 0.0\\nsamples = 61\\nvalue = [61, 0]'),\n",
       " Text(31.071925754060324, 36.23999999999998, 'X[2] <= 75.5\\ngini = 0.245\\nsamples = 7\\nvalue = [6, 1]'),\n",
       " Text(27.964733178654292, 21.744, 'gini = 0.0\\nsamples = 5\\nvalue = [5, 0]'),\n",
       " Text(34.179118329466355, 21.744, 'X[2] <= 79.0\\ngini = 0.5\\nsamples = 2\\nvalue = [1, 1]'),\n",
       " Text(31.071925754060324, 7.2479999999999905, 'gini = 0.0\\nsamples = 1\\nvalue = [0, 1]'),\n",
       " Text(37.286310904872394, 7.2479999999999905, 'gini = 0.0\\nsamples = 1\\nvalue = [1, 0]'),\n",
       " Text(46.60788863109049, 79.72799999999998, 'X[5] <= 37.45\\ngini = 0.291\\nsamples = 17\\nvalue = [14, 3]'),\n",
       " Text(43.50069605568446, 65.232, 'gini = 0.0\\nsamples = 1\\nvalue = [0, 1]'),\n",
       " Text(49.71508120649652, 65.232, 'X[6] <= 0.501\\ngini = 0.219\\nsamples = 16\\nvalue = [14, 2]'),\n",
       " Text(46.60788863109049, 50.73599999999999, 'X[3] <= 11.5\\ngini = 0.124\\nsamples = 15\\nvalue = [14, 1]'),\n",
       " Text(43.50069605568446, 36.23999999999998, 'X[2] <= 75.0\\ngini = 0.375\\nsamples = 4\\nvalue = [3, 1]'),\n",
       " Text(40.393503480278426, 21.744, 'gini = 0.0\\nsamples = 1\\nvalue = [0, 1]'),\n",
       " Text(46.60788863109049, 21.744, 'gini = 0.0\\nsamples = 3\\nvalue = [3, 0]'),\n",
       " Text(49.71508120649652, 36.23999999999998, 'gini = 0.0\\nsamples = 11\\nvalue = [11, 0]'),\n",
       " Text(52.82227378190255, 50.73599999999999, 'gini = 0.0\\nsamples = 1\\nvalue = [0, 1]'),\n",
       " Text(55.929466357308584, 94.22399999999999, 'X[2] <= 74.0\\ngini = 0.5\\nsamples = 2\\nvalue = [1, 1]'),\n",
       " Text(52.82227378190255, 79.72799999999998, 'gini = 0.0\\nsamples = 1\\nvalue = [1, 0]'),\n",
       " Text(59.036658932714616, 79.72799999999998, 'gini = 0.0\\nsamples = 1\\nvalue = [0, 1]'),\n",
       " Text(71.46542923433874, 108.72, 'X[5] <= 38.9\\ngini = 0.355\\nsamples = 26\\nvalue = [20, 6]'),\n",
       " Text(68.35823665893271, 94.22399999999999, 'X[5] <= 32.6\\ngini = 0.278\\nsamples = 24\\nvalue = [20, 4]'),\n",
       " Text(65.25104408352668, 79.72799999999998, 'X[6] <= 0.299\\ngini = 0.463\\nsamples = 11\\nvalue = [7, 4]'),\n",
       " Text(62.14385150812065, 65.232, 'X[1] <= 109.0\\ngini = 0.32\\nsamples = 5\\nvalue = [1, 4]'),\n",
       " Text(59.036658932714616, 50.73599999999999, 'gini = 0.0\\nsamples = 4\\nvalue = [0, 4]'),\n",
       " Text(65.25104408352668, 50.73599999999999, 'gini = 0.0\\nsamples = 1\\nvalue = [1, 0]'),\n",
       " Text(68.35823665893271, 65.232, 'gini = 0.0\\nsamples = 6\\nvalue = [6, 0]'),\n",
       " Text(71.46542923433874, 79.72799999999998, 'gini = 0.0\\nsamples = 13\\nvalue = [13, 0]'),\n",
       " Text(74.57262180974479, 94.22399999999999, 'gini = 0.0\\nsamples = 2\\nvalue = [0, 2]'),\n",
       " Text(125.45290023201856, 137.712, 'X[4] <= 26.5\\ngini = 0.435\\nsamples = 72\\nvalue = [49, 23]'),\n",
       " Text(109.52853828306264, 123.216, 'X[2] <= 77.0\\ngini = 0.497\\nsamples = 39\\nvalue = [21, 18]'),\n",
       " Text(91.66218097447796, 108.72, 'X[0] <= 2.5\\ngini = 0.49\\nsamples = 28\\nvalue = [12, 16]'),\n",
       " Text(80.78700696055685, 94.22399999999999, 'X[0] <= 0.5\\ngini = 0.444\\nsamples = 12\\nvalue = [8, 4]'),\n",
       " Text(77.67981438515082, 79.72799999999998, 'gini = 0.0\\nsamples = 3\\nvalue = [0, 3]'),\n",
       " Text(83.89419953596288, 79.72799999999998, 'X[1] <= 125.0\\ngini = 0.198\\nsamples = 9\\nvalue = [8, 1]'),\n",
       " Text(80.78700696055685, 65.232, 'gini = 0.0\\nsamples = 7\\nvalue = [7, 0]'),\n",
       " Text(87.00139211136892, 65.232, 'X[5] <= 34.3\\ngini = 0.5\\nsamples = 2\\nvalue = [1, 1]'),\n",
       " Text(83.89419953596288, 50.73599999999999, 'gini = 0.0\\nsamples = 1\\nvalue = [0, 1]'),\n",
       " Text(90.10858468677495, 50.73599999999999, 'gini = 0.0\\nsamples = 1\\nvalue = [1, 0]'),\n",
       " Text(102.53735498839907, 94.22399999999999, 'X[6] <= 0.167\\ngini = 0.375\\nsamples = 16\\nvalue = [4, 12]'),\n",
       " Text(96.32296983758701, 79.72799999999998, 'X[5] <= 35.65\\ngini = 0.375\\nsamples = 4\\nvalue = [3, 1]'),\n",
       " Text(93.21577726218098, 65.232, 'gini = 0.0\\nsamples = 3\\nvalue = [3, 0]'),\n",
       " Text(99.43016241299304, 65.232, 'gini = 0.0\\nsamples = 1\\nvalue = [0, 1]'),\n",
       " Text(108.75174013921114, 79.72799999999998, 'X[0] <= 9.0\\ngini = 0.153\\nsamples = 12\\nvalue = [1, 11]'),\n",
       " Text(105.6445475638051, 65.232, 'gini = 0.0\\nsamples = 10\\nvalue = [0, 10]'),\n",
       " Text(111.85893271461717, 65.232, 'X[0] <= 11.5\\ngini = 0.5\\nsamples = 2\\nvalue = [1, 1]'),\n",
       " Text(108.75174013921114, 50.73599999999999, 'gini = 0.0\\nsamples = 1\\nvalue = [1, 0]'),\n",
       " Text(114.9661252900232, 50.73599999999999, 'gini = 0.0\\nsamples = 1\\nvalue = [0, 1]'),\n",
       " Text(127.39489559164734, 108.72, 'X[0] <= 12.5\\ngini = 0.298\\nsamples = 11\\nvalue = [9, 2]'),\n",
       " Text(124.2877030162413, 94.22399999999999, 'X[5] <= 28.55\\ngini = 0.18\\nsamples = 10\\nvalue = [9, 1]'),\n",
       " Text(121.18051044083526, 79.72799999999998, 'X[5] <= 28.2\\ngini = 0.444\\nsamples = 3\\nvalue = [2, 1]'),\n",
       " Text(118.07331786542923, 65.232, 'gini = 0.0\\nsamples = 2\\nvalue = [2, 0]'),\n",
       " Text(124.2877030162413, 65.232, 'gini = 0.0\\nsamples = 1\\nvalue = [0, 1]'),\n",
       " Text(127.39489559164734, 79.72799999999998, 'gini = 0.0\\nsamples = 7\\nvalue = [7, 0]'),\n",
       " Text(130.50208816705336, 94.22399999999999, 'gini = 0.0\\nsamples = 1\\nvalue = [0, 1]'),\n",
       " Text(141.37726218097447, 123.216, 'X[5] <= 26.9\\ngini = 0.257\\nsamples = 33\\nvalue = [28, 5]'),\n",
       " Text(138.27006960556844, 108.72, 'gini = 0.0\\nsamples = 1\\nvalue = [0, 1]'),\n",
       " Text(144.4844547563805, 108.72, 'X[6] <= 0.211\\ngini = 0.219\\nsamples = 32\\nvalue = [28, 4]'),\n",
       " Text(136.71647331786542, 94.22399999999999, 'X[2] <= 75.0\\ngini = 0.48\\nsamples = 5\\nvalue = [3, 2]'),\n",
       " Text(133.6092807424594, 79.72799999999998, 'gini = 0.0\\nsamples = 2\\nvalue = [0, 2]'),\n",
       " Text(139.82366589327145, 79.72799999999998, 'gini = 0.0\\nsamples = 3\\nvalue = [3, 0]'),\n",
       " Text(152.2524361948956, 94.22399999999999, 'X[6] <= 0.605\\ngini = 0.137\\nsamples = 27\\nvalue = [25, 2]'),\n",
       " Text(146.03805104408352, 79.72799999999998, 'X[2] <= 87.0\\ngini = 0.077\\nsamples = 25\\nvalue = [24, 1]'),\n",
       " Text(142.93085846867749, 65.232, 'gini = 0.0\\nsamples = 21\\nvalue = [21, 0]'),\n",
       " Text(149.14524361948958, 65.232, 'X[1] <= 118.0\\ngini = 0.375\\nsamples = 4\\nvalue = [3, 1]'),\n",
       " Text(146.03805104408352, 50.73599999999999, 'gini = 0.0\\nsamples = 1\\nvalue = [0, 1]'),\n",
       " Text(152.2524361948956, 50.73599999999999, 'gini = 0.0\\nsamples = 3\\nvalue = [3, 0]'),\n",
       " Text(158.46682134570767, 79.72799999999998, 'X[2] <= 49.0\\ngini = 0.5\\nsamples = 2\\nvalue = [1, 1]'),\n",
       " Text(155.35962877030164, 65.232, 'gini = 0.0\\nsamples = 1\\nvalue = [0, 1]'),\n",
       " Text(161.5740139211137, 65.232, 'gini = 0.0\\nsamples = 1\\nvalue = [1, 0]'),\n",
       " Text(96.0316705336427, 152.208, 'gini = 0.0\\nsamples = 5\\nvalue = [0, 5]'),\n",
       " Text(204.29791183294665, 166.704, 'X[0] <= 6.5\\ngini = 0.499\\nsamples = 60\\nvalue = [31, 29]'),\n",
       " Text(191.092343387471, 152.208, 'X[4] <= 154.0\\ngini = 0.466\\nsamples = 46\\nvalue = [29, 17]'),\n",
       " Text(174.00278422273783, 137.712, 'X[6] <= 0.667\\ngini = 0.328\\nsamples = 29\\nvalue = [23, 6]'),\n",
       " Text(170.8955916473318, 123.216, 'gini = 0.0\\nsamples = 1\\nvalue = [0, 1]'),\n",
       " Text(177.10997679814386, 123.216, 'X[4] <= 67.5\\ngini = 0.293\\nsamples = 28\\nvalue = [23, 5]'),\n",
       " Text(170.8955916473318, 108.72, 'X[5] <= 28.75\\ngini = 0.117\\nsamples = 16\\nvalue = [15, 1]'),\n",
       " Text(167.78839907192577, 94.22399999999999, 'X[2] <= 76.0\\ngini = 0.5\\nsamples = 2\\nvalue = [1, 1]'),\n",
       " Text(164.68120649651974, 79.72799999999998, 'gini = 0.0\\nsamples = 1\\nvalue = [1, 0]'),\n",
       " Text(170.8955916473318, 79.72799999999998, 'gini = 0.0\\nsamples = 1\\nvalue = [0, 1]'),\n",
       " Text(174.00278422273783, 94.22399999999999, 'gini = 0.0\\nsamples = 14\\nvalue = [14, 0]'),\n",
       " Text(183.32436194895593, 108.72, 'X[5] <= 31.85\\ngini = 0.444\\nsamples = 12\\nvalue = [8, 4]'),\n",
       " Text(180.2171693735499, 94.22399999999999, 'gini = 0.0\\nsamples = 6\\nvalue = [6, 0]'),\n",
       " Text(186.43155452436196, 94.22399999999999, 'X[5] <= 37.85\\ngini = 0.444\\nsamples = 6\\nvalue = [2, 4]'),\n",
       " Text(183.32436194895593, 79.72799999999998, 'gini = 0.0\\nsamples = 4\\nvalue = [0, 4]'),\n",
       " Text(189.538747099768, 79.72799999999998, 'gini = 0.0\\nsamples = 2\\nvalue = [2, 0]'),\n",
       " Text(208.18190255220418, 137.712, 'X[4] <= 225.0\\ngini = 0.457\\nsamples = 17\\nvalue = [6, 11]'),\n",
       " Text(205.07470997679815, 123.216, 'X[3] <= 47.5\\ngini = 0.26\\nsamples = 13\\nvalue = [2, 11]'),\n",
       " Text(201.96751740139212, 108.72, 'X[2] <= 58.0\\ngini = 0.153\\nsamples = 12\\nvalue = [1, 11]'),\n",
       " Text(198.86032482598608, 94.22399999999999, 'X[2] <= 51.0\\ngini = 0.444\\nsamples = 3\\nvalue = [1, 2]'),\n",
       " Text(195.75313225058005, 79.72799999999998, 'gini = 0.0\\nsamples = 2\\nvalue = [0, 2]'),\n",
       " Text(201.96751740139212, 79.72799999999998, 'gini = 0.0\\nsamples = 1\\nvalue = [1, 0]'),\n",
       " Text(205.07470997679815, 94.22399999999999, 'gini = 0.0\\nsamples = 9\\nvalue = [0, 9]'),\n",
       " Text(208.18190255220418, 108.72, 'gini = 0.0\\nsamples = 1\\nvalue = [1, 0]'),\n",
       " Text(211.2890951276102, 123.216, 'gini = 0.0\\nsamples = 4\\nvalue = [4, 0]'),\n",
       " Text(217.50348027842227, 152.208, 'X[1] <= 82.0\\ngini = 0.245\\nsamples = 14\\nvalue = [2, 12]'),\n",
       " Text(214.39628770301624, 137.712, 'gini = 0.0\\nsamples = 1\\nvalue = [1, 0]'),\n",
       " Text(220.6106728538283, 137.712, 'X[0] <= 7.5\\ngini = 0.142\\nsamples = 13\\nvalue = [1, 12]'),\n",
       " Text(217.50348027842227, 123.216, 'X[1] <= 101.5\\ngini = 0.444\\nsamples = 3\\nvalue = [1, 2]'),\n",
       " Text(214.39628770301624, 108.72, 'gini = 0.0\\nsamples = 1\\nvalue = [1, 0]'),\n",
       " Text(220.6106728538283, 108.72, 'gini = 0.0\\nsamples = 2\\nvalue = [0, 2]'),\n",
       " Text(223.71786542923434, 123.216, 'gini = 0.0\\nsamples = 10\\nvalue = [0, 10]'),\n",
       " Text(271.5395011600928, 195.696, 'X[5] <= 27.85\\ngini = 0.478\\nsamples = 180\\nvalue = [71, 109]'),\n",
       " Text(239.2538283062645, 181.2, 'X[1] <= 145.5\\ngini = 0.375\\nsamples = 36\\nvalue = [27, 9]'),\n",
       " Text(233.03944315545243, 166.704, 'X[5] <= 23.95\\ngini = 0.1\\nsamples = 19\\nvalue = [18, 1]'),\n",
       " Text(229.9322505800464, 152.208, 'X[5] <= 23.45\\ngini = 0.32\\nsamples = 5\\nvalue = [4, 1]'),\n",
       " Text(226.82505800464037, 137.712, 'gini = 0.0\\nsamples = 4\\nvalue = [4, 0]'),\n",
       " Text(233.03944315545243, 137.712, 'gini = 0.0\\nsamples = 1\\nvalue = [0, 1]'),\n",
       " Text(236.14663573085846, 152.208, 'gini = 0.0\\nsamples = 14\\nvalue = [14, 0]'),\n",
       " Text(245.46821345707656, 166.704, 'X[5] <= 23.1\\ngini = 0.498\\nsamples = 17\\nvalue = [9, 8]'),\n",
       " Text(242.36102088167053, 152.208, 'gini = 0.0\\nsamples = 3\\nvalue = [3, 0]'),\n",
       " Text(248.5754060324826, 152.208, 'X[5] <= 25.55\\ngini = 0.49\\nsamples = 14\\nvalue = [6, 8]'),\n",
       " Text(245.46821345707656, 137.712, 'gini = 0.0\\nsamples = 6\\nvalue = [0, 6]'),\n",
       " Text(251.68259860788865, 137.712, 'X[1] <= 156.0\\ngini = 0.375\\nsamples = 8\\nvalue = [6, 2]'),\n",
       " Text(248.5754060324826, 123.216, 'gini = 0.0\\nsamples = 2\\nvalue = [0, 2]'),\n",
       " Text(254.78979118329468, 123.216, 'gini = 0.0\\nsamples = 6\\nvalue = [6, 0]'),\n",
       " Text(303.8251740139211, 181.2, 'X[1] <= 158.5\\ngini = 0.424\\nsamples = 144\\nvalue = [44, 100]'),\n",
       " Text(285.27911832946637, 166.704, 'X[0] <= 7.5\\ngini = 0.487\\nsamples = 88\\nvalue = [37, 51]'),\n",
       " Text(266.83016241299305, 152.208, 'X[2] <= 43.0\\ngini = 0.5\\nsamples = 72\\nvalue = [35, 37]'),\n",
       " Text(263.722969837587, 137.712, 'gini = 0.0\\nsamples = 6\\nvalue = [0, 6]'),\n",
       " Text(269.9373549883991, 137.712, 'X[2] <= 87.0\\ngini = 0.498\\nsamples = 66\\nvalue = [35, 31]'),\n",
       " Text(261.0041763341067, 123.216, 'X[1] <= 135.5\\ngini = 0.484\\nsamples = 56\\nvalue = [33, 23]'),\n",
       " Text(252.45939675174014, 108.72, 'X[5] <= 33.7\\ngini = 0.397\\nsamples = 11\\nvalue = [3, 8]'),\n",
       " Text(249.3522041763341, 94.22399999999999, 'X[5] <= 30.65\\ngini = 0.48\\nsamples = 5\\nvalue = [3, 2]'),\n",
       " Text(246.24501160092808, 79.72799999999998, 'X[5] <= 28.2\\ngini = 0.444\\nsamples = 3\\nvalue = [1, 2]'),\n",
       " Text(243.13781902552205, 65.232, 'gini = 0.0\\nsamples = 1\\nvalue = [1, 0]'),\n",
       " Text(249.3522041763341, 65.232, 'gini = 0.0\\nsamples = 2\\nvalue = [0, 2]'),\n",
       " Text(252.45939675174014, 79.72799999999998, 'gini = 0.0\\nsamples = 2\\nvalue = [2, 0]'),\n",
       " Text(255.56658932714618, 94.22399999999999, 'gini = 0.0\\nsamples = 6\\nvalue = [0, 6]'),\n",
       " Text(269.54895591647335, 108.72, 'X[3] <= 38.5\\ngini = 0.444\\nsamples = 45\\nvalue = [30, 15]'),\n",
       " Text(266.4417633410673, 94.22399999999999, 'X[0] <= 6.5\\ngini = 0.482\\nsamples = 37\\nvalue = [22, 15]'),\n",
       " Text(263.3345707656613, 79.72799999999998, 'X[5] <= 36.7\\ngini = 0.467\\nsamples = 35\\nvalue = [22, 13]'),\n",
       " Text(255.56658932714618, 65.232, 'X[3] <= 33.5\\ngini = 0.413\\nsamples = 24\\nvalue = [17, 7]'),\n",
       " Text(249.3522041763341, 50.73599999999999, 'X[6] <= 0.189\\ngini = 0.332\\nsamples = 19\\nvalue = [15, 4]'),\n",
       " Text(246.24501160092808, 36.23999999999998, 'gini = 0.0\\nsamples = 2\\nvalue = [0, 2]'),\n",
       " Text(252.45939675174014, 36.23999999999998, 'X[2] <= 81.0\\ngini = 0.208\\nsamples = 17\\nvalue = [15, 2]'),\n",
       " Text(249.3522041763341, 21.744, 'gini = 0.0\\nsamples = 12\\nvalue = [12, 0]'),\n",
       " Text(255.56658932714618, 21.744, 'X[1] <= 143.5\\ngini = 0.48\\nsamples = 5\\nvalue = [3, 2]'),\n",
       " Text(252.45939675174014, 7.2479999999999905, 'gini = 0.0\\nsamples = 3\\nvalue = [3, 0]'),\n",
       " Text(258.6737819025522, 7.2479999999999905, 'gini = 0.0\\nsamples = 2\\nvalue = [0, 2]'),\n",
       " Text(261.78097447795824, 50.73599999999999, 'X[4] <= 153.5\\ngini = 0.48\\nsamples = 5\\nvalue = [2, 3]'),\n",
       " Text(258.6737819025522, 36.23999999999998, 'gini = 0.0\\nsamples = 2\\nvalue = [2, 0]'),\n",
       " Text(264.88816705336427, 36.23999999999998, 'gini = 0.0\\nsamples = 3\\nvalue = [0, 3]'),\n",
       " Text(271.10255220417633, 65.232, 'X[2] <= 72.0\\ngini = 0.496\\nsamples = 11\\nvalue = [5, 6]'),\n",
       " Text(267.9953596287703, 50.73599999999999, 'gini = 0.0\\nsamples = 3\\nvalue = [0, 3]'),\n",
       " Text(274.20974477958237, 50.73599999999999, 'X[0] <= 3.0\\ngini = 0.469\\nsamples = 8\\nvalue = [5, 3]'),\n",
       " Text(271.10255220417633, 36.23999999999998, 'gini = 0.0\\nsamples = 4\\nvalue = [4, 0]'),\n",
       " Text(277.3169373549884, 36.23999999999998, 'X[0] <= 4.5\\ngini = 0.375\\nsamples = 4\\nvalue = [1, 3]'),\n",
       " Text(274.20974477958237, 21.744, 'gini = 0.0\\nsamples = 3\\nvalue = [0, 3]'),\n",
       " Text(280.42412993039443, 21.744, 'gini = 0.0\\nsamples = 1\\nvalue = [1, 0]'),\n",
       " Text(269.54895591647335, 79.72799999999998, 'gini = 0.0\\nsamples = 2\\nvalue = [0, 2]'),\n",
       " Text(272.6561484918794, 94.22399999999999, 'gini = 0.0\\nsamples = 8\\nvalue = [8, 0]'),\n",
       " Text(278.87053364269144, 123.216, 'X[5] <= 30.15\\ngini = 0.32\\nsamples = 10\\nvalue = [2, 8]'),\n",
       " Text(275.7633410672854, 108.72, 'gini = 0.0\\nsamples = 1\\nvalue = [1, 0]'),\n",
       " Text(281.9777262180975, 108.72, 'X[4] <= 147.5\\ngini = 0.198\\nsamples = 9\\nvalue = [1, 8]'),\n",
       " Text(278.87053364269144, 94.22399999999999, 'gini = 0.0\\nsamples = 7\\nvalue = [0, 7]'),\n",
       " Text(285.0849187935035, 94.22399999999999, 'X[1] <= 137.5\\ngini = 0.5\\nsamples = 2\\nvalue = [1, 1]'),\n",
       " Text(281.9777262180975, 79.72799999999998, 'gini = 0.0\\nsamples = 1\\nvalue = [1, 0]'),\n",
       " Text(288.19211136890954, 79.72799999999998, 'gini = 0.0\\nsamples = 1\\nvalue = [0, 1]'),\n",
       " Text(303.7280742459397, 152.208, 'X[4] <= 143.0\\ngini = 0.219\\nsamples = 16\\nvalue = [2, 14]'),\n",
       " Text(300.62088167053366, 137.712, 'X[3] <= 36.0\\ngini = 0.346\\nsamples = 9\\nvalue = [2, 7]'),\n",
       " Text(297.51368909512763, 123.216, 'X[5] <= 33.7\\ngini = 0.219\\nsamples = 8\\nvalue = [1, 7]'),\n",
       " Text(294.4064965197216, 108.72, 'X[5] <= 32.95\\ngini = 0.444\\nsamples = 3\\nvalue = [1, 2]'),\n",
       " Text(291.29930394431557, 94.22399999999999, 'gini = 0.0\\nsamples = 2\\nvalue = [0, 2]'),\n",
       " Text(297.51368909512763, 94.22399999999999, 'gini = 0.0\\nsamples = 1\\nvalue = [1, 0]'),\n",
       " Text(300.62088167053366, 108.72, 'gini = 0.0\\nsamples = 5\\nvalue = [0, 5]'),\n",
       " Text(303.7280742459397, 123.216, 'gini = 0.0\\nsamples = 1\\nvalue = [1, 0]'),\n",
       " Text(306.8352668213457, 137.712, 'gini = 0.0\\nsamples = 7\\nvalue = [0, 7]'),\n",
       " Text(322.3712296983759, 166.704, 'X[6] <= 1.157\\ngini = 0.219\\nsamples = 56\\nvalue = [7, 49]'),\n",
       " Text(316.1568445475638, 152.208, 'X[6] <= 0.343\\ngini = 0.147\\nsamples = 50\\nvalue = [4, 46]'),\n",
       " Text(313.0496519721578, 137.712, 'X[6] <= 0.34\\ngini = 0.332\\nsamples = 19\\nvalue = [4, 15]'),\n",
       " Text(309.94245939675176, 123.216, 'X[1] <= 177.0\\ngini = 0.278\\nsamples = 18\\nvalue = [3, 15]'),\n",
       " Text(306.8352668213457, 108.72, 'gini = 0.0\\nsamples = 9\\nvalue = [0, 9]'),\n",
       " Text(313.0496519721578, 108.72, 'X[0] <= 6.5\\ngini = 0.444\\nsamples = 9\\nvalue = [3, 6]'),\n",
       " Text(309.94245939675176, 94.22399999999999, 'X[1] <= 190.5\\ngini = 0.245\\nsamples = 7\\nvalue = [1, 6]'),\n",
       " Text(306.8352668213457, 79.72799999999998, 'gini = 0.0\\nsamples = 5\\nvalue = [0, 5]'),\n",
       " Text(313.0496519721578, 79.72799999999998, 'X[2] <= 69.0\\ngini = 0.5\\nsamples = 2\\nvalue = [1, 1]'),\n",
       " Text(309.94245939675176, 65.232, 'gini = 0.0\\nsamples = 1\\nvalue = [1, 0]'),\n",
       " Text(316.1568445475638, 65.232, 'gini = 0.0\\nsamples = 1\\nvalue = [0, 1]'),\n",
       " Text(316.1568445475638, 94.22399999999999, 'gini = 0.0\\nsamples = 2\\nvalue = [2, 0]'),\n",
       " Text(316.1568445475638, 123.216, 'gini = 0.0\\nsamples = 1\\nvalue = [1, 0]'),\n",
       " Text(319.26403712296985, 137.712, 'gini = 0.0\\nsamples = 31\\nvalue = [0, 31]'),\n",
       " Text(328.58561484918795, 152.208, 'X[5] <= 40.4\\ngini = 0.5\\nsamples = 6\\nvalue = [3, 3]'),\n",
       " Text(325.4784222737819, 137.712, 'X[5] <= 37.55\\ngini = 0.375\\nsamples = 4\\nvalue = [1, 3]'),\n",
       " Text(322.3712296983759, 123.216, 'gini = 0.0\\nsamples = 1\\nvalue = [1, 0]'),\n",
       " Text(328.58561484918795, 123.216, 'gini = 0.0\\nsamples = 3\\nvalue = [0, 3]'),\n",
       " Text(331.692807424594, 137.712, 'gini = 0.0\\nsamples = 2\\nvalue = [2, 0]')]"
      ]
     },
     "execution_count": 42,
     "metadata": {},
     "output_type": "execute_result"
    },
    {
     "data": {
      "image/png": "[encoded data removed]",
      "text/plain": [
       "<Figure size 432x288 with 1 Axes>"
      ]
     },
     "metadata": {
      "needs_background": "light"
     },
     "output_type": "display_data"
    }
   ],
   "source": [
    "tree.plot_tree(clf)"
   ]
  },
  {
   "cell_type": "code",
   "execution_count": 58,
   "metadata": {},
   "outputs": [],
   "source": [
    "from sklearn.metrics import confusion_matrix,plot_confusion_matrix\n",
    "cm=np.array(confusion_matrix(y_test,y_pred))"
   ]
  },
  {
   "cell_type": "code",
   "execution_count": 59,
   "metadata": {},
   "outputs": [
    {
     "data": {
      "text/plain": [
       "array([[107,  39],\n",
       "       [ 45,  40]], dtype=int64)"
      ]
     },
     "execution_count": 59,
     "metadata": {},
     "output_type": "execute_result"
    }
   ],
   "source": [
    "cm"
   ]
  },
  {
   "cell_type": "code",
   "execution_count": 60,
   "metadata": {},
   "outputs": [
    {
     "data": {
      "text/plain": [
       "<AxesSubplot:>"
      ]
     },
     "execution_count": 60,
     "metadata": {},
     "output_type": "execute_result"
    },
    {
     "data": {
      "image/png": "[encoded data removed]",
      "text/plain": [
       "<Figure size 432x288 with 2 Axes>"
      ]
     },
     "metadata": {
      "needs_background": "light"
     },
     "output_type": "display_data"
    }
   ],
   "source": [
    "import seaborn as sns\n",
    "sns.heatmap(cm, annot=True)"
   ]
  },
  {
   "cell_type": "code",
   "execution_count": 61,
   "metadata": {},
   "outputs": [
    {
     "data": {
      "text/plain": [
       "<AxesSubplot:>"
      ]
     },
     "execution_count": 61,
     "metadata": {},
     "output_type": "execute_result"
    },
    {
     "data": {
      "image/png": "[encoded data removed]",
      "text/plain": [
       "<Figure size 432x288 with 2 Axes>"
      ]
     },
     "metadata": {
      "needs_background": "light"
     },
     "output_type": "display_data"
    }
   ],
   "source": [
    "sns.heatmap(cm/np.sum(cm), annot=True, \n",
    "            fmt='.2%', cmap='Blues')"
   ]
  },
  {
   "cell_type": "code",
   "execution_count": 62,
   "metadata": {},
   "outputs": [],
   "source": [
    "# Making a heatmap with labels:"
   ]
  },
  {
   "cell_type": "code",
   "execution_count": 77,
   "metadata": {},
   "outputs": [
    {
     "data": {
      "text/plain": [
       "<AxesSubplot:>"
      ]
     },
     "execution_count": 77,
     "metadata": {},
     "output_type": "execute_result"
    },
    {
     "data": {
      "image/png": "[encoded data removed]",
      "text/plain": [
       "<Figure size 432x288 with 2 Axes>"
      ]
     },
     "metadata": {
      "needs_background": "light"
     },
     "output_type": "display_data"
    }
   ],
   "source": [
    "labels = ['True Neg','False Pos','False Neg','True Pos']\n",
    "labels = np.asarray(labels).reshape(2,2)\n",
    "sns.heatmap(cm, annot=labels, fmt='', cmap='Blues')"
   ]
  },
  {
   "cell_type": "code",
   "execution_count": 82,
   "metadata": {},
   "outputs": [
    {
     "data": {
      "text/plain": [
       "<AxesSubplot:>"
      ]
     },
     "execution_count": 82,
     "metadata": {},
     "output_type": "execute_result"
    },
    {
     "data": {
      "image/png": "[encoded data removed]",
      "text/plain": [
       "<Figure size 432x288 with 2 Axes>"
      ]
     },
     "metadata": {
      "needs_background": "light"
     },
     "output_type": "display_data"
    }
   ],
   "source": [
    "group_names = ['True Neg','False Pos','False Neg','True Pos']\n",
    "group_counts = ['{0:0.0f}'.format(value) for value in\n",
    "                cm.flatten()]\n",
    "group_percentages = ['{0:.2%}'.format(value) for value in\n",
    "                     cm.flatten()/np.sum(cm)]\n",
    "labels = [f'{v1}\\n{v2}\\n{v3}' for v1, v2, v3 in\n",
    "          zip(group_names,group_counts,group_percentages)]\n",
    "labels = np.asarray(labels).reshape(2,2)\n",
    "sns.heatmap(cm, annot=labels, fmt='', cmap='Blues')"
   ]
  },
  {
   "cell_type": "markdown",
   "metadata": {},
   "source": [
    "This function will make a pretty plot of an sklearn Confusion Matrix cm using a Seaborn heatmap visualization.\n",
    "\n",
    "Arguments\n",
    "---------\n",
    "cf:            confusion matrix to be passed in\n",
    "\n",
    "group_names:   List of strings that represent the labels row by row\n",
    "               to be shown in each square.\n",
    "\n",
    "categories:    List of strings containing the categories to be\n",
    "               displayed on the x,y axis. Default is 'auto'\n",
    "\n",
    "count:         If True, show the raw number in the confusion matrix.\n",
    "               Default is True.\n",
    "\n",
    "normalize:     If True, show the proportions for each category.\n",
    "               Default is True.\n",
    "\n",
    "cbar:          If True, show the color bar. The cbar values are\n",
    "               based off the values in the confusion matrix.\n",
    "               Default is True.\n",
    "\n",
    "xyticks:       If True, show x and y ticks. Default is True.\n",
    "\n",
    "xyplotlabels:  If True, show 'True Label' and 'Predicted Label' on\n",
    "               the figure. Default is True.\n",
    "\n",
    "sum_stats:     If True, display summary statistics below the figure.\n",
    "               Default is True.\n",
    "\n",
    "figsize:       Tuple representing the figure size. Default will be\n",
    "               the matplotlib rcParams value.\n",
    "\n",
    "cmap:          Colormap of the values displayed from\n",
    "               matplotlib.pyplot.cm. Default is 'Blues'"
   ]
  },
  {
   "cell_type": "code",
   "execution_count": null,
   "metadata": {},
   "outputs": [],
   "source": [
    "# https://www.kaggle.com/code/agungor2/various-confusion-matrix-plots/notebook"
   ]
  },
  {
   "cell_type": "code",
   "execution_count": 83,
   "metadata": {},
   "outputs": [],
   "source": [
    "from sklearn.metrics import classification_report"
   ]
  },
  {
   "cell_type": "code",
   "execution_count": 84,
   "metadata": {},
   "outputs": [
    {
     "name": "stdout",
     "output_type": "stream",
     "text": [
      "              precision    recall  f1-score   support\n",
      "\n",
      "           0       0.70      0.73      0.72       146\n",
      "           1       0.51      0.47      0.49        85\n",
      "\n",
      "    accuracy                           0.64       231\n",
      "   macro avg       0.61      0.60      0.60       231\n",
      "weighted avg       0.63      0.64      0.63       231\n",
      "\n"
     ]
    }
   ],
   "source": [
    "print(classification_report(y_test,y_pred))"
   ]
  },
  {
   "cell_type": "code",
   "execution_count": null,
   "metadata": {},
   "outputs": [],
   "source": []
  },
  {
   "cell_type": "code",
   "execution_count": null,
   "metadata": {},
   "outputs": [],
   "source": []
  }
 ],
 "metadata": {
  "kernelspec": {
   "display_name": "Python 3 (ipykernel)",
   "language": "python",
   "name": "python3"
  },
  "language_info": {
   "codemirror_mode": {
    "name": "ipython",
    "version": 3
   },
   "file_extension": ".py",
   "mimetype": "text/x-python",
   "name": "python",
   "nbconvert_exporter": "python",
   "pygments_lexer": "ipython3",
   "version": "3.9.7"
  }
 },
 "nbformat": 4,
 "nbformat_minor": 4
}
