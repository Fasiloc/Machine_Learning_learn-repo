{
  "nbformat": 4,
  "nbformat_minor": 0,
  "metadata": {
    "colab": {
      "provenance": [],
      "authorship_tag": "ABX9TyMMhgR9L77YRMTMl84lIx3Y",
      "include_colab_link": true
    },
    "kernelspec": {
      "name": "python3",
      "display_name": "Python 3"
    },
    "language_info": {
      "name": "python"
    }
  },
  "cells": [
    {
      "cell_type": "markdown",
      "metadata": {
        "id": "view-in-github",
        "colab_type": "text"
      },
      "source": [
        "<a href=\"https://colab.research.google.com/github/Fasiloc/Machine_Learning_learn-repo/blob/main/Classes/Day_23_Artificial_neural_networks.ipynb\" target=\"_parent\"><img src=\"https://colab.research.google.com/assets/colab-badge.svg\" alt=\"Open In Colab\"/></a>"
      ]
    },
    {
      "cell_type": "code",
      "execution_count": null,
      "metadata": {
        "id": "ULTNGa5EgC-k"
      },
      "outputs": [],
      "source": [
        "import pandas as pd\n",
        "import matplotlib.pyplot as plt\n",
        "from sklearn.model_selection import train_test_split\n",
        "from sklearn.preprocessing import StandardScaler\n",
        "from sklearn.neural_network import MLPClassifier\n",
        "from sklearn.metrics import accuracy_score"
      ]
    },
    {
      "cell_type": "code",
      "source": [
        "df=pd.read_csv('winequality.csv')"
      ],
      "metadata": {
        "id": "T3FOqL16h7oG"
      },
      "execution_count": null,
      "outputs": []
    },
    {
      "cell_type": "code",
      "source": [
        "df.info()"
      ],
      "metadata": {
        "colab": {
          "base_uri": "https://localhost:8080/"
        },
        "id": "yhNGR9w9iECT",
        "outputId": "57cbb423-2b87-4069-ce0f-4e46bbfe401e"
      },
      "execution_count": null,
      "outputs": [
        {
          "output_type": "stream",
          "name": "stdout",
          "text": [
            "<class 'pandas.core.frame.DataFrame'>\n",
            "RangeIndex: 6497 entries, 0 to 6496\n",
            "Data columns (total 13 columns):\n",
            " #   Column                Non-Null Count  Dtype  \n",
            "---  ------                --------------  -----  \n",
            " 0   type                  6497 non-null   object \n",
            " 1   fixed acidity         6487 non-null   float64\n",
            " 2   volatile acidity      6489 non-null   float64\n",
            " 3   citric acid           6494 non-null   float64\n",
            " 4   residual sugar        6495 non-null   float64\n",
            " 5   chlorides             6495 non-null   float64\n",
            " 6   free sulfur dioxide   6497 non-null   float64\n",
            " 7   total sulfur dioxide  6497 non-null   float64\n",
            " 8   density               6497 non-null   float64\n",
            " 9   pH                    6488 non-null   float64\n",
            " 10  sulphates             6493 non-null   float64\n",
            " 11  alcohol               6497 non-null   float64\n",
            " 12  quality               6497 non-null   int64  \n",
            "dtypes: float64(11), int64(1), object(1)\n",
            "memory usage: 660.0+ KB\n"
          ]
        }
      ]
    },
    {
      "cell_type": "code",
      "source": [
        "df=df.dropna()"
      ],
      "metadata": {
        "id": "3Oz9gn2riGr6"
      },
      "execution_count": null,
      "outputs": []
    },
    {
      "cell_type": "code",
      "source": [
        "df['type'].value_counts()"
      ],
      "metadata": {
        "colab": {
          "base_uri": "https://localhost:8080/"
        },
        "id": "5e9eGtzvjEpq",
        "outputId": "351f3216-938f-4580-a12c-def98e5c97ab"
      },
      "execution_count": null,
      "outputs": [
        {
          "output_type": "execute_result",
          "data": {
            "text/plain": [
              "white    4870\n",
              "red      1593\n",
              "Name: type, dtype: int64"
            ]
          },
          "metadata": {},
          "execution_count": 7
        }
      ]
    },
    {
      "cell_type": "code",
      "source": [
        "df['type'].value_counts().plot(kind='bar',title='count (target)')"
      ],
      "metadata": {
        "colab": {
          "base_uri": "https://localhost:8080/",
          "height": 317
        },
        "id": "1PvuDBXrjK7I",
        "outputId": "1656c957-2004-4dcb-aaa8-c0e281ce4fa5"
      },
      "execution_count": null,
      "outputs": [
        {
          "output_type": "execute_result",
          "data": {
            "text/plain": [
              "<matplotlib.axes._subplots.AxesSubplot at 0x7f61ef6f5e90>"
            ]
          },
          "metadata": {},
          "execution_count": 8
        },
        {
          "output_type": "display_data",
          "data": {
            "image/png": "[encoded data removed]",
            "text/plain": [
              "<Figure size 432x288 with 1 Axes>"
            ]
          },
          "metadata": {
            "needs_background": "light"
          }
        }
      ]
    },
    {
      "cell_type": "code",
      "source": [
        "x = df.drop('type',axis=1)\n",
        "y = df['type']"
      ],
      "metadata": {
        "id": "vWyj2scIjvIp"
      },
      "execution_count": null,
      "outputs": []
    },
    {
      "cell_type": "code",
      "source": [
        "x_train,x_test,y_train,y_test=train_test_split(x,y,test_size=0.2)"
      ],
      "metadata": {
        "id": "EHgGPnLTlEyh"
      },
      "execution_count": null,
      "outputs": []
    },
    {
      "cell_type": "code",
      "source": [
        "sc = StandardScaler()\n",
        "\n",
        "scaler = sc.fit(x_train)\n",
        "x_train_scaled = scaler.transform(x_train)\n",
        "x_test_scaled = scaler.transform(x_test)\n",
        "\n",
        "mlp_clf = MLPClassifier(hidden_layer_sizes=(150,100,50),\n",
        "                        max_iter=300,activation='relu',\n",
        "                        verbose=True,\n",
        "                        solver='adam')\n",
        "\n",
        "mlp_clf.fit(x_train_scaled,y_train)"
      ],
      "metadata": {
        "colab": {
          "base_uri": "https://localhost:8080/"
        },
        "id": "fEHqOibelcc9",
        "outputId": "5b5f2cf0-3b55-41ab-889f-aa8d240ce82e"
      },
      "execution_count": null,
      "outputs": [
        {
          "output_type": "stream",
          "name": "stdout",
          "text": [
            "Iteration 1, loss = 0.27449390\n",
            "Iteration 2, loss = 0.04026184\n",
            "Iteration 3, loss = 0.03103464\n",
            "Iteration 4, loss = 0.02663563\n",
            "Iteration 5, loss = 0.02398511\n",
            "Iteration 6, loss = 0.02171156\n",
            "Iteration 7, loss = 0.01970589\n",
            "Iteration 8, loss = 0.01832551\n",
            "Iteration 9, loss = 0.01710191\n",
            "Iteration 10, loss = 0.01579221\n",
            "Iteration 11, loss = 0.01530439\n",
            "Iteration 12, loss = 0.01395227\n",
            "Iteration 13, loss = 0.01303890\n",
            "Iteration 14, loss = 0.01201339\n",
            "Iteration 15, loss = 0.01124961\n",
            "Iteration 16, loss = 0.01040664\n",
            "Iteration 17, loss = 0.00952580\n",
            "Iteration 18, loss = 0.00894735\n",
            "Iteration 19, loss = 0.00823827\n",
            "Iteration 20, loss = 0.00745308\n",
            "Iteration 21, loss = 0.00710147\n",
            "Iteration 22, loss = 0.00642807\n",
            "Iteration 23, loss = 0.00600329\n",
            "Iteration 24, loss = 0.00508990\n",
            "Iteration 25, loss = 0.00430026\n",
            "Iteration 26, loss = 0.00386112\n",
            "Iteration 27, loss = 0.00329704\n",
            "Iteration 28, loss = 0.00252434\n",
            "Iteration 29, loss = 0.00247052\n",
            "Iteration 30, loss = 0.00212576\n",
            "Iteration 31, loss = 0.00241606\n",
            "Iteration 32, loss = 0.00178913\n",
            "Iteration 33, loss = 0.00142357\n",
            "Iteration 34, loss = 0.00112025\n",
            "Iteration 35, loss = 0.00108050\n",
            "Iteration 36, loss = 0.00093160\n",
            "Iteration 37, loss = 0.00089883\n",
            "Iteration 38, loss = 0.00078964\n",
            "Iteration 39, loss = 0.00091616\n",
            "Iteration 40, loss = 0.00071964\n",
            "Iteration 41, loss = 0.00064579\n",
            "Iteration 42, loss = 0.00072699\n",
            "Iteration 43, loss = 0.00075743\n",
            "Iteration 44, loss = 0.00068434\n",
            "Iteration 45, loss = 0.00080798\n",
            "Iteration 46, loss = 0.00056484\n",
            "Iteration 47, loss = 0.00065702\n",
            "Iteration 48, loss = 0.00060308\n",
            "Iteration 49, loss = 0.00058888\n",
            "Training loss did not improve more than tol=0.000100 for 10 consecutive epochs. Stopping.\n"
          ]
        },
        {
          "output_type": "execute_result",
          "data": {
            "text/plain": [
              "MLPClassifier(hidden_layer_sizes=(150, 100, 50), max_iter=300, verbose=True)"
            ]
          },
          "metadata": {},
          "execution_count": 11
        }
      ]
    },
    {
      "cell_type": "code",
      "source": [
        "y_pred = mlp_clf.predict(x_test_scaled)\n",
        "print('Accuracy : {:.3f}'.format(accuracy_score(y_test,y_pred)))"
      ],
      "metadata": {
        "colab": {
          "base_uri": "https://localhost:8080/"
        },
        "id": "tZnWGFDolgcL",
        "outputId": "d8882dad-307c-4580-a649-b0a599890e2d"
      },
      "execution_count": null,
      "outputs": [
        {
          "output_type": "stream",
          "name": "stdout",
          "text": [
            "Accuracy : 0.998\n"
          ]
        }
      ]
    },
    {
      "cell_type": "code",
      "source": [
        "# class count\n",
        "class_count_0,class_count_1 = df['type'].value_counts()\n",
        "\n",
        "#separate classes\n",
        "class_0 = df[df['type']=='white']\n",
        "class_1 = df[df['type']=='red'] \n",
        "# print shape of the class\n",
        "print('class 0 :',class_0.shape)\n",
        "print('class 1 :',class_1.shape)"
      ],
      "metadata": {
        "colab": {
          "base_uri": "https://localhost:8080/"
        },
        "id": "hz4i_Ncgps2p",
        "outputId": "dddb1ebb-76f9-43d1-d889-dd5484cb92ec"
      },
      "execution_count": null,
      "outputs": [
        {
          "output_type": "stream",
          "name": "stdout",
          "text": [
            "class 0 : (4870, 13)\n",
            "class 1 : (1593, 13)\n"
          ]
        }
      ]
    },
    {
      "cell_type": "code",
      "source": [
        "class_1_over = class_1.sample(class_count_0,replace=True)\n",
        "\n",
        "# means if input data is repeating or not\n",
        "test_over = pd.concat([class_1_over,class_0],axis=0)\n",
        "print('total class of 1 and 0 :',test_over['type'].value_counts())\n",
        "\n",
        "#plot the count after undersampling\n",
        "test_over['type'].value_counts().plot(kind='bar',title='count(Target')\n"
      ],
      "metadata": {
        "colab": {
          "base_uri": "https://localhost:8080/",
          "height": 373
        },
        "id": "QwSC84QbvJ_Z",
        "outputId": "596211f7-25d5-40a6-ba06-aab2c77a09fa"
      },
      "execution_count": null,
      "outputs": [
        {
          "output_type": "stream",
          "name": "stdout",
          "text": [
            "total class of 1 and 0 : red      4870\n",
            "white    4870\n",
            "Name: type, dtype: int64\n"
          ]
        },
        {
          "output_type": "execute_result",
          "data": {
            "text/plain": [
              "<matplotlib.axes._subplots.AxesSubplot at 0x7f61ec972850>"
            ]
          },
          "metadata": {},
          "execution_count": 14
        },
        {
          "output_type": "display_data",
          "data": {
            "image/png": "[encoded data removed]",
            "text/plain": [
              "<Figure size 432x288 with 1 Axes>"
            ]
          },
          "metadata": {
            "needs_background": "light"
          }
        }
      ]
    },
    {
      "cell_type": "code",
      "source": [
        "x= test_over.drop('type',axis=1)\n",
        "y = test_over['type']"
      ],
      "metadata": {
        "id": "lqopfjK3wSjf"
      },
      "execution_count": null,
      "outputs": []
    },
    {
      "cell_type": "code",
      "source": [
        "x_train,x_test,y_train,y_test=train_test_split(x,y,test_size=0.2)"
      ],
      "metadata": {
        "id": "JB27MStvxU8V"
      },
      "execution_count": null,
      "outputs": []
    },
    {
      "cell_type": "code",
      "source": [
        "sc = StandardScaler()\n",
        "\n",
        "scaler = sc.fit(x_train)\n",
        "x_train_scaled = scaler.transform(x_train)\n",
        "x_test_scaled = scaler.transform(x_test)"
      ],
      "metadata": {
        "id": "8-NrralexvTR"
      },
      "execution_count": null,
      "outputs": []
    },
    {
      "cell_type": "code",
      "source": [
        "mlp_clf = MLPClassifier(hidden_layer_sizes=(150,100,50),\n",
        "                        max_iter=300,activation='relu',\n",
        "                        verbose=True,\n",
        "                        solver='adam')\n",
        "\n",
        "mlp_clf.fit(x_train_scaled,y_train)"
      ],
      "metadata": {
        "colab": {
          "base_uri": "https://localhost:8080/"
        },
        "id": "ag9oy2Jjx0vH",
        "outputId": "6ed49d69-f254-4191-ac1e-c8c6ba24b65d"
      },
      "execution_count": null,
      "outputs": [
        {
          "output_type": "stream",
          "name": "stdout",
          "text": [
            "Iteration 1, loss = 0.21302269\n",
            "Iteration 2, loss = 0.04113759\n",
            "Iteration 3, loss = 0.03067044\n",
            "Iteration 4, loss = 0.02589971\n",
            "Iteration 5, loss = 0.02225046\n",
            "Iteration 6, loss = 0.01924505\n",
            "Iteration 7, loss = 0.01654612\n",
            "Iteration 8, loss = 0.01455891\n",
            "Iteration 9, loss = 0.01241268\n",
            "Iteration 10, loss = 0.01093123\n",
            "Iteration 11, loss = 0.00945921\n",
            "Iteration 12, loss = 0.00821016\n",
            "Iteration 13, loss = 0.00740055\n",
            "Iteration 14, loss = 0.00681024\n",
            "Iteration 15, loss = 0.00555171\n",
            "Iteration 16, loss = 0.00558045\n",
            "Iteration 17, loss = 0.00403858\n",
            "Iteration 18, loss = 0.00339224\n",
            "Iteration 19, loss = 0.00279708\n",
            "Iteration 20, loss = 0.00218409\n",
            "Iteration 21, loss = 0.00250679\n",
            "Iteration 22, loss = 0.00183868\n",
            "Iteration 23, loss = 0.00135933\n",
            "Iteration 24, loss = 0.00115976\n",
            "Iteration 25, loss = 0.00109774\n",
            "Iteration 26, loss = 0.00095906\n",
            "Iteration 27, loss = 0.00104638\n",
            "Iteration 28, loss = 0.00134580\n",
            "Iteration 29, loss = 0.00078039\n",
            "Iteration 30, loss = 0.00090900\n",
            "Iteration 31, loss = 0.00070933\n",
            "Iteration 32, loss = 0.00071458\n",
            "Iteration 33, loss = 0.00112746\n",
            "Iteration 34, loss = 0.00071220\n",
            "Iteration 35, loss = 0.00066952\n",
            "Iteration 36, loss = 0.00087728\n",
            "Iteration 37, loss = 0.00066485\n",
            "Iteration 38, loss = 0.00104297\n",
            "Iteration 39, loss = 0.00063763\n",
            "Iteration 40, loss = 0.00055643\n",
            "Training loss did not improve more than tol=0.000100 for 10 consecutive epochs. Stopping.\n"
          ]
        },
        {
          "output_type": "execute_result",
          "data": {
            "text/plain": [
              "MLPClassifier(hidden_layer_sizes=(150, 100, 50), max_iter=300, verbose=True)"
            ]
          },
          "metadata": {},
          "execution_count": 18
        }
      ]
    },
    {
      "cell_type": "code",
      "source": [
        "y_pred = mlp_clf.predict(x_test_scaled)\n",
        "print('Accuracy : {:.5f}'.format(accuracy_score(y_test,y_pred)))"
      ],
      "metadata": {
        "colab": {
          "base_uri": "https://localhost:8080/"
        },
        "id": "Jd69-Sm-x44Y",
        "outputId": "c3be4ed0-a7c5-42c8-e961-0e705c87acd3"
      },
      "execution_count": null,
      "outputs": [
        {
          "output_type": "stream",
          "name": "stdout",
          "text": [
            "Accuracy : 0.99795\n"
          ]
        }
      ]
    },
    {
      "cell_type": "markdown",
      "source": [
        "## Hyperparameter tuning"
      ],
      "metadata": {
        "id": "i9B0-HT71Iuu"
      }
    },
    {
      "cell_type": "code",
      "source": [
        "param_grid = {\n",
        "    'hidden_layer_sizes': [(150,100,50),(120,80,40),(100,50,30)],\n",
        "    'max_iter': [50,100,150],\n",
        "    'activation': ['tanh','relu'],\n",
        "    'solver': ['sgd','adam'],\n",
        "    'learning_rate': ['constant','adaptive']\n",
        "}"
      ],
      "metadata": {
        "id": "Gs7hbjrvyLRc"
      },
      "execution_count": null,
      "outputs": []
    },
    {
      "cell_type": "code",
      "source": [
        "from sklearn.model_selection import GridSearchCV\n",
        "\n",
        "grid = GridSearchCV(mlp_clf, param_grid, n_jobs=-1)\n",
        "grid.fit(x_test_scaled,y_train)\n",
        "\n",
        "print(grid.best_params_)"
      ],
      "metadata": {
        "id": "ivO8mRmt2NbE",
        "colab": {
          "base_uri": "https://localhost:8080/",
          "height": 454
        },
        "outputId": "e0e4f737-d195-47ea-f8d5-7ff4b8018e6a"
      },
      "execution_count": null,
      "outputs": [
        {
          "output_type": "error",
          "ename": "ValueError",
          "evalue": "ignored",
          "traceback": [
            "\u001b[0;31m---------------------------------------------------------------------------\u001b[0m",
            "\u001b[0;31mValueError\u001b[0m                                Traceback (most recent call last)",
            "\u001b[0;32m<ipython-input-21-65e863b33e2c>\u001b[0m in \u001b[0;36m<module>\u001b[0;34m()\u001b[0m\n\u001b[1;32m      2\u001b[0m \u001b[0;34m\u001b[0m\u001b[0m\n\u001b[1;32m      3\u001b[0m \u001b[0mgrid\u001b[0m \u001b[0;34m=\u001b[0m \u001b[0mGridSearchCV\u001b[0m\u001b[0;34m(\u001b[0m\u001b[0mmlp_clf\u001b[0m\u001b[0;34m,\u001b[0m \u001b[0mparam_grid\u001b[0m\u001b[0;34m,\u001b[0m \u001b[0mn_jobs\u001b[0m\u001b[0;34m=\u001b[0m\u001b[0;34m-\u001b[0m\u001b[0;36m1\u001b[0m\u001b[0;34m)\u001b[0m\u001b[0;34m\u001b[0m\u001b[0;34m\u001b[0m\u001b[0m\n\u001b[0;32m----> 4\u001b[0;31m \u001b[0mgrid\u001b[0m\u001b[0;34m.\u001b[0m\u001b[0mfit\u001b[0m\u001b[0;34m(\u001b[0m\u001b[0mx_test_scaled\u001b[0m\u001b[0;34m,\u001b[0m\u001b[0my_train\u001b[0m\u001b[0;34m)\u001b[0m\u001b[0;34m\u001b[0m\u001b[0;34m\u001b[0m\u001b[0m\n\u001b[0m\u001b[1;32m      5\u001b[0m \u001b[0;34m\u001b[0m\u001b[0m\n\u001b[1;32m      6\u001b[0m \u001b[0mprint\u001b[0m\u001b[0;34m(\u001b[0m\u001b[0mgrid\u001b[0m\u001b[0;34m.\u001b[0m\u001b[0mbest_params_\u001b[0m\u001b[0;34m)\u001b[0m\u001b[0;34m\u001b[0m\u001b[0;34m\u001b[0m\u001b[0m\n",
            "\u001b[0;32m/usr/local/lib/python3.7/dist-packages/sklearn/model_selection/_search.py\u001b[0m in \u001b[0;36mfit\u001b[0;34m(self, X, y, groups, **fit_params)\u001b[0m\n\u001b[1;32m    797\u001b[0m             \u001b[0mrefit_metric\u001b[0m \u001b[0;34m=\u001b[0m \u001b[0mself\u001b[0m\u001b[0;34m.\u001b[0m\u001b[0mrefit\u001b[0m\u001b[0;34m\u001b[0m\u001b[0;34m\u001b[0m\u001b[0m\n\u001b[1;32m    798\u001b[0m \u001b[0;34m\u001b[0m\u001b[0m\n\u001b[0;32m--> 799\u001b[0;31m         \u001b[0mX\u001b[0m\u001b[0;34m,\u001b[0m \u001b[0my\u001b[0m\u001b[0;34m,\u001b[0m \u001b[0mgroups\u001b[0m \u001b[0;34m=\u001b[0m \u001b[0mindexable\u001b[0m\u001b[0;34m(\u001b[0m\u001b[0mX\u001b[0m\u001b[0;34m,\u001b[0m \u001b[0my\u001b[0m\u001b[0;34m,\u001b[0m \u001b[0mgroups\u001b[0m\u001b[0;34m)\u001b[0m\u001b[0;34m\u001b[0m\u001b[0;34m\u001b[0m\u001b[0m\n\u001b[0m\u001b[1;32m    800\u001b[0m         \u001b[0mfit_params\u001b[0m \u001b[0;34m=\u001b[0m \u001b[0m_check_fit_params\u001b[0m\u001b[0;34m(\u001b[0m\u001b[0mX\u001b[0m\u001b[0;34m,\u001b[0m \u001b[0mfit_params\u001b[0m\u001b[0;34m)\u001b[0m\u001b[0;34m\u001b[0m\u001b[0;34m\u001b[0m\u001b[0m\n\u001b[1;32m    801\u001b[0m \u001b[0;34m\u001b[0m\u001b[0m\n",
            "\u001b[0;32m/usr/local/lib/python3.7/dist-packages/sklearn/utils/validation.py\u001b[0m in \u001b[0;36mindexable\u001b[0;34m(*iterables)\u001b[0m\n\u001b[1;32m    376\u001b[0m \u001b[0;34m\u001b[0m\u001b[0m\n\u001b[1;32m    377\u001b[0m     \u001b[0mresult\u001b[0m \u001b[0;34m=\u001b[0m \u001b[0;34m[\u001b[0m\u001b[0m_make_indexable\u001b[0m\u001b[0;34m(\u001b[0m\u001b[0mX\u001b[0m\u001b[0;34m)\u001b[0m \u001b[0;32mfor\u001b[0m \u001b[0mX\u001b[0m \u001b[0;32min\u001b[0m \u001b[0miterables\u001b[0m\u001b[0;34m]\u001b[0m\u001b[0;34m\u001b[0m\u001b[0;34m\u001b[0m\u001b[0m\n\u001b[0;32m--> 378\u001b[0;31m     \u001b[0mcheck_consistent_length\u001b[0m\u001b[0;34m(\u001b[0m\u001b[0;34m*\u001b[0m\u001b[0mresult\u001b[0m\u001b[0;34m)\u001b[0m\u001b[0;34m\u001b[0m\u001b[0;34m\u001b[0m\u001b[0m\n\u001b[0m\u001b[1;32m    379\u001b[0m     \u001b[0;32mreturn\u001b[0m \u001b[0mresult\u001b[0m\u001b[0;34m\u001b[0m\u001b[0;34m\u001b[0m\u001b[0m\n\u001b[1;32m    380\u001b[0m \u001b[0;34m\u001b[0m\u001b[0m\n",
            "\u001b[0;32m/usr/local/lib/python3.7/dist-packages/sklearn/utils/validation.py\u001b[0m in \u001b[0;36mcheck_consistent_length\u001b[0;34m(*arrays)\u001b[0m\n\u001b[1;32m    332\u001b[0m         raise ValueError(\n\u001b[1;32m    333\u001b[0m             \u001b[0;34m\"Found input variables with inconsistent numbers of samples: %r\"\u001b[0m\u001b[0;34m\u001b[0m\u001b[0;34m\u001b[0m\u001b[0m\n\u001b[0;32m--> 334\u001b[0;31m             \u001b[0;34m%\u001b[0m \u001b[0;34m[\u001b[0m\u001b[0mint\u001b[0m\u001b[0;34m(\u001b[0m\u001b[0ml\u001b[0m\u001b[0;34m)\u001b[0m \u001b[0;32mfor\u001b[0m \u001b[0ml\u001b[0m \u001b[0;32min\u001b[0m \u001b[0mlengths\u001b[0m\u001b[0;34m]\u001b[0m\u001b[0;34m\u001b[0m\u001b[0;34m\u001b[0m\u001b[0m\n\u001b[0m\u001b[1;32m    335\u001b[0m         )\n\u001b[1;32m    336\u001b[0m \u001b[0;34m\u001b[0m\u001b[0m\n",
            "\u001b[0;31mValueError\u001b[0m: Found input variables with inconsistent numbers of samples: [1948, 7792]"
          ]
        }
      ]
    },
    {
      "cell_type": "code",
      "source": [
        "grid_predictions = grid.predict(x_test_scaled)\n",
        "print('Accuracy : {:.3f}'.format(accuracy_score(y_test,grid_predictions)))"
      ],
      "metadata": {
        "id": "vSLmXTWF2v4N"
      },
      "execution_count": null,
      "outputs": []
    },
    {
      "cell_type": "markdown",
      "source": [
        "## Multilayer Perceptron for Multi-Class Classification"
      ],
      "metadata": {
        "id": "zA-z97IA4Qgz"
      }
    },
    {
      "cell_type": "code",
      "source": [
        "df=pd.read_csv('Iris_Data.csv')\n",
        "df['species'].value_counts()"
      ],
      "metadata": {
        "id": "TV_DpSFC4hqV"
      },
      "execution_count": null,
      "outputs": []
    },
    {
      "cell_type": "code",
      "source": [],
      "metadata": {
        "id": "R-ThgTcr5ApC"
      },
      "execution_count": null,
      "outputs": []
    }
  ]
}