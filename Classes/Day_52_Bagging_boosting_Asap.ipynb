{
  "cells": [
    {
      "cell_type": "markdown",
      "metadata": {
        "id": "view-in-github",
        "colab_type": "text"
      },
      "source": [
        "<a href=\"https://colab.research.google.com/github/Fasiloc/Machine_Learning_learn-repo/blob/main/Classes/Day_52_Bagging_boosting_Asap.ipynb\" target=\"_parent\"><img src=\"https://colab.research.google.com/assets/colab-badge.svg\" alt=\"Open In Colab\"/></a>"
      ]
    },
    {
      "cell_type": "code",
      "execution_count": null,
      "id": "92252049",
      "metadata": {
        "id": "92252049"
      },
      "outputs": [],
      "source": [
        "import numpy as np\n",
        "import pandas as pd\n",
        "from sklearn.model_selection import train_test_split\n",
        "from sklearn.tree import DecisionTreeClassifier\n",
        "from sklearn.ensemble import RandomForestClassifier,BaggingClassifier,AdaBoostClassifier,VotingClassifier\n",
        "from sklearn.linear_model import LogisticRegression\n",
        "from sklearn.svm import SVC"
      ]
    },
    {
      "cell_type": "code",
      "execution_count": null,
      "id": "0c8c3ef5",
      "metadata": {
        "id": "0c8c3ef5"
      },
      "outputs": [],
      "source": [
        "data=pd.read_csv(\"mnist.csv\")"
      ]
    },
    {
      "cell_type": "code",
      "execution_count": null,
      "id": "f796aecf",
      "metadata": {
        "id": "f796aecf"
      },
      "outputs": [],
      "source": [
        "df_x=data.iloc[:,1:]\n",
        "df_y=data.iloc[:,0]"
      ]
    },
    {
      "cell_type": "code",
      "execution_count": null,
      "id": "36889349",
      "metadata": {
        "id": "36889349"
      },
      "outputs": [],
      "source": [
        "x_train,x_test,y_train,y_test=train_test_split(df_x,df_y,test_size=0.3,random_state=4)"
      ]
    },
    {
      "cell_type": "code",
      "execution_count": null,
      "id": "493e0a40",
      "metadata": {
        "id": "493e0a40",
        "outputId": "9260946c-ac6f-4c6a-a7c9-ecb08d6682c5"
      },
      "outputs": [
        {
          "data": {
            "text/plain": [
              "DecisionTreeClassifier()"
            ]
          },
          "execution_count": 74,
          "metadata": {},
          "output_type": "execute_result"
        }
      ],
      "source": [
        "dt=DecisionTreeClassifier()\n",
        "dt.fit(x_train,y_train)"
      ]
    },
    {
      "cell_type": "code",
      "execution_count": null,
      "id": "323f9a1e",
      "metadata": {
        "id": "323f9a1e",
        "outputId": "c23e1847-979e-491d-f6b7-fee44343712a"
      },
      "outputs": [
        {
          "data": {
            "text/plain": [
              "0.789"
            ]
          },
          "execution_count": 75,
          "metadata": {},
          "output_type": "execute_result"
        }
      ],
      "source": [
        "dt.score(x_test,y_test)"
      ]
    },
    {
      "cell_type": "code",
      "execution_count": null,
      "id": "a081746c",
      "metadata": {
        "id": "a081746c",
        "outputId": "da2710f1-5999-4914-fc6c-58f989958057"
      },
      "outputs": [
        {
          "data": {
            "text/plain": [
              "1.0"
            ]
          },
          "execution_count": 76,
          "metadata": {},
          "output_type": "execute_result"
        }
      ],
      "source": [
        "dt.score(x_train,y_train)"
      ]
    },
    {
      "cell_type": "code",
      "execution_count": null,
      "id": "8e73204a",
      "metadata": {
        "id": "8e73204a",
        "outputId": "2b424118-7b87-43b4-94ae-8765001ada61"
      },
      "outputs": [
        {
          "data": {
            "text/plain": [
              "RandomForestClassifier(n_estimators=20)"
            ]
          },
          "execution_count": 77,
          "metadata": {},
          "output_type": "execute_result"
        }
      ],
      "source": [
        "rf=RandomForestClassifier(n_estimators=20)\n",
        "rf.fit(x_train,y_train)"
      ]
    },
    {
      "cell_type": "code",
      "execution_count": null,
      "id": "19d15efa",
      "metadata": {
        "id": "19d15efa",
        "outputId": "faab52d7-1b40-43e4-9ebf-f3edff5bbc43"
      },
      "outputs": [
        {
          "data": {
            "text/plain": [
              "0.9343333333333333"
            ]
          },
          "execution_count": 78,
          "metadata": {},
          "output_type": "execute_result"
        }
      ],
      "source": [
        "rf.score(x_test,y_test)"
      ]
    },
    {
      "cell_type": "markdown",
      "id": "b8fa3850",
      "metadata": {
        "id": "b8fa3850"
      },
      "source": [
        "# Bagging"
      ]
    },
    {
      "cell_type": "code",
      "execution_count": null,
      "id": "a2fbbfba",
      "metadata": {
        "id": "a2fbbfba"
      },
      "outputs": [],
      "source": [
        "bg=BaggingClassifier(DecisionTreeClassifier(),max_samples=0.5,max_features=1.0,n_estimators=20)"
      ]
    },
    {
      "cell_type": "code",
      "execution_count": null,
      "id": "286ab417",
      "metadata": {
        "id": "286ab417",
        "outputId": "f770e555-1efe-46ad-f3b5-345b28a315ec"
      },
      "outputs": [
        {
          "data": {
            "text/plain": [
              "BaggingClassifier(base_estimator=DecisionTreeClassifier(), max_samples=0.5,\n",
              "                  n_estimators=20)"
            ]
          },
          "execution_count": 80,
          "metadata": {},
          "output_type": "execute_result"
        }
      ],
      "source": [
        "bg.fit(x_train,y_train)"
      ]
    },
    {
      "cell_type": "code",
      "execution_count": null,
      "id": "98d28c5d",
      "metadata": {
        "id": "98d28c5d",
        "outputId": "f89194bd-4775-4cab-d07d-42af302c5154"
      },
      "outputs": [
        {
          "data": {
            "text/plain": [
              "0.9066666666666666"
            ]
          },
          "execution_count": 81,
          "metadata": {},
          "output_type": "execute_result"
        }
      ],
      "source": [
        "bg.score(x_test,y_test)"
      ]
    },
    {
      "cell_type": "markdown",
      "id": "77dd3313",
      "metadata": {
        "id": "77dd3313"
      },
      "source": [
        "# adaboost"
      ]
    },
    {
      "cell_type": "code",
      "execution_count": null,
      "id": "63af0916",
      "metadata": {
        "id": "63af0916",
        "outputId": "a209d0f4-2e3e-4137-f356-29e4f2b76793"
      },
      "outputs": [
        {
          "data": {
            "text/plain": [
              "AdaBoostClassifier(base_estimator=DecisionTreeClassifier(), learning_rate=1,\n",
              "                   n_estimators=10)"
            ]
          },
          "execution_count": 82,
          "metadata": {},
          "output_type": "execute_result"
        }
      ],
      "source": [
        "adb=AdaBoostClassifier(DecisionTreeClassifier(),n_estimators=10,learning_rate=1)\n",
        "adb.fit(x_train,y_train)"
      ]
    },
    {
      "cell_type": "code",
      "execution_count": null,
      "id": "36ec3fd9",
      "metadata": {
        "id": "36ec3fd9",
        "outputId": "96fd33cb-7207-41b6-e633-332586720eb5"
      },
      "outputs": [
        {
          "data": {
            "text/plain": [
              "0.7933333333333333"
            ]
          },
          "execution_count": 83,
          "metadata": {},
          "output_type": "execute_result"
        }
      ],
      "source": [
        "adb.score(x_test,y_test)"
      ]
    },
    {
      "cell_type": "code",
      "execution_count": null,
      "id": "b9657f24",
      "metadata": {
        "id": "b9657f24",
        "outputId": "c2434d73-7f79-4a4a-9aa6-e86b52d7b262"
      },
      "outputs": [
        {
          "data": {
            "text/plain": [
              "1.0"
            ]
          },
          "execution_count": 84,
          "metadata": {},
          "output_type": "execute_result"
        }
      ],
      "source": [
        "adb.score(x_train,y_train)"
      ]
    },
    {
      "cell_type": "markdown",
      "id": "ea7d593b",
      "metadata": {
        "id": "ea7d593b"
      },
      "source": [
        "# voting classifer-multiple model ensemble"
      ]
    },
    {
      "cell_type": "code",
      "execution_count": null,
      "id": "2496256e",
      "metadata": {
        "id": "2496256e"
      },
      "outputs": [],
      "source": [
        "ir=LogisticRegression()\n",
        "dt=DecisionTreeClassifier()\n",
        "svm=SVC(kernel='poly',degree=2)"
      ]
    },
    {
      "cell_type": "code",
      "execution_count": null,
      "id": "8acfc5dd",
      "metadata": {
        "id": "8acfc5dd"
      },
      "outputs": [],
      "source": [
        "evc=VotingClassifier(estimators=[('ir',ir),('dt',dt),('svm',svm)],voting='hard')\n"
      ]
    },
    {
      "cell_type": "code",
      "execution_count": null,
      "id": "7e4d64e7",
      "metadata": {
        "id": "7e4d64e7",
        "outputId": "94edfe67-b455-41c8-f0e1-0f0ca3d6ea5b"
      },
      "outputs": [
        {
          "name": "stderr",
          "output_type": "stream",
          "text": [
            "C:\\Users\\AVANI\\anaconda3\\lib\\site-packages\\sklearn\\linear_model\\_logistic.py:763: ConvergenceWarning: lbfgs failed to converge (status=1):\n",
            "STOP: TOTAL NO. of ITERATIONS REACHED LIMIT.\n",
            "\n",
            "Increase the number of iterations (max_iter) or scale the data as shown in:\n",
            "    https://scikit-learn.org/stable/modules/preprocessing.html\n",
            "Please also refer to the documentation for alternative solver options:\n",
            "    https://scikit-learn.org/stable/modules/linear_model.html#logistic-regression\n",
            "  n_iter_i = _check_optimize_result(\n"
          ]
        },
        {
          "data": {
            "text/plain": [
              "VotingClassifier(estimators=[('ir', LogisticRegression()),\n",
              "                             ('dt', DecisionTreeClassifier()),\n",
              "                             ('svm', SVC(degree=2, kernel='poly'))])"
            ]
          },
          "execution_count": 97,
          "metadata": {},
          "output_type": "execute_result"
        }
      ],
      "source": [
        "evc.fit(x_train.iloc[1:4000],y_train.iloc[1:4000])"
      ]
    },
    {
      "cell_type": "code",
      "execution_count": null,
      "id": "1fb23908",
      "metadata": {
        "id": "1fb23908",
        "outputId": "be67cbc0-9658-4392-e231-b2db93dd4004"
      },
      "outputs": [
        {
          "data": {
            "text/plain": [
              "0.9256666666666666"
            ]
          },
          "execution_count": 98,
          "metadata": {},
          "output_type": "execute_result"
        }
      ],
      "source": [
        "evc.score(x_test,y_test)"
      ]
    },
    {
      "cell_type": "code",
      "execution_count": null,
      "id": "b48438fc",
      "metadata": {
        "id": "b48438fc"
      },
      "outputs": [],
      "source": []
    }
  ],
  "metadata": {
    "kernelspec": {
      "display_name": "Python 3 (ipykernel)",
      "language": "python",
      "name": "python3"
    },
    "language_info": {
      "codemirror_mode": {
        "name": "ipython",
        "version": 3
      },
      "file_extension": ".py",
      "mimetype": "text/x-python",
      "name": "python",
      "nbconvert_exporter": "python",
      "pygments_lexer": "ipython3",
      "version": "3.9.7"
    },
    "colab": {
      "provenance": [],
      "include_colab_link": true
    }
  },
  "nbformat": 4,
  "nbformat_minor": 5
}