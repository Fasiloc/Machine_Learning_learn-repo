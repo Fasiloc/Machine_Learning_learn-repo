{
 "cells": [
  {
   "cell_type": "markdown",
   "id": "6f5411f3",
   "metadata": {},
   "source": [
    "# HOLD OUT"
   ]
  },
  {
   "cell_type": "code",
   "execution_count": 1,
   "id": "4c91b3eb",
   "metadata": {},
   "outputs": [],
   "source": [
    "from sklearn.model_selection import train_test_split"
   ]
  },
  {
   "cell_type": "code",
   "execution_count": 2,
   "id": "35b5a80b",
   "metadata": {},
   "outputs": [
    {
     "name": "stdout",
     "output_type": "stream",
     "text": [
      "Train: [50, 10, 40, 20, 80, 90, 60] Test: [30, 100, 70]\n"
     ]
    }
   ],
   "source": [
    "X = [10,20,30,40,50,60,70,80,90,100]\n",
    "X_train, X_test= train_test_split(X,test_size=0.3, random_state=1)\n",
    "print(\"Train:\",X_train,\"Test:\" ,X_test)"
   ]
  },
  {
   "cell_type": "markdown",
   "id": "3b2aef6b",
   "metadata": {},
   "source": [
    "# lEVE OUT"
   ]
  },
  {
   "cell_type": "code",
   "execution_count": 3,
   "id": "c2568ada",
   "metadata": {},
   "outputs": [],
   "source": [
    "from sklearn.model_selection import LeaveOneOut\n"
   ]
  },
  {
   "cell_type": "code",
   "execution_count": 4,
   "id": "488eda2c",
   "metadata": {},
   "outputs": [
    {
     "name": "stdout",
     "output_type": "stream",
     "text": [
      "[1 2 3 4 5 6 7 8 9] [0]\n",
      "[0 2 3 4 5 6 7 8 9] [1]\n",
      "[0 1 3 4 5 6 7 8 9] [2]\n",
      "[0 1 2 4 5 6 7 8 9] [3]\n",
      "[0 1 2 3 5 6 7 8 9] [4]\n",
      "[0 1 2 3 4 6 7 8 9] [5]\n",
      "[0 1 2 3 4 5 7 8 9] [6]\n",
      "[0 1 2 3 4 5 6 8 9] [7]\n",
      "[0 1 2 3 4 5 6 7 9] [8]\n",
      "[0 1 2 3 4 5 6 7 8] [9]\n"
     ]
    }
   ],
   "source": [
    "X = [10,20,30,40,50,60,70,80,90,100]\n",
    "\n",
    "l = LeaveOneOut()\n",
    "\n",
    "for train, test in l.split(X):\n",
    "\n",
    "    print(\"%s %s\"% (train,test))"
   ]
  },
  {
   "cell_type": "markdown",
   "id": "33e6f660",
   "metadata": {},
   "source": [
    "# K-Fold Cross-Validation"
   ]
  },
  {
   "cell_type": "code",
   "execution_count": 5,
   "id": "cd6887da",
   "metadata": {},
   "outputs": [],
   "source": [
    "from sklearn.model_selection import KFold\n"
   ]
  },
  {
   "cell_type": "code",
   "execution_count": 6,
   "id": "7d76c768",
   "metadata": {},
   "outputs": [
    {
     "name": "stdout",
     "output_type": "stream",
     "text": [
      "Train data [2 3 4 5] Test data [0 1]\n",
      "Train data [0 1 4 5] Test data [2 3]\n",
      "Train data [0 1 2 3] Test data [4 5]\n"
     ]
    }
   ],
   "source": [
    "X = [\"a\",'b','c','d','e','f']\n",
    "\n",
    "kf = KFold(n_splits=3, shuffle=False, random_state=None)\n",
    "\n",
    "for train, test in kf.split(X):\n",
    "\n",
    "    print(\"Train data\",train,\"Test data\",test)"
   ]
  },
  {
   "cell_type": "markdown",
   "id": "4808d0ce",
   "metadata": {},
   "source": [
    "# Stratified K-Fold Cross-Validation\n"
   ]
  },
  {
   "cell_type": "code",
   "execution_count": 7,
   "id": "a84113f6",
   "metadata": {},
   "outputs": [],
   "source": [
    "from sklearn.model_selection import StratifiedKFold\n",
    "import numpy as np"
   ]
  },
  {
   "cell_type": "code",
   "execution_count": 8,
   "id": "ee169eba",
   "metadata": {},
   "outputs": [
    {
     "name": "stdout",
     "output_type": "stream",
     "text": [
      "Train: [1 3 4 5] Test: [0 2]\n",
      "Train: [0 2 3 5] Test: [1 4]\n",
      "Train: [0 1 2 4] Test: [3 5]\n"
     ]
    }
   ],
   "source": [
    "X = np.array([[1,2],[3,4],[5,6],[7,8],[9,10],[11,12]])\n",
    "y= np.array([0,0,1,0,1,1])\n",
    "\n",
    "skf = StratifiedKFold(n_splits=3,random_state=None,shuffle=False)\n",
    "\n",
    "for train_index,test_index in skf.split(X,y):\n",
    "    print(\"Train:\",train_index,'Test:',test_index)\n",
    "    X_train,X_test = X[train_index], X[test_index]\n",
    "    y_train,y_test = y[train_index], y[test_index]"
   ]
  },
  {
   "cell_type": "code",
   "execution_count": null,
   "id": "dca75748",
   "metadata": {},
   "outputs": [],
   "source": []
  },
  {
   "cell_type": "code",
   "execution_count": null,
   "id": "d2b1b91a",
   "metadata": {},
   "outputs": [],
   "source": []
  }
 ],
 "metadata": {
  "kernelspec": {
   "display_name": "Python 3 (ipykernel)",
   "language": "python",
   "name": "python3"
  },
  "language_info": {
   "codemirror_mode": {
    "name": "ipython",
    "version": 3
   },
   "file_extension": ".py",
   "mimetype": "text/x-python",
   "name": "python",
   "nbconvert_exporter": "python",
   "pygments_lexer": "ipython3",
   "version": "3.9.7"
  }
 },
 "nbformat": 4,
 "nbformat_minor": 5
}
