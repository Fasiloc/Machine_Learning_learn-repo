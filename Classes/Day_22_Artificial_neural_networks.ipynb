{
  "nbformat": 4,
  "nbformat_minor": 0,
  "metadata": {
    "colab": {
      "provenance": [],
      "authorship_tag": "ABX9TyNf9hRlhoiY67w6iXQL9U8c",
      "include_colab_link": true
    },
    "kernelspec": {
      "name": "python3",
      "display_name": "Python 3"
    },
    "language_info": {
      "name": "python"
    }
  },
  "cells": [
    {
      "cell_type": "markdown",
      "metadata": {
        "id": "view-in-github",
        "colab_type": "text"
      },
      "source": [
        "<a href=\"https://colab.research.google.com/github/Fasiloc/Machine_Learning_learn-repo/blob/main/Classes/Day_22_Artificial_neural_networks.ipynb\" target=\"_parent\"><img src=\"https://colab.research.google.com/assets/colab-badge.svg\" alt=\"Open In Colab\"/></a>"
      ]
    },
    {
      "cell_type": "code",
      "execution_count": null,
      "metadata": {
        "id": "fM__UCOGX2IO"
      },
      "outputs": [],
      "source": [
        "import pandas as pd\n",
        "import matplotlib.pyplot as plt\n",
        "import seaborn as sns"
      ]
    },
    {
      "cell_type": "markdown",
      "source": [
        "loading dataset"
      ],
      "metadata": {
        "id": "7K2xryGEaCE-"
      }
    },
    {
      "cell_type": "code",
      "source": [
        "data=pd.read_csv('HR_comma_sep.csv')"
      ],
      "metadata": {
        "id": "zPUtKS61Yqxv"
      },
      "execution_count": null,
      "outputs": []
    },
    {
      "cell_type": "code",
      "source": [
        "data"
      ],
      "metadata": {
        "colab": {
          "base_uri": "https://localhost:8080/",
          "height": 487
        },
        "id": "CcZ25x01YyiX",
        "outputId": "50d3d2c4-6400-4419-c376-41d97061fad0"
      },
      "execution_count": null,
      "outputs": [
        {
          "output_type": "execute_result",
          "data": {
            "text/html": [
              "\n",
              "  <div id=\"df-d78c5d49-9e42-40a0-9cca-a4cf675992a9\">\n",
              "    <div class=\"colab-df-container\">\n",
              "      <div>\n",
              "<style scoped>\n",
              "    .dataframe tbody tr th:only-of-type {\n",
              "        vertical-align: middle;\n",
              "    }\n",
              "\n",
              "    .dataframe tbody tr th {\n",
              "        vertical-align: top;\n",
              "    }\n",
              "\n",
              "    .dataframe thead th {\n",
              "        text-align: right;\n",
              "    }\n",
              "</style>\n",
              "<table border=\"1\" class=\"dataframe\">\n",
              "  <thead>\n",
              "    <tr style=\"text-align: right;\">\n",
              "      <th></th>\n",
              "      <th>satisfaction_level</th>\n",
              "      <th>last_evaluation</th>\n",
              "      <th>number_project</th>\n",
              "      <th>average_montly_hours</th>\n",
              "      <th>time_spend_company</th>\n",
              "      <th>Work_accident</th>\n",
              "      <th>left</th>\n",
              "      <th>promotion_last_5years</th>\n",
              "      <th>sales</th>\n",
              "      <th>salary</th>\n",
              "    </tr>\n",
              "  </thead>\n",
              "  <tbody>\n",
              "    <tr>\n",
              "      <th>0</th>\n",
              "      <td>0.38</td>\n",
              "      <td>0.53</td>\n",
              "      <td>2</td>\n",
              "      <td>157</td>\n",
              "      <td>3</td>\n",
              "      <td>0</td>\n",
              "      <td>1</td>\n",
              "      <td>0</td>\n",
              "      <td>sales</td>\n",
              "      <td>low</td>\n",
              "    </tr>\n",
              "    <tr>\n",
              "      <th>1</th>\n",
              "      <td>0.80</td>\n",
              "      <td>0.86</td>\n",
              "      <td>5</td>\n",
              "      <td>262</td>\n",
              "      <td>6</td>\n",
              "      <td>0</td>\n",
              "      <td>1</td>\n",
              "      <td>0</td>\n",
              "      <td>sales</td>\n",
              "      <td>medium</td>\n",
              "    </tr>\n",
              "    <tr>\n",
              "      <th>2</th>\n",
              "      <td>0.11</td>\n",
              "      <td>0.88</td>\n",
              "      <td>7</td>\n",
              "      <td>272</td>\n",
              "      <td>4</td>\n",
              "      <td>0</td>\n",
              "      <td>1</td>\n",
              "      <td>0</td>\n",
              "      <td>sales</td>\n",
              "      <td>medium</td>\n",
              "    </tr>\n",
              "    <tr>\n",
              "      <th>3</th>\n",
              "      <td>0.72</td>\n",
              "      <td>0.87</td>\n",
              "      <td>5</td>\n",
              "      <td>223</td>\n",
              "      <td>5</td>\n",
              "      <td>0</td>\n",
              "      <td>1</td>\n",
              "      <td>0</td>\n",
              "      <td>sales</td>\n",
              "      <td>low</td>\n",
              "    </tr>\n",
              "    <tr>\n",
              "      <th>4</th>\n",
              "      <td>0.37</td>\n",
              "      <td>0.52</td>\n",
              "      <td>2</td>\n",
              "      <td>159</td>\n",
              "      <td>3</td>\n",
              "      <td>0</td>\n",
              "      <td>1</td>\n",
              "      <td>0</td>\n",
              "      <td>sales</td>\n",
              "      <td>low</td>\n",
              "    </tr>\n",
              "    <tr>\n",
              "      <th>...</th>\n",
              "      <td>...</td>\n",
              "      <td>...</td>\n",
              "      <td>...</td>\n",
              "      <td>...</td>\n",
              "      <td>...</td>\n",
              "      <td>...</td>\n",
              "      <td>...</td>\n",
              "      <td>...</td>\n",
              "      <td>...</td>\n",
              "      <td>...</td>\n",
              "    </tr>\n",
              "    <tr>\n",
              "      <th>14994</th>\n",
              "      <td>0.40</td>\n",
              "      <td>0.57</td>\n",
              "      <td>2</td>\n",
              "      <td>151</td>\n",
              "      <td>3</td>\n",
              "      <td>0</td>\n",
              "      <td>1</td>\n",
              "      <td>0</td>\n",
              "      <td>support</td>\n",
              "      <td>low</td>\n",
              "    </tr>\n",
              "    <tr>\n",
              "      <th>14995</th>\n",
              "      <td>0.37</td>\n",
              "      <td>0.48</td>\n",
              "      <td>2</td>\n",
              "      <td>160</td>\n",
              "      <td>3</td>\n",
              "      <td>0</td>\n",
              "      <td>1</td>\n",
              "      <td>0</td>\n",
              "      <td>support</td>\n",
              "      <td>low</td>\n",
              "    </tr>\n",
              "    <tr>\n",
              "      <th>14996</th>\n",
              "      <td>0.37</td>\n",
              "      <td>0.53</td>\n",
              "      <td>2</td>\n",
              "      <td>143</td>\n",
              "      <td>3</td>\n",
              "      <td>0</td>\n",
              "      <td>1</td>\n",
              "      <td>0</td>\n",
              "      <td>support</td>\n",
              "      <td>low</td>\n",
              "    </tr>\n",
              "    <tr>\n",
              "      <th>14997</th>\n",
              "      <td>0.11</td>\n",
              "      <td>0.96</td>\n",
              "      <td>6</td>\n",
              "      <td>280</td>\n",
              "      <td>4</td>\n",
              "      <td>0</td>\n",
              "      <td>1</td>\n",
              "      <td>0</td>\n",
              "      <td>support</td>\n",
              "      <td>low</td>\n",
              "    </tr>\n",
              "    <tr>\n",
              "      <th>14998</th>\n",
              "      <td>0.37</td>\n",
              "      <td>0.52</td>\n",
              "      <td>2</td>\n",
              "      <td>158</td>\n",
              "      <td>3</td>\n",
              "      <td>0</td>\n",
              "      <td>1</td>\n",
              "      <td>0</td>\n",
              "      <td>support</td>\n",
              "      <td>low</td>\n",
              "    </tr>\n",
              "  </tbody>\n",
              "</table>\n",
              "<p>14999 rows × 10 columns</p>\n",
              "</div>\n",
              "      <button class=\"colab-df-convert\" onclick=\"convertToInteractive('df-d78c5d49-9e42-40a0-9cca-a4cf675992a9')\"\n",
              "              title=\"Convert this dataframe to an interactive table.\"\n",
              "              style=\"display:none;\">\n",
              "        \n",
              "  <svg xmlns=\"http://www.w3.org/2000/svg\" height=\"24px\"viewBox=\"0 0 24 24\"\n",
              "       width=\"24px\">\n",
              "    <path d=\"M0 0h24v24H0V0z\" fill=\"none\"/>\n",
              "    <path d=\"M18.56 5.44l.94 2.06.94-2.06 2.06-.94-2.06-.94-.94-2.06-.94 2.06-2.06.94zm-11 1L8.5 8.5l.94-2.06 2.06-.94-2.06-.94L8.5 2.5l-.94 2.06-2.06.94zm10 10l.94 2.06.94-2.06 2.06-.94-2.06-.94-.94-2.06-.94 2.06-2.06.94z\"/><path d=\"M17.41 7.96l-1.37-1.37c-.4-.4-.92-.59-1.43-.59-.52 0-1.04.2-1.43.59L10.3 9.45l-7.72 7.72c-.78.78-.78 2.05 0 2.83L4 21.41c.39.39.9.59 1.41.59.51 0 1.02-.2 1.41-.59l7.78-7.78 2.81-2.81c.8-.78.8-2.07 0-2.86zM5.41 20L4 18.59l7.72-7.72 1.47 1.35L5.41 20z\"/>\n",
              "  </svg>\n",
              "      </button>\n",
              "      \n",
              "  <style>\n",
              "    .colab-df-container {\n",
              "      display:flex;\n",
              "      flex-wrap:wrap;\n",
              "      gap: 12px;\n",
              "    }\n",
              "\n",
              "    .colab-df-convert {\n",
              "      background-color: #E8F0FE;\n",
              "      border: none;\n",
              "      border-radius: 50%;\n",
              "      cursor: pointer;\n",
              "      display: none;\n",
              "      fill: #1967D2;\n",
              "      height: 32px;\n",
              "      padding: 0 0 0 0;\n",
              "      width: 32px;\n",
              "    }\n",
              "\n",
              "    .colab-df-convert:hover {\n",
              "      background-color: #E2EBFA;\n",
              "      box-shadow: 0px 1px 2px rgba(60, 64, 67, 0.3), 0px 1px 3px 1px rgba(60, 64, 67, 0.15);\n",
              "      fill: #174EA6;\n",
              "    }\n",
              "\n",
              "    [theme=dark] .colab-df-convert {\n",
              "      background-color: #3B4455;\n",
              "      fill: #D2E3FC;\n",
              "    }\n",
              "\n",
              "    [theme=dark] .colab-df-convert:hover {\n",
              "      background-color: #434B5C;\n",
              "      box-shadow: 0px 1px 3px 1px rgba(0, 0, 0, 0.15);\n",
              "      filter: drop-shadow(0px 1px 2px rgba(0, 0, 0, 0.3));\n",
              "      fill: #FFFFFF;\n",
              "    }\n",
              "  </style>\n",
              "\n",
              "      <script>\n",
              "        const buttonEl =\n",
              "          document.querySelector('#df-d78c5d49-9e42-40a0-9cca-a4cf675992a9 button.colab-df-convert');\n",
              "        buttonEl.style.display =\n",
              "          google.colab.kernel.accessAllowed ? 'block' : 'none';\n",
              "\n",
              "        async function convertToInteractive(key) {\n",
              "          const element = document.querySelector('#df-d78c5d49-9e42-40a0-9cca-a4cf675992a9');\n",
              "          const dataTable =\n",
              "            await google.colab.kernel.invokeFunction('convertToInteractive',\n",
              "                                                     [key], {});\n",
              "          if (!dataTable) return;\n",
              "\n",
              "          const docLinkHtml = 'Like what you see? Visit the ' +\n",
              "            '<a target=\"_blank\" href=https://colab.research.google.com/notebooks/data_table.ipynb>data table notebook</a>'\n",
              "            + ' to learn more about interactive tables.';\n",
              "          element.innerHTML = '';\n",
              "          dataTable['output_type'] = 'display_data';\n",
              "          await google.colab.output.renderOutput(dataTable, element);\n",
              "          const docLink = document.createElement('div');\n",
              "          docLink.innerHTML = docLinkHtml;\n",
              "          element.appendChild(docLink);\n",
              "        }\n",
              "      </script>\n",
              "    </div>\n",
              "  </div>\n",
              "  "
            ],
            "text/plain": [
              "       satisfaction_level  last_evaluation  ...    sales  salary\n",
              "0                    0.38             0.53  ...    sales     low\n",
              "1                    0.80             0.86  ...    sales  medium\n",
              "2                    0.11             0.88  ...    sales  medium\n",
              "3                    0.72             0.87  ...    sales     low\n",
              "4                    0.37             0.52  ...    sales     low\n",
              "...                   ...              ...  ...      ...     ...\n",
              "14994                0.40             0.57  ...  support     low\n",
              "14995                0.37             0.48  ...  support     low\n",
              "14996                0.37             0.53  ...  support     low\n",
              "14997                0.11             0.96  ...  support     low\n",
              "14998                0.37             0.52  ...  support     low\n",
              "\n",
              "[14999 rows x 10 columns]"
            ]
          },
          "metadata": {},
          "execution_count": 6
        }
      ]
    },
    {
      "cell_type": "code",
      "source": [
        "data.head()\n",
        "data.tail()\n",
        "data.info()"
      ],
      "metadata": {
        "colab": {
          "base_uri": "https://localhost:8080/"
        },
        "id": "1iAsosErY87o",
        "outputId": "92b20da7-22a0-44d0-f505-9003943e26bc"
      },
      "execution_count": null,
      "outputs": [
        {
          "output_type": "stream",
          "name": "stdout",
          "text": [
            "<class 'pandas.core.frame.DataFrame'>\n",
            "RangeIndex: 14999 entries, 0 to 14998\n",
            "Data columns (total 10 columns):\n",
            " #   Column                 Non-Null Count  Dtype  \n",
            "---  ------                 --------------  -----  \n",
            " 0   satisfaction_level     14999 non-null  float64\n",
            " 1   last_evaluation        14999 non-null  float64\n",
            " 2   number_project         14999 non-null  int64  \n",
            " 3   average_montly_hours   14999 non-null  int64  \n",
            " 4   time_spend_company     14999 non-null  int64  \n",
            " 5   Work_accident          14999 non-null  int64  \n",
            " 6   left                   14999 non-null  int64  \n",
            " 7   promotion_last_5years  14999 non-null  int64  \n",
            " 8   sales                  14999 non-null  object \n",
            " 9   salary                 14999 non-null  object \n",
            "dtypes: float64(2), int64(6), object(2)\n",
            "memory usage: 1.1+ MB\n"
          ]
        }
      ]
    },
    {
      "cell_type": "code",
      "source": [
        "features=['number_project','time_spend_company','Work_accident','left','promotion_last_5years','sales','salary']"
      ],
      "metadata": {
        "id": "ijbl52jjZow8"
      },
      "execution_count": null,
      "outputs": []
    },
    {
      "cell_type": "code",
      "source": [
        "fig=plt.subplots(figsize=(10,15))\n",
        "\n",
        "for i,j in enumerate(features):\n",
        "  plt.subplot(4 ,2 ,i+1)\n",
        "  plt.subplots_adjust(hspace = 1.5)\n",
        "  sns.countplot(x=j,data = data)\n",
        "  plt.xticks(rotation=45)\n",
        "  plt.title('No of employees')"
      ],
      "metadata": {
        "colab": {
          "base_uri": "https://localhost:8080/",
          "height": 919
        },
        "id": "TK5K8LzKaxxa",
        "outputId": "253dfcb2-6119-41ac-c237-34385564fc01"
      },
      "execution_count": null,
      "outputs": [
        {
          "output_type": "display_data",
          "data": {
            "image/png": "[encoded data removed]",
            "text/plain": [
              "<Figure size 720x1080 with 7 Axes>"
            ]
          },
          "metadata": {
            "needs_background": "light"
          }
        }
      ]
    },
    {
      "cell_type": "markdown",
      "source": [
        "Data pre processing"
      ],
      "metadata": {
        "id": "6F395gvGd_et"
      }
    },
    {
      "cell_type": "code",
      "source": [
        "from sklearn import preprocessing\n",
        "le=preprocessing.LabelEncoder() #creating label encoder\n",
        "data['salary']=le.fit_transform(data['salary'])\n",
        "data['sales']=le.fit_transform(data['sales'])"
      ],
      "metadata": {
        "id": "NtUP--YtbdhI"
      },
      "execution_count": null,
      "outputs": []
    },
    {
      "cell_type": "markdown",
      "source": [
        "split the data"
      ],
      "metadata": {
        "id": "xn3ytVcleEBh"
      }
    },
    {
      "cell_type": "code",
      "source": [
        "from sklearn.preprocessing import StandardScaler\n",
        "\n",
        "x = data.drop(['left'],axis=1)\n",
        "y = data['left']\n",
        "\n",
        "# scaling features\n",
        "\n",
        "sc= StandardScaler()\n",
        "X=sc.fit_transform(x)"
      ],
      "metadata": {
        "id": "zxqJi4b5dppD"
      },
      "execution_count": null,
      "outputs": []
    },
    {
      "cell_type": "code",
      "source": [
        "import sklearn\n",
        "from sklearn.model_selection import train_test_split\n",
        "\n",
        "X_train,X_test,y_train,y_test = train_test_split(X,y,test_size=0.2,\n",
        "                                                 random_state=42) # 80% training 20% testing"
      ],
      "metadata": {
        "id": "0Buaj5AEenam"
      },
      "execution_count": null,
      "outputs": []
    },
    {
      "cell_type": "code",
      "source": [
        "from sklearn.neural_network import MLPClassifier\n",
        "\n",
        "clf = MLPClassifier(hidden_layer_sizes=(6,6),\n",
        "                    activation='logistic',\n",
        "                    solver='adam',\n",
        "                    verbose=True,\n",
        "                    max_iter=250,\n",
        "                    validation_fraction=0.2,\n",
        "                    learning_rate_init=0.01)"
      ],
      "metadata": {
        "id": "HTa4B6_EfZQt"
      },
      "execution_count": null,
      "outputs": []
    },
    {
      "cell_type": "code",
      "source": [
        "# fit data onto the model\n",
        "clf.fit(X_train,y_train)"
      ],
      "metadata": {
        "colab": {
          "base_uri": "https://localhost:8080/"
        },
        "id": "fua-boDigSsB",
        "outputId": "5a2f67c8-9344-4520-849a-29f02268333a"
      },
      "execution_count": null,
      "outputs": [
        {
          "output_type": "stream",
          "name": "stdout",
          "text": [
            "Iteration 1, loss = 0.54499587\n",
            "Iteration 2, loss = 0.49440898\n",
            "Iteration 3, loss = 0.40798713\n",
            "Iteration 4, loss = 0.35192369\n",
            "Iteration 5, loss = 0.31208789\n",
            "Iteration 6, loss = 0.28664538\n",
            "Iteration 7, loss = 0.26923951\n",
            "Iteration 8, loss = 0.25377077\n",
            "Iteration 9, loss = 0.23511230\n",
            "Iteration 10, loss = 0.21326815\n",
            "Iteration 11, loss = 0.19487814\n",
            "Iteration 12, loss = 0.18323203\n",
            "Iteration 13, loss = 0.17547030\n",
            "Iteration 14, loss = 0.17062576\n",
            "Iteration 15, loss = 0.16646503\n",
            "Iteration 16, loss = 0.16206431\n",
            "Iteration 17, loss = 0.15854333\n",
            "Iteration 18, loss = 0.15626708\n",
            "Iteration 19, loss = 0.15343307\n",
            "Iteration 20, loss = 0.15200872\n",
            "Iteration 21, loss = 0.14905259\n",
            "Iteration 22, loss = 0.14739840\n",
            "Iteration 23, loss = 0.14635351\n",
            "Iteration 24, loss = 0.14481238\n",
            "Iteration 25, loss = 0.14314345\n",
            "Iteration 26, loss = 0.14238264\n",
            "Iteration 27, loss = 0.14171295\n",
            "Iteration 28, loss = 0.14059285\n",
            "Iteration 29, loss = 0.13982634\n",
            "Iteration 30, loss = 0.13924631\n",
            "Iteration 31, loss = 0.13892540\n",
            "Iteration 32, loss = 0.13837694\n",
            "Iteration 33, loss = 0.13749759\n",
            "Iteration 34, loss = 0.13696773\n",
            "Iteration 35, loss = 0.13658028\n",
            "Iteration 36, loss = 0.13631257\n",
            "Iteration 37, loss = 0.13559321\n",
            "Iteration 38, loss = 0.13516507\n",
            "Iteration 39, loss = 0.13554301\n",
            "Iteration 40, loss = 0.13474237\n",
            "Iteration 41, loss = 0.13406318\n",
            "Iteration 42, loss = 0.13333078\n",
            "Iteration 43, loss = 0.13339161\n",
            "Iteration 44, loss = 0.13289093\n",
            "Iteration 45, loss = 0.13235059\n",
            "Iteration 46, loss = 0.13209493\n",
            "Iteration 47, loss = 0.13187611\n",
            "Iteration 48, loss = 0.13158307\n",
            "Iteration 49, loss = 0.13085746\n",
            "Iteration 50, loss = 0.13053178\n",
            "Iteration 51, loss = 0.13037445\n",
            "Iteration 52, loss = 0.13007706\n",
            "Iteration 53, loss = 0.12964894\n",
            "Iteration 54, loss = 0.12920200\n",
            "Iteration 55, loss = 0.12940220\n",
            "Iteration 56, loss = 0.12909418\n",
            "Iteration 57, loss = 0.12850288\n",
            "Iteration 58, loss = 0.12797461\n",
            "Iteration 59, loss = 0.12814401\n",
            "Iteration 60, loss = 0.12775844\n",
            "Iteration 61, loss = 0.12767117\n",
            "Iteration 62, loss = 0.12737822\n",
            "Iteration 63, loss = 0.12697044\n",
            "Iteration 64, loss = 0.12679670\n",
            "Iteration 65, loss = 0.12709633\n",
            "Iteration 66, loss = 0.12652941\n",
            "Iteration 67, loss = 0.12627080\n",
            "Iteration 68, loss = 0.12591398\n",
            "Iteration 69, loss = 0.12608603\n",
            "Iteration 70, loss = 0.12579816\n",
            "Iteration 71, loss = 0.12549061\n",
            "Iteration 72, loss = 0.12563974\n",
            "Iteration 73, loss = 0.12589462\n",
            "Iteration 74, loss = 0.12490200\n",
            "Iteration 75, loss = 0.12491355\n",
            "Iteration 76, loss = 0.12532568\n",
            "Iteration 77, loss = 0.12516920\n",
            "Iteration 78, loss = 0.12491365\n",
            "Iteration 79, loss = 0.12446516\n",
            "Iteration 80, loss = 0.12510859\n",
            "Iteration 81, loss = 0.12483611\n",
            "Iteration 82, loss = 0.12395152\n",
            "Iteration 83, loss = 0.12406583\n",
            "Iteration 84, loss = 0.12446889\n",
            "Iteration 85, loss = 0.12385354\n",
            "Iteration 86, loss = 0.12380693\n",
            "Iteration 87, loss = 0.12374472\n",
            "Iteration 88, loss = 0.12357708\n",
            "Iteration 89, loss = 0.12324695\n",
            "Iteration 90, loss = 0.12362450\n",
            "Iteration 91, loss = 0.12302465\n",
            "Iteration 92, loss = 0.12345254\n",
            "Iteration 93, loss = 0.12298899\n",
            "Iteration 94, loss = 0.12289112\n",
            "Iteration 95, loss = 0.12264251\n",
            "Iteration 96, loss = 0.12297610\n",
            "Iteration 97, loss = 0.12285835\n",
            "Iteration 98, loss = 0.12306836\n",
            "Iteration 99, loss = 0.12293284\n",
            "Iteration 100, loss = 0.12261629\n",
            "Iteration 101, loss = 0.12241923\n",
            "Iteration 102, loss = 0.12279984\n",
            "Iteration 103, loss = 0.12210930\n",
            "Iteration 104, loss = 0.12262848\n",
            "Iteration 105, loss = 0.12179245\n",
            "Iteration 106, loss = 0.12223061\n",
            "Iteration 107, loss = 0.12164743\n",
            "Iteration 108, loss = 0.12174492\n",
            "Iteration 109, loss = 0.12187792\n",
            "Iteration 110, loss = 0.12226441\n",
            "Iteration 111, loss = 0.12187535\n",
            "Iteration 112, loss = 0.12169269\n",
            "Iteration 113, loss = 0.12175455\n",
            "Iteration 114, loss = 0.12143375\n",
            "Iteration 115, loss = 0.12157266\n",
            "Iteration 116, loss = 0.12129754\n",
            "Iteration 117, loss = 0.12141534\n",
            "Iteration 118, loss = 0.12083316\n",
            "Iteration 119, loss = 0.12105124\n",
            "Iteration 120, loss = 0.12110044\n",
            "Iteration 121, loss = 0.12077368\n",
            "Iteration 122, loss = 0.12058899\n",
            "Iteration 123, loss = 0.12114333\n",
            "Iteration 124, loss = 0.12033823\n",
            "Iteration 125, loss = 0.12021086\n",
            "Iteration 126, loss = 0.12063579\n",
            "Iteration 127, loss = 0.12023737\n",
            "Iteration 128, loss = 0.12020105\n",
            "Iteration 129, loss = 0.11984038\n",
            "Iteration 130, loss = 0.12010730\n",
            "Iteration 131, loss = 0.11999230\n",
            "Iteration 132, loss = 0.12012809\n",
            "Iteration 133, loss = 0.11980028\n",
            "Iteration 134, loss = 0.12022297\n",
            "Iteration 135, loss = 0.11970288\n",
            "Iteration 136, loss = 0.12002838\n",
            "Iteration 137, loss = 0.11976086\n",
            "Iteration 138, loss = 0.11954155\n",
            "Iteration 139, loss = 0.11967006\n",
            "Iteration 140, loss = 0.11973318\n",
            "Iteration 141, loss = 0.11965359\n",
            "Iteration 142, loss = 0.11929108\n",
            "Iteration 143, loss = 0.11927922\n",
            "Iteration 144, loss = 0.11943782\n",
            "Iteration 145, loss = 0.11929482\n",
            "Iteration 146, loss = 0.11899630\n",
            "Iteration 147, loss = 0.11878944\n",
            "Iteration 148, loss = 0.11937327\n",
            "Iteration 149, loss = 0.11935712\n",
            "Iteration 150, loss = 0.11949318\n",
            "Iteration 151, loss = 0.11901066\n",
            "Iteration 152, loss = 0.11859414\n",
            "Iteration 153, loss = 0.11941744\n",
            "Iteration 154, loss = 0.11855261\n",
            "Iteration 155, loss = 0.11889511\n",
            "Iteration 156, loss = 0.11854695\n",
            "Iteration 157, loss = 0.11870585\n",
            "Iteration 158, loss = 0.11854590\n",
            "Iteration 159, loss = 0.11882848\n",
            "Iteration 160, loss = 0.11881825\n",
            "Iteration 161, loss = 0.11829797\n",
            "Iteration 162, loss = 0.11932481\n",
            "Iteration 163, loss = 0.11833862\n",
            "Iteration 164, loss = 0.11784631\n",
            "Iteration 165, loss = 0.11797008\n",
            "Iteration 166, loss = 0.11787171\n",
            "Iteration 167, loss = 0.11825321\n",
            "Iteration 168, loss = 0.11769678\n",
            "Iteration 169, loss = 0.11799899\n",
            "Iteration 170, loss = 0.11806127\n",
            "Iteration 171, loss = 0.11836702\n",
            "Iteration 172, loss = 0.11774633\n",
            "Iteration 173, loss = 0.11753270\n",
            "Iteration 174, loss = 0.11787494\n",
            "Iteration 175, loss = 0.11849112\n",
            "Iteration 176, loss = 0.11789470\n",
            "Iteration 177, loss = 0.11801455\n",
            "Iteration 178, loss = 0.11769405\n",
            "Iteration 179, loss = 0.11833041\n",
            "Iteration 180, loss = 0.11805785\n",
            "Iteration 181, loss = 0.11723472\n",
            "Iteration 182, loss = 0.11731271\n",
            "Iteration 183, loss = 0.11806242\n",
            "Iteration 184, loss = 0.11750787\n",
            "Iteration 185, loss = 0.11715027\n",
            "Iteration 186, loss = 0.11734278\n",
            "Iteration 187, loss = 0.11669226\n",
            "Iteration 188, loss = 0.11691855\n",
            "Iteration 189, loss = 0.11696005\n",
            "Iteration 190, loss = 0.11650916\n",
            "Iteration 191, loss = 0.11677575\n",
            "Iteration 192, loss = 0.11707265\n",
            "Iteration 193, loss = 0.11666942\n",
            "Iteration 194, loss = 0.11643664\n",
            "Iteration 195, loss = 0.11686365\n",
            "Iteration 196, loss = 0.11627152\n",
            "Iteration 197, loss = 0.11655478\n",
            "Iteration 198, loss = 0.11637350\n",
            "Iteration 199, loss = 0.11643233\n",
            "Iteration 200, loss = 0.11606528\n",
            "Iteration 201, loss = 0.11717634\n",
            "Iteration 202, loss = 0.11632248\n",
            "Iteration 203, loss = 0.11649512\n",
            "Iteration 204, loss = 0.11679133\n",
            "Iteration 205, loss = 0.11642872\n",
            "Iteration 206, loss = 0.11652473\n",
            "Iteration 207, loss = 0.11628190\n",
            "Iteration 208, loss = 0.11599079\n",
            "Iteration 209, loss = 0.11603259\n",
            "Iteration 210, loss = 0.11583339\n",
            "Iteration 211, loss = 0.11543873\n",
            "Iteration 212, loss = 0.11600265\n",
            "Iteration 213, loss = 0.11598421\n",
            "Iteration 214, loss = 0.11579001\n",
            "Iteration 215, loss = 0.11558280\n",
            "Iteration 216, loss = 0.11547641\n",
            "Iteration 217, loss = 0.11569191\n",
            "Iteration 218, loss = 0.11571758\n",
            "Iteration 219, loss = 0.11591916\n",
            "Iteration 220, loss = 0.11567538\n",
            "Iteration 221, loss = 0.11547395\n",
            "Iteration 222, loss = 0.11524926\n",
            "Iteration 223, loss = 0.11565981\n",
            "Iteration 224, loss = 0.11598579\n",
            "Iteration 225, loss = 0.11517445\n",
            "Iteration 226, loss = 0.11559354\n",
            "Iteration 227, loss = 0.11590416\n",
            "Iteration 228, loss = 0.11607955\n",
            "Iteration 229, loss = 0.11545082\n",
            "Iteration 230, loss = 0.11587983\n",
            "Iteration 231, loss = 0.11545212\n",
            "Iteration 232, loss = 0.11549792\n",
            "Iteration 233, loss = 0.11562156\n",
            "Training loss did not improve more than tol=0.000100 for 10 consecutive epochs. Stopping.\n"
          ]
        },
        {
          "output_type": "execute_result",
          "data": {
            "text/plain": [
              "MLPClassifier(activation='logistic', hidden_layer_sizes=(6, 6),\n",
              "              learning_rate_init=0.01, max_iter=250, validation_fraction=0.2,\n",
              "              verbose=True)"
            ]
          },
          "metadata": {},
          "execution_count": 40
        }
      ]
    },
    {
      "cell_type": "code",
      "source": [
        "# make prediction on test data\n",
        "ypred=clf.predict(X_test)"
      ],
      "metadata": {
        "id": "ItPtQJumimpx"
      },
      "execution_count": null,
      "outputs": []
    },
    {
      "cell_type": "code",
      "source": [
        "#import accuracy score\n",
        "from sklearn.metrics import accuracy_score\n",
        "\n",
        "# calculate Accuracy\n",
        "accuracy_score(y_test,ypred)\n"
      ],
      "metadata": {
        "colab": {
          "base_uri": "https://localhost:8080/"
        },
        "id": "-criBHnNj22J",
        "outputId": "fd1b90b1-3598-47cf-dba6-83fa2390eded"
      },
      "execution_count": null,
      "outputs": [
        {
          "output_type": "execute_result",
          "data": {
            "text/plain": [
              "0.9626666666666667"
            ]
          },
          "metadata": {},
          "execution_count": 42
        }
      ]
    },
    {
      "cell_type": "markdown",
      "source": [
        "## KERAS "
      ],
      "metadata": {
        "id": "A55qcjKImJEh"
      }
    },
    {
      "cell_type": "code",
      "source": [
        "import numpy as np\n",
        "import pandas as pd\n",
        "\n",
        "data=pd.read_csv('HR_comma_sep.csv')"
      ],
      "metadata": {
        "id": "fJ-qh0wPkaVP"
      },
      "execution_count": null,
      "outputs": []
    },
    {
      "cell_type": "code",
      "source": [
        "from sklearn import preprocessing\n",
        "le=preprocessing.LabelEncoder() #creating label encoder\n",
        "data['salary']=le.fit_transform(data['salary'])\n",
        "data['sales']=le.fit_transform(data['sales'])"
      ],
      "metadata": {
        "id": "EfdVK2wgnLR5"
      },
      "execution_count": null,
      "outputs": []
    },
    {
      "cell_type": "code",
      "source": [
        "from sklearn.preprocessing import StandardScaler\n",
        "\n",
        "x = data.drop(['left'],axis=1)\n",
        "y = data['left']\n"
      ],
      "metadata": {
        "id": "PYKgclrVnSXQ"
      },
      "execution_count": null,
      "outputs": []
    },
    {
      "cell_type": "code",
      "source": [
        "# convert dataframe into numpy array\n",
        "x=x.values\n",
        "y=y.values\n",
        "\n",
        "# scaling features\n",
        "\n",
        "sc= StandardScaler()\n",
        "X=sc.fit_transform(x)"
      ],
      "metadata": {
        "id": "diPf6NIcnaC6"
      },
      "execution_count": null,
      "outputs": []
    },
    {
      "cell_type": "code",
      "source": [
        "import sklearn\n",
        "from sklearn.model_selection import train_test_split\n",
        "\n",
        "X_train,X_test,y_train,y_test = train_test_split(X,y,test_size=0.3,\n",
        "                                                 random_state=42) # 80% training 20% testing\n"
      ],
      "metadata": {
        "id": "Ij2_ZRD0nmUJ"
      },
      "execution_count": null,
      "outputs": []
    },
    {
      "cell_type": "code",
      "source": [
        "from keras.models import Sequential\n",
        "from keras.layers import Dense\n",
        "\n",
        "# Neural network\n",
        "model = Sequential()\n",
        "\n",
        "model.add(Dense(6,input_dim=9,activation='relu'))\n",
        "\n",
        "model.add(Dense(4,activation='relu'))\n",
        "\n",
        "model.add(Dense(1,activation='sigmoid'))"
      ],
      "metadata": {
        "id": "HGvJfOwMopXY"
      },
      "execution_count": null,
      "outputs": []
    },
    {
      "cell_type": "markdown",
      "source": [
        "optimizers : adadelta, sgd, rmsprop"
      ],
      "metadata": {
        "id": "8Jy1NqOksVyI"
      }
    },
    {
      "cell_type": "code",
      "source": [
        "from sklearn import metrics\n",
        "model.compile(loss='binary_crossentropy',\n",
        "              optimizer='adam',\n",
        "              metrics=['accuracy'])\n",
        "history=model.fit(X_train,y_train, epochs=50, batch_size=64, validation_data=(X_test,y_test))"
      ],
      "metadata": {
        "colab": {
          "base_uri": "https://localhost:8080/"
        },
        "id": "lGFrVMBrpfhA",
        "outputId": "136d0bac-0583-455d-df55-56ed78e4e3b3"
      },
      "execution_count": null,
      "outputs": [
        {
          "output_type": "stream",
          "name": "stdout",
          "text": [
            "Epoch 1/50\n",
            "165/165 [==============================] - 2s 7ms/step - loss: 0.5944 - accuracy: 0.6859 - val_loss: 0.5025 - val_accuracy: 0.7618\n",
            "Epoch 2/50\n",
            "165/165 [==============================] - 1s 3ms/step - loss: 0.4387 - accuracy: 0.7620 - val_loss: 0.3985 - val_accuracy: 0.7618\n",
            "Epoch 3/50\n",
            "165/165 [==============================] - 1s 3ms/step - loss: 0.3594 - accuracy: 0.7620 - val_loss: 0.3393 - val_accuracy: 0.7618\n",
            "Epoch 4/50\n",
            "165/165 [==============================] - 1s 3ms/step - loss: 0.3144 - accuracy: 0.7620 - val_loss: 0.3062 - val_accuracy: 0.7618\n",
            "Epoch 5/50\n",
            "165/165 [==============================] - 1s 3ms/step - loss: 0.2878 - accuracy: 0.8457 - val_loss: 0.2845 - val_accuracy: 0.9073\n",
            "Epoch 6/50\n",
            "165/165 [==============================] - 1s 3ms/step - loss: 0.2687 - accuracy: 0.9277 - val_loss: 0.2681 - val_accuracy: 0.9302\n",
            "Epoch 7/50\n",
            "165/165 [==============================] - 1s 3ms/step - loss: 0.2536 - accuracy: 0.9398 - val_loss: 0.2555 - val_accuracy: 0.9376\n",
            "Epoch 8/50\n",
            "165/165 [==============================] - 1s 4ms/step - loss: 0.2417 - accuracy: 0.9443 - val_loss: 0.2453 - val_accuracy: 0.9420\n",
            "Epoch 9/50\n",
            "165/165 [==============================] - 1s 3ms/step - loss: 0.2314 - accuracy: 0.9469 - val_loss: 0.2363 - val_accuracy: 0.9431\n",
            "Epoch 10/50\n",
            "165/165 [==============================] - 1s 3ms/step - loss: 0.2227 - accuracy: 0.9475 - val_loss: 0.2284 - val_accuracy: 0.9467\n",
            "Epoch 11/50\n",
            "165/165 [==============================] - 1s 3ms/step - loss: 0.2148 - accuracy: 0.9495 - val_loss: 0.2215 - val_accuracy: 0.9462\n",
            "Epoch 12/50\n",
            "165/165 [==============================] - 1s 3ms/step - loss: 0.2074 - accuracy: 0.9517 - val_loss: 0.2150 - val_accuracy: 0.9467\n",
            "Epoch 13/50\n",
            "165/165 [==============================] - 1s 3ms/step - loss: 0.2011 - accuracy: 0.9524 - val_loss: 0.2101 - val_accuracy: 0.9469\n",
            "Epoch 14/50\n",
            "165/165 [==============================] - 1s 3ms/step - loss: 0.1954 - accuracy: 0.9537 - val_loss: 0.2055 - val_accuracy: 0.9478\n",
            "Epoch 15/50\n",
            "165/165 [==============================] - 1s 3ms/step - loss: 0.1908 - accuracy: 0.9532 - val_loss: 0.2011 - val_accuracy: 0.9482\n",
            "Epoch 16/50\n",
            "165/165 [==============================] - 1s 4ms/step - loss: 0.1867 - accuracy: 0.9541 - val_loss: 0.1980 - val_accuracy: 0.9491\n",
            "Epoch 17/50\n",
            "165/165 [==============================] - 1s 3ms/step - loss: 0.1836 - accuracy: 0.9530 - val_loss: 0.1955 - val_accuracy: 0.9493\n",
            "Epoch 18/50\n",
            "165/165 [==============================] - 1s 4ms/step - loss: 0.1799 - accuracy: 0.9542 - val_loss: 0.1926 - val_accuracy: 0.9496\n",
            "Epoch 19/50\n",
            "165/165 [==============================] - 0s 3ms/step - loss: 0.1772 - accuracy: 0.9541 - val_loss: 0.1902 - val_accuracy: 0.9507\n",
            "Epoch 20/50\n",
            "165/165 [==============================] - 1s 3ms/step - loss: 0.1747 - accuracy: 0.9541 - val_loss: 0.1883 - val_accuracy: 0.9509\n",
            "Epoch 21/50\n",
            "165/165 [==============================] - 0s 3ms/step - loss: 0.1726 - accuracy: 0.9536 - val_loss: 0.1864 - val_accuracy: 0.9509\n",
            "Epoch 22/50\n",
            "165/165 [==============================] - 1s 3ms/step - loss: 0.1706 - accuracy: 0.9542 - val_loss: 0.1850 - val_accuracy: 0.9511\n",
            "Epoch 23/50\n",
            "165/165 [==============================] - 1s 3ms/step - loss: 0.1691 - accuracy: 0.9547 - val_loss: 0.1841 - val_accuracy: 0.9502\n",
            "Epoch 24/50\n",
            "165/165 [==============================] - 1s 3ms/step - loss: 0.1670 - accuracy: 0.9546 - val_loss: 0.1822 - val_accuracy: 0.9520\n",
            "Epoch 25/50\n",
            "165/165 [==============================] - 1s 3ms/step - loss: 0.1652 - accuracy: 0.9557 - val_loss: 0.1808 - val_accuracy: 0.9520\n",
            "Epoch 26/50\n",
            "165/165 [==============================] - 1s 3ms/step - loss: 0.1642 - accuracy: 0.9551 - val_loss: 0.1796 - val_accuracy: 0.9516\n",
            "Epoch 27/50\n",
            "165/165 [==============================] - 1s 4ms/step - loss: 0.1624 - accuracy: 0.9553 - val_loss: 0.1786 - val_accuracy: 0.9527\n",
            "Epoch 28/50\n",
            "165/165 [==============================] - 1s 3ms/step - loss: 0.1615 - accuracy: 0.9563 - val_loss: 0.1774 - val_accuracy: 0.9518\n",
            "Epoch 29/50\n",
            "165/165 [==============================] - 1s 4ms/step - loss: 0.1598 - accuracy: 0.9555 - val_loss: 0.1769 - val_accuracy: 0.9509\n",
            "Epoch 30/50\n",
            "165/165 [==============================] - 0s 3ms/step - loss: 0.1585 - accuracy: 0.9561 - val_loss: 0.1766 - val_accuracy: 0.9527\n",
            "Epoch 31/50\n",
            "165/165 [==============================] - 1s 3ms/step - loss: 0.1570 - accuracy: 0.9559 - val_loss: 0.1749 - val_accuracy: 0.9520\n",
            "Epoch 32/50\n",
            "165/165 [==============================] - 1s 3ms/step - loss: 0.1561 - accuracy: 0.9553 - val_loss: 0.1743 - val_accuracy: 0.9518\n",
            "Epoch 33/50\n",
            "165/165 [==============================] - 1s 3ms/step - loss: 0.1552 - accuracy: 0.9558 - val_loss: 0.1734 - val_accuracy: 0.9520\n",
            "Epoch 34/50\n",
            "165/165 [==============================] - 1s 4ms/step - loss: 0.1538 - accuracy: 0.9564 - val_loss: 0.1732 - val_accuracy: 0.9522\n",
            "Epoch 35/50\n",
            "165/165 [==============================] - 1s 7ms/step - loss: 0.1528 - accuracy: 0.9563 - val_loss: 0.1731 - val_accuracy: 0.9529\n",
            "Epoch 36/50\n",
            "165/165 [==============================] - 0s 3ms/step - loss: 0.1520 - accuracy: 0.9571 - val_loss: 0.1716 - val_accuracy: 0.9524\n",
            "Epoch 37/50\n",
            "165/165 [==============================] - 0s 3ms/step - loss: 0.1513 - accuracy: 0.9570 - val_loss: 0.1710 - val_accuracy: 0.9524\n",
            "Epoch 38/50\n",
            "165/165 [==============================] - 0s 2ms/step - loss: 0.1505 - accuracy: 0.9579 - val_loss: 0.1707 - val_accuracy: 0.9524\n",
            "Epoch 39/50\n",
            "165/165 [==============================] - 0s 2ms/step - loss: 0.1496 - accuracy: 0.9581 - val_loss: 0.1699 - val_accuracy: 0.9520\n",
            "Epoch 40/50\n",
            "165/165 [==============================] - 0s 2ms/step - loss: 0.1487 - accuracy: 0.9581 - val_loss: 0.1701 - val_accuracy: 0.9527\n",
            "Epoch 41/50\n",
            "165/165 [==============================] - 0s 2ms/step - loss: 0.1479 - accuracy: 0.9572 - val_loss: 0.1692 - val_accuracy: 0.9531\n",
            "Epoch 42/50\n",
            "165/165 [==============================] - 0s 3ms/step - loss: 0.1472 - accuracy: 0.9581 - val_loss: 0.1695 - val_accuracy: 0.9520\n",
            "Epoch 43/50\n",
            "165/165 [==============================] - 0s 3ms/step - loss: 0.1467 - accuracy: 0.9586 - val_loss: 0.1686 - val_accuracy: 0.9524\n",
            "Epoch 44/50\n",
            "165/165 [==============================] - 0s 3ms/step - loss: 0.1462 - accuracy: 0.9587 - val_loss: 0.1681 - val_accuracy: 0.9544\n",
            "Epoch 45/50\n",
            "165/165 [==============================] - 0s 3ms/step - loss: 0.1457 - accuracy: 0.9590 - val_loss: 0.1678 - val_accuracy: 0.9540\n",
            "Epoch 46/50\n",
            "165/165 [==============================] - 1s 3ms/step - loss: 0.1450 - accuracy: 0.9584 - val_loss: 0.1673 - val_accuracy: 0.9542\n",
            "Epoch 47/50\n",
            "165/165 [==============================] - 1s 5ms/step - loss: 0.1445 - accuracy: 0.9583 - val_loss: 0.1670 - val_accuracy: 0.9538\n",
            "Epoch 48/50\n",
            "165/165 [==============================] - 1s 3ms/step - loss: 0.1441 - accuracy: 0.9584 - val_loss: 0.1667 - val_accuracy: 0.9549\n",
            "Epoch 49/50\n",
            "165/165 [==============================] - 1s 3ms/step - loss: 0.1433 - accuracy: 0.9587 - val_loss: 0.1671 - val_accuracy: 0.9536\n",
            "Epoch 50/50\n",
            "165/165 [==============================] - 0s 3ms/step - loss: 0.1429 - accuracy: 0.9589 - val_loss: 0.1662 - val_accuracy: 0.9540\n"
          ]
        }
      ]
    },
    {
      "cell_type": "code",
      "source": [
        "score = model.evaluate(X_test,y_test,verbose=1)\n",
        "print(score)"
      ],
      "metadata": {
        "colab": {
          "base_uri": "https://localhost:8080/"
        },
        "id": "Gfy-B9MPq7iT",
        "outputId": "4aaa5cae-11cd-45b0-e860-62374ca01c8a"
      },
      "execution_count": null,
      "outputs": [
        {
          "output_type": "stream",
          "name": "stdout",
          "text": [
            "141/141 [==============================] - 0s 2ms/step - loss: 0.1662 - accuracy: 0.9540\n",
            "[0.1662399023771286, 0.9539999961853027]\n"
          ]
        }
      ]
    },
    {
      "cell_type": "code",
      "source": [
        "import matplotlib.pyplot as plt\n",
        "\n",
        "plt.plot(history.history['accuracy'])\n",
        "plt.plot(history.history['val_accuracy'])\n",
        "plt.title('model accuracy')\n",
        "plt.ylabel('acccuracy')\n",
        "plt.xlabel('epoch')\n",
        "plt.legend(['train','test'],loc='upper left')\n",
        "plt.show()\n",
        "\n"
      ],
      "metadata": {
        "colab": {
          "base_uri": "https://localhost:8080/",
          "height": 295
        },
        "id": "k2c6kE6ZrSwx",
        "outputId": "16266503-7486-4f89-9203-8b9901c32d37"
      },
      "execution_count": null,
      "outputs": [
        {
          "output_type": "display_data",
          "data": {
            "image/png": "[encoded data removed]",
            "text/plain": [
              "<Figure size 432x288 with 1 Axes>"
            ]
          },
          "metadata": {
            "needs_background": "light"
          }
        }
      ]
    },
    {
      "cell_type": "code",
      "source": [
        "\n",
        "plt.plot(history.history['loss'])\n",
        "plt.plot(history.history['val_loss'])\n",
        "plt.title('model loss')\n",
        "plt.ylabel('loss')\n",
        "plt.xlabel('epoch')\n",
        "plt.legend(['train','test'],loc='upper right')\n",
        "plt.show()\n"
      ],
      "metadata": {
        "colab": {
          "base_uri": "https://localhost:8080/",
          "height": 295
        },
        "id": "Oboi73o5vHZS",
        "outputId": "2607aa0a-996a-4820-bfed-83e09bc1b77d"
      },
      "execution_count": null,
      "outputs": [
        {
          "output_type": "display_data",
          "data": {
            "image/png": "[encoded data removed]",
            "text/plain": [
              "<Figure size 432x288 with 1 Axes>"
            ]
          },
          "metadata": {
            "needs_background": "light"
          }
        }
      ]
    },
    {
      "cell_type": "code",
      "source": [],
      "metadata": {
        "id": "tpOguA_kvUdI"
      },
      "execution_count": null,
      "outputs": []
    }
  ]
}