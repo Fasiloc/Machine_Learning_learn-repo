{
  "cells": [
    {
      "cell_type": "markdown",
      "metadata": {
        "id": "view-in-github",
        "colab_type": "text"
      },
      "source": [
        "<a href=\"https://colab.research.google.com/github/Fasiloc/Machine_Learning_learn-repo/blob/main/Mini%20Project/Mini_Project_Indoor_Human_Occupation.ipynb\" target=\"_parent\"><img src=\"https://colab.research.google.com/assets/colab-badge.svg\" alt=\"Open In Colab\"/></a>"
      ]
    },
    {
      "cell_type": "code",
      "execution_count": null,
      "id": "b603b5e2",
      "metadata": {
        "id": "b603b5e2"
      },
      "outputs": [],
      "source": [
        "#0 importing Libraries\n",
        "import numpy as np\n",
        "import pandas as pd\n",
        "import seaborn as sns\n",
        "import matplotlib.pyplot as plt\n",
        "from sklearn.naive_bayes import MultinomialNB\n",
        "from sklearn.tree import DecisionTreeClassifier,plot_tree,export_graphviz\n",
        "from sklearn.linear_model import LinearRegression,LogisticRegression\n",
        "from sklearn.neural_network import MLPClassifier\n",
        "from sklearn.neighbors import KNeighborsClassifier\n",
        "from sklearn.svm import SVC\n",
        "from sklearn.cluster import KMeans\n",
        "from sklearn.model_selection import train_test_split,GridSearchCV\n",
        "from sklearn.metrics import accuracy_score,mean_absolute_error,mean_squared_error\n",
        "from sklearn.metrics import confusion_matrix,precision_score, recall_score, f1_score,roc_auc_score, roc_curve\n",
        "from sklearn.preprocessing import MinMaxScaler\n",
        "import scipy.cluster.hierarchy as sch\n",
        "from six import StringIO\n",
        "from IPython.display import Image\n",
        "import pydotplus\n",
        "import warnings\n",
        "warnings.filterwarnings('ignore')"
      ]
    },
    {
      "cell_type": "code",
      "execution_count": null,
      "id": "8daccb0c",
      "metadata": {
        "id": "8daccb0c"
      },
      "outputs": [],
      "source": [
        "def best_param(model,param_grid,x_train,y_train):\n",
        "    grid=GridSearchCV(model,param_grid,n_jobs=-1)\n",
        "    grid.fit(x_train,y_train)\n",
        "    return grid.best_params_   "
      ]
    },
    {
      "cell_type": "code",
      "execution_count": null,
      "id": "0a9703c3",
      "metadata": {
        "id": "0a9703c3"
      },
      "outputs": [],
      "source": [
        "#loading dataset\n",
        "df=pd.read_csv('Occupancy_Estimation.csv')"
      ]
    },
    {
      "cell_type": "code",
      "execution_count": null,
      "id": "437d2105",
      "metadata": {
        "colab": {
          "base_uri": "https://localhost:8080/",
          "height": 423
        },
        "id": "437d2105",
        "outputId": "c5cd683c-5cef-4ba0-a10b-5cc5ab4ec98e"
      },
      "outputs": [
        {
          "output_type": "execute_result",
          "data": {
            "text/plain": [
              "             Date      Time  S1_Temp  S2_Temp  S3_Temp  S4_Temp  S1_Light  \\\n",
              "0      2017/12/22  10:49:41    24.94    24.75    24.56    25.38       121   \n",
              "1      2017/12/22  10:50:12    24.94    24.75    24.56    25.44       121   \n",
              "2      2017/12/22  10:50:42    25.00    24.75    24.50    25.44       121   \n",
              "3      2017/12/22  10:51:13    25.00    24.75    24.56    25.44       121   \n",
              "4      2017/12/22  10:51:44    25.00    24.75    24.56    25.44       121   \n",
              "...           ...       ...      ...      ...      ...      ...       ...   \n",
              "10124  2018/01/11  08:58:07    25.06    25.13    24.69    25.31         6   \n",
              "10125  2018/01/11  08:58:37    25.06    25.06    24.69    25.25         6   \n",
              "10126  2018/01/11  08:59:08    25.13    25.06    24.69    25.25         6   \n",
              "10127  2018/01/11  08:59:39    25.13    25.06    24.69    25.25         6   \n",
              "10128  2018/01/11  09:00:09    25.13    25.06    24.69    25.25         6   \n",
              "\n",
              "       S2_Light  S3_Light  S4_Light  S1_Sound  S2_Sound  S3_Sound  S4_Sound  \\\n",
              "0            34        53        40      0.08      0.19      0.06      0.06   \n",
              "1            33        53        40      0.93      0.05      0.06      0.06   \n",
              "2            34        53        40      0.43      0.11      0.08      0.06   \n",
              "3            34        53        40      0.41      0.10      0.10      0.09   \n",
              "4            34        54        40      0.18      0.06      0.06      0.06   \n",
              "...         ...       ...       ...       ...       ...       ...       ...   \n",
              "10124         7        33        22      0.09      0.04      0.06      0.08   \n",
              "10125         7        34        22      0.07      0.05      0.05      0.08   \n",
              "10126         7        34        22      0.11      0.05      0.06      0.08   \n",
              "10127         7        34        22      0.08      0.08      0.10      0.08   \n",
              "10128         7        34        22      0.08      0.05      0.06      0.08   \n",
              "\n",
              "       S5_CO2  S5_CO2_Slope  S6_PIR  S7_PIR  Room_Occupancy_Count  \n",
              "0         390      0.769231       0       0                     1  \n",
              "1         390      0.646154       0       0                     1  \n",
              "2         390      0.519231       0       0                     1  \n",
              "3         390      0.388462       0       0                     1  \n",
              "4         390      0.253846       0       0                     1  \n",
              "...       ...           ...     ...     ...                   ...  \n",
              "10124     345      0.000000       0       0                     0  \n",
              "10125     345      0.000000       0       0                     0  \n",
              "10126     345      0.000000       0       0                     0  \n",
              "10127     345      0.000000       0       0                     0  \n",
              "10128     345      0.000000       0       0                     0  \n",
              "\n",
              "[10129 rows x 19 columns]"
            ],
            "text/html": [
              "\n",
              "  <div id=\"df-0b69bc9d-7588-42f3-8307-44d2d0d19f4d\">\n",
              "    <div class=\"colab-df-container\">\n",
              "      <div>\n",
              "<style scoped>\n",
              "    .dataframe tbody tr th:only-of-type {\n",
              "        vertical-align: middle;\n",
              "    }\n",
              "\n",
              "    .dataframe tbody tr th {\n",
              "        vertical-align: top;\n",
              "    }\n",
              "\n",
              "    .dataframe thead th {\n",
              "        text-align: right;\n",
              "    }\n",
              "</style>\n",
              "<table border=\"1\" class=\"dataframe\">\n",
              "  <thead>\n",
              "    <tr style=\"text-align: right;\">\n",
              "      <th></th>\n",
              "      <th>Date</th>\n",
              "      <th>Time</th>\n",
              "      <th>S1_Temp</th>\n",
              "      <th>S2_Temp</th>\n",
              "      <th>S3_Temp</th>\n",
              "      <th>S4_Temp</th>\n",
              "      <th>S1_Light</th>\n",
              "      <th>S2_Light</th>\n",
              "      <th>S3_Light</th>\n",
              "      <th>S4_Light</th>\n",
              "      <th>S1_Sound</th>\n",
              "      <th>S2_Sound</th>\n",
              "      <th>S3_Sound</th>\n",
              "      <th>S4_Sound</th>\n",
              "      <th>S5_CO2</th>\n",
              "      <th>S5_CO2_Slope</th>\n",
              "      <th>S6_PIR</th>\n",
              "      <th>S7_PIR</th>\n",
              "      <th>Room_Occupancy_Count</th>\n",
              "    </tr>\n",
              "  </thead>\n",
              "  <tbody>\n",
              "    <tr>\n",
              "      <th>0</th>\n",
              "      <td>2017/12/22</td>\n",
              "      <td>10:49:41</td>\n",
              "      <td>24.94</td>\n",
              "      <td>24.75</td>\n",
              "      <td>24.56</td>\n",
              "      <td>25.38</td>\n",
              "      <td>121</td>\n",
              "      <td>34</td>\n",
              "      <td>53</td>\n",
              "      <td>40</td>\n",
              "      <td>0.08</td>\n",
              "      <td>0.19</td>\n",
              "      <td>0.06</td>\n",
              "      <td>0.06</td>\n",
              "      <td>390</td>\n",
              "      <td>0.769231</td>\n",
              "      <td>0</td>\n",
              "      <td>0</td>\n",
              "      <td>1</td>\n",
              "    </tr>\n",
              "    <tr>\n",
              "      <th>1</th>\n",
              "      <td>2017/12/22</td>\n",
              "      <td>10:50:12</td>\n",
              "      <td>24.94</td>\n",
              "      <td>24.75</td>\n",
              "      <td>24.56</td>\n",
              "      <td>25.44</td>\n",
              "      <td>121</td>\n",
              "      <td>33</td>\n",
              "      <td>53</td>\n",
              "      <td>40</td>\n",
              "      <td>0.93</td>\n",
              "      <td>0.05</td>\n",
              "      <td>0.06</td>\n",
              "      <td>0.06</td>\n",
              "      <td>390</td>\n",
              "      <td>0.646154</td>\n",
              "      <td>0</td>\n",
              "      <td>0</td>\n",
              "      <td>1</td>\n",
              "    </tr>\n",
              "    <tr>\n",
              "      <th>2</th>\n",
              "      <td>2017/12/22</td>\n",
              "      <td>10:50:42</td>\n",
              "      <td>25.00</td>\n",
              "      <td>24.75</td>\n",
              "      <td>24.50</td>\n",
              "      <td>25.44</td>\n",
              "      <td>121</td>\n",
              "      <td>34</td>\n",
              "      <td>53</td>\n",
              "      <td>40</td>\n",
              "      <td>0.43</td>\n",
              "      <td>0.11</td>\n",
              "      <td>0.08</td>\n",
              "      <td>0.06</td>\n",
              "      <td>390</td>\n",
              "      <td>0.519231</td>\n",
              "      <td>0</td>\n",
              "      <td>0</td>\n",
              "      <td>1</td>\n",
              "    </tr>\n",
              "    <tr>\n",
              "      <th>3</th>\n",
              "      <td>2017/12/22</td>\n",
              "      <td>10:51:13</td>\n",
              "      <td>25.00</td>\n",
              "      <td>24.75</td>\n",
              "      <td>24.56</td>\n",
              "      <td>25.44</td>\n",
              "      <td>121</td>\n",
              "      <td>34</td>\n",
              "      <td>53</td>\n",
              "      <td>40</td>\n",
              "      <td>0.41</td>\n",
              "      <td>0.10</td>\n",
              "      <td>0.10</td>\n",
              "      <td>0.09</td>\n",
              "      <td>390</td>\n",
              "      <td>0.388462</td>\n",
              "      <td>0</td>\n",
              "      <td>0</td>\n",
              "      <td>1</td>\n",
              "    </tr>\n",
              "    <tr>\n",
              "      <th>4</th>\n",
              "      <td>2017/12/22</td>\n",
              "      <td>10:51:44</td>\n",
              "      <td>25.00</td>\n",
              "      <td>24.75</td>\n",
              "      <td>24.56</td>\n",
              "      <td>25.44</td>\n",
              "      <td>121</td>\n",
              "      <td>34</td>\n",
              "      <td>54</td>\n",
              "      <td>40</td>\n",
              "      <td>0.18</td>\n",
              "      <td>0.06</td>\n",
              "      <td>0.06</td>\n",
              "      <td>0.06</td>\n",
              "      <td>390</td>\n",
              "      <td>0.253846</td>\n",
              "      <td>0</td>\n",
              "      <td>0</td>\n",
              "      <td>1</td>\n",
              "    </tr>\n",
              "    <tr>\n",
              "      <th>...</th>\n",
              "      <td>...</td>\n",
              "      <td>...</td>\n",
              "      <td>...</td>\n",
              "      <td>...</td>\n",
              "      <td>...</td>\n",
              "      <td>...</td>\n",
              "      <td>...</td>\n",
              "      <td>...</td>\n",
              "      <td>...</td>\n",
              "      <td>...</td>\n",
              "      <td>...</td>\n",
              "      <td>...</td>\n",
              "      <td>...</td>\n",
              "      <td>...</td>\n",
              "      <td>...</td>\n",
              "      <td>...</td>\n",
              "      <td>...</td>\n",
              "      <td>...</td>\n",
              "      <td>...</td>\n",
              "    </tr>\n",
              "    <tr>\n",
              "      <th>10124</th>\n",
              "      <td>2018/01/11</td>\n",
              "      <td>08:58:07</td>\n",
              "      <td>25.06</td>\n",
              "      <td>25.13</td>\n",
              "      <td>24.69</td>\n",
              "      <td>25.31</td>\n",
              "      <td>6</td>\n",
              "      <td>7</td>\n",
              "      <td>33</td>\n",
              "      <td>22</td>\n",
              "      <td>0.09</td>\n",
              "      <td>0.04</td>\n",
              "      <td>0.06</td>\n",
              "      <td>0.08</td>\n",
              "      <td>345</td>\n",
              "      <td>0.000000</td>\n",
              "      <td>0</td>\n",
              "      <td>0</td>\n",
              "      <td>0</td>\n",
              "    </tr>\n",
              "    <tr>\n",
              "      <th>10125</th>\n",
              "      <td>2018/01/11</td>\n",
              "      <td>08:58:37</td>\n",
              "      <td>25.06</td>\n",
              "      <td>25.06</td>\n",
              "      <td>24.69</td>\n",
              "      <td>25.25</td>\n",
              "      <td>6</td>\n",
              "      <td>7</td>\n",
              "      <td>34</td>\n",
              "      <td>22</td>\n",
              "      <td>0.07</td>\n",
              "      <td>0.05</td>\n",
              "      <td>0.05</td>\n",
              "      <td>0.08</td>\n",
              "      <td>345</td>\n",
              "      <td>0.000000</td>\n",
              "      <td>0</td>\n",
              "      <td>0</td>\n",
              "      <td>0</td>\n",
              "    </tr>\n",
              "    <tr>\n",
              "      <th>10126</th>\n",
              "      <td>2018/01/11</td>\n",
              "      <td>08:59:08</td>\n",
              "      <td>25.13</td>\n",
              "      <td>25.06</td>\n",
              "      <td>24.69</td>\n",
              "      <td>25.25</td>\n",
              "      <td>6</td>\n",
              "      <td>7</td>\n",
              "      <td>34</td>\n",
              "      <td>22</td>\n",
              "      <td>0.11</td>\n",
              "      <td>0.05</td>\n",
              "      <td>0.06</td>\n",
              "      <td>0.08</td>\n",
              "      <td>345</td>\n",
              "      <td>0.000000</td>\n",
              "      <td>0</td>\n",
              "      <td>0</td>\n",
              "      <td>0</td>\n",
              "    </tr>\n",
              "    <tr>\n",
              "      <th>10127</th>\n",
              "      <td>2018/01/11</td>\n",
              "      <td>08:59:39</td>\n",
              "      <td>25.13</td>\n",
              "      <td>25.06</td>\n",
              "      <td>24.69</td>\n",
              "      <td>25.25</td>\n",
              "      <td>6</td>\n",
              "      <td>7</td>\n",
              "      <td>34</td>\n",
              "      <td>22</td>\n",
              "      <td>0.08</td>\n",
              "      <td>0.08</td>\n",
              "      <td>0.10</td>\n",
              "      <td>0.08</td>\n",
              "      <td>345</td>\n",
              "      <td>0.000000</td>\n",
              "      <td>0</td>\n",
              "      <td>0</td>\n",
              "      <td>0</td>\n",
              "    </tr>\n",
              "    <tr>\n",
              "      <th>10128</th>\n",
              "      <td>2018/01/11</td>\n",
              "      <td>09:00:09</td>\n",
              "      <td>25.13</td>\n",
              "      <td>25.06</td>\n",
              "      <td>24.69</td>\n",
              "      <td>25.25</td>\n",
              "      <td>6</td>\n",
              "      <td>7</td>\n",
              "      <td>34</td>\n",
              "      <td>22</td>\n",
              "      <td>0.08</td>\n",
              "      <td>0.05</td>\n",
              "      <td>0.06</td>\n",
              "      <td>0.08</td>\n",
              "      <td>345</td>\n",
              "      <td>0.000000</td>\n",
              "      <td>0</td>\n",
              "      <td>0</td>\n",
              "      <td>0</td>\n",
              "    </tr>\n",
              "  </tbody>\n",
              "</table>\n",
              "<p>10129 rows × 19 columns</p>\n",
              "</div>\n",
              "      <button class=\"colab-df-convert\" onclick=\"convertToInteractive('df-0b69bc9d-7588-42f3-8307-44d2d0d19f4d')\"\n",
              "              title=\"Convert this dataframe to an interactive table.\"\n",
              "              style=\"display:none;\">\n",
              "        \n",
              "  <svg xmlns=\"http://www.w3.org/2000/svg\" height=\"24px\"viewBox=\"0 0 24 24\"\n",
              "       width=\"24px\">\n",
              "    <path d=\"M0 0h24v24H0V0z\" fill=\"none\"/>\n",
              "    <path d=\"M18.56 5.44l.94 2.06.94-2.06 2.06-.94-2.06-.94-.94-2.06-.94 2.06-2.06.94zm-11 1L8.5 8.5l.94-2.06 2.06-.94-2.06-.94L8.5 2.5l-.94 2.06-2.06.94zm10 10l.94 2.06.94-2.06 2.06-.94-2.06-.94-.94-2.06-.94 2.06-2.06.94z\"/><path d=\"M17.41 7.96l-1.37-1.37c-.4-.4-.92-.59-1.43-.59-.52 0-1.04.2-1.43.59L10.3 9.45l-7.72 7.72c-.78.78-.78 2.05 0 2.83L4 21.41c.39.39.9.59 1.41.59.51 0 1.02-.2 1.41-.59l7.78-7.78 2.81-2.81c.8-.78.8-2.07 0-2.86zM5.41 20L4 18.59l7.72-7.72 1.47 1.35L5.41 20z\"/>\n",
              "  </svg>\n",
              "      </button>\n",
              "      \n",
              "  <style>\n",
              "    .colab-df-container {\n",
              "      display:flex;\n",
              "      flex-wrap:wrap;\n",
              "      gap: 12px;\n",
              "    }\n",
              "\n",
              "    .colab-df-convert {\n",
              "      background-color: #E8F0FE;\n",
              "      border: none;\n",
              "      border-radius: 50%;\n",
              "      cursor: pointer;\n",
              "      display: none;\n",
              "      fill: #1967D2;\n",
              "      height: 32px;\n",
              "      padding: 0 0 0 0;\n",
              "      width: 32px;\n",
              "    }\n",
              "\n",
              "    .colab-df-convert:hover {\n",
              "      background-color: #E2EBFA;\n",
              "      box-shadow: 0px 1px 2px rgba(60, 64, 67, 0.3), 0px 1px 3px 1px rgba(60, 64, 67, 0.15);\n",
              "      fill: #174EA6;\n",
              "    }\n",
              "\n",
              "    [theme=dark] .colab-df-convert {\n",
              "      background-color: #3B4455;\n",
              "      fill: #D2E3FC;\n",
              "    }\n",
              "\n",
              "    [theme=dark] .colab-df-convert:hover {\n",
              "      background-color: #434B5C;\n",
              "      box-shadow: 0px 1px 3px 1px rgba(0, 0, 0, 0.15);\n",
              "      filter: drop-shadow(0px 1px 2px rgba(0, 0, 0, 0.3));\n",
              "      fill: #FFFFFF;\n",
              "    }\n",
              "  </style>\n",
              "\n",
              "      <script>\n",
              "        const buttonEl =\n",
              "          document.querySelector('#df-0b69bc9d-7588-42f3-8307-44d2d0d19f4d button.colab-df-convert');\n",
              "        buttonEl.style.display =\n",
              "          google.colab.kernel.accessAllowed ? 'block' : 'none';\n",
              "\n",
              "        async function convertToInteractive(key) {\n",
              "          const element = document.querySelector('#df-0b69bc9d-7588-42f3-8307-44d2d0d19f4d');\n",
              "          const dataTable =\n",
              "            await google.colab.kernel.invokeFunction('convertToInteractive',\n",
              "                                                     [key], {});\n",
              "          if (!dataTable) return;\n",
              "\n",
              "          const docLinkHtml = 'Like what you see? Visit the ' +\n",
              "            '<a target=\"_blank\" href=https://colab.research.google.com/notebooks/data_table.ipynb>data table notebook</a>'\n",
              "            + ' to learn more about interactive tables.';\n",
              "          element.innerHTML = '';\n",
              "          dataTable['output_type'] = 'display_data';\n",
              "          await google.colab.output.renderOutput(dataTable, element);\n",
              "          const docLink = document.createElement('div');\n",
              "          docLink.innerHTML = docLinkHtml;\n",
              "          element.appendChild(docLink);\n",
              "        }\n",
              "      </script>\n",
              "    </div>\n",
              "  </div>\n",
              "  "
            ]
          },
          "metadata": {},
          "execution_count": 7
        }
      ],
      "source": [
        "df"
      ]
    },
    {
      "cell_type": "code",
      "execution_count": null,
      "id": "b250fb43",
      "metadata": {
        "id": "b250fb43"
      },
      "outputs": [],
      "source": [
        "# droping un-neccessary column\n",
        "df=df.drop(['Date','Time'],axis=1)"
      ]
    },
    {
      "cell_type": "code",
      "execution_count": null,
      "id": "b92752b1",
      "metadata": {
        "colab": {
          "base_uri": "https://localhost:8080/",
          "height": 423
        },
        "id": "b92752b1",
        "outputId": "cec331f9-695b-4d3a-b425-fc04799d29c6"
      },
      "outputs": [
        {
          "output_type": "execute_result",
          "data": {
            "text/plain": [
              "       S1_Temp  S2_Temp  S3_Temp  S4_Temp  S1_Light  S2_Light  S3_Light  \\\n",
              "0        24.94    24.75    24.56    25.38       121        34        53   \n",
              "1        24.94    24.75    24.56    25.44       121        33        53   \n",
              "2        25.00    24.75    24.50    25.44       121        34        53   \n",
              "3        25.00    24.75    24.56    25.44       121        34        53   \n",
              "4        25.00    24.75    24.56    25.44       121        34        54   \n",
              "...        ...      ...      ...      ...       ...       ...       ...   \n",
              "10124    25.06    25.13    24.69    25.31         6         7        33   \n",
              "10125    25.06    25.06    24.69    25.25         6         7        34   \n",
              "10126    25.13    25.06    24.69    25.25         6         7        34   \n",
              "10127    25.13    25.06    24.69    25.25         6         7        34   \n",
              "10128    25.13    25.06    24.69    25.25         6         7        34   \n",
              "\n",
              "       S4_Light  S1_Sound  S2_Sound  S3_Sound  S4_Sound  S5_CO2  S5_CO2_Slope  \\\n",
              "0            40      0.08      0.19      0.06      0.06     390      0.769231   \n",
              "1            40      0.93      0.05      0.06      0.06     390      0.646154   \n",
              "2            40      0.43      0.11      0.08      0.06     390      0.519231   \n",
              "3            40      0.41      0.10      0.10      0.09     390      0.388462   \n",
              "4            40      0.18      0.06      0.06      0.06     390      0.253846   \n",
              "...         ...       ...       ...       ...       ...     ...           ...   \n",
              "10124        22      0.09      0.04      0.06      0.08     345      0.000000   \n",
              "10125        22      0.07      0.05      0.05      0.08     345      0.000000   \n",
              "10126        22      0.11      0.05      0.06      0.08     345      0.000000   \n",
              "10127        22      0.08      0.08      0.10      0.08     345      0.000000   \n",
              "10128        22      0.08      0.05      0.06      0.08     345      0.000000   \n",
              "\n",
              "       S6_PIR  S7_PIR  Room_Occupancy_Count  \n",
              "0           0       0                     1  \n",
              "1           0       0                     1  \n",
              "2           0       0                     1  \n",
              "3           0       0                     1  \n",
              "4           0       0                     1  \n",
              "...       ...     ...                   ...  \n",
              "10124       0       0                     0  \n",
              "10125       0       0                     0  \n",
              "10126       0       0                     0  \n",
              "10127       0       0                     0  \n",
              "10128       0       0                     0  \n",
              "\n",
              "[10129 rows x 17 columns]"
            ],
            "text/html": [
              "\n",
              "  <div id=\"df-024a127d-1a4b-4d91-8e4f-eeb6da0220b7\">\n",
              "    <div class=\"colab-df-container\">\n",
              "      <div>\n",
              "<style scoped>\n",
              "    .dataframe tbody tr th:only-of-type {\n",
              "        vertical-align: middle;\n",
              "    }\n",
              "\n",
              "    .dataframe tbody tr th {\n",
              "        vertical-align: top;\n",
              "    }\n",
              "\n",
              "    .dataframe thead th {\n",
              "        text-align: right;\n",
              "    }\n",
              "</style>\n",
              "<table border=\"1\" class=\"dataframe\">\n",
              "  <thead>\n",
              "    <tr style=\"text-align: right;\">\n",
              "      <th></th>\n",
              "      <th>S1_Temp</th>\n",
              "      <th>S2_Temp</th>\n",
              "      <th>S3_Temp</th>\n",
              "      <th>S4_Temp</th>\n",
              "      <th>S1_Light</th>\n",
              "      <th>S2_Light</th>\n",
              "      <th>S3_Light</th>\n",
              "      <th>S4_Light</th>\n",
              "      <th>S1_Sound</th>\n",
              "      <th>S2_Sound</th>\n",
              "      <th>S3_Sound</th>\n",
              "      <th>S4_Sound</th>\n",
              "      <th>S5_CO2</th>\n",
              "      <th>S5_CO2_Slope</th>\n",
              "      <th>S6_PIR</th>\n",
              "      <th>S7_PIR</th>\n",
              "      <th>Room_Occupancy_Count</th>\n",
              "    </tr>\n",
              "  </thead>\n",
              "  <tbody>\n",
              "    <tr>\n",
              "      <th>0</th>\n",
              "      <td>24.94</td>\n",
              "      <td>24.75</td>\n",
              "      <td>24.56</td>\n",
              "      <td>25.38</td>\n",
              "      <td>121</td>\n",
              "      <td>34</td>\n",
              "      <td>53</td>\n",
              "      <td>40</td>\n",
              "      <td>0.08</td>\n",
              "      <td>0.19</td>\n",
              "      <td>0.06</td>\n",
              "      <td>0.06</td>\n",
              "      <td>390</td>\n",
              "      <td>0.769231</td>\n",
              "      <td>0</td>\n",
              "      <td>0</td>\n",
              "      <td>1</td>\n",
              "    </tr>\n",
              "    <tr>\n",
              "      <th>1</th>\n",
              "      <td>24.94</td>\n",
              "      <td>24.75</td>\n",
              "      <td>24.56</td>\n",
              "      <td>25.44</td>\n",
              "      <td>121</td>\n",
              "      <td>33</td>\n",
              "      <td>53</td>\n",
              "      <td>40</td>\n",
              "      <td>0.93</td>\n",
              "      <td>0.05</td>\n",
              "      <td>0.06</td>\n",
              "      <td>0.06</td>\n",
              "      <td>390</td>\n",
              "      <td>0.646154</td>\n",
              "      <td>0</td>\n",
              "      <td>0</td>\n",
              "      <td>1</td>\n",
              "    </tr>\n",
              "    <tr>\n",
              "      <th>2</th>\n",
              "      <td>25.00</td>\n",
              "      <td>24.75</td>\n",
              "      <td>24.50</td>\n",
              "      <td>25.44</td>\n",
              "      <td>121</td>\n",
              "      <td>34</td>\n",
              "      <td>53</td>\n",
              "      <td>40</td>\n",
              "      <td>0.43</td>\n",
              "      <td>0.11</td>\n",
              "      <td>0.08</td>\n",
              "      <td>0.06</td>\n",
              "      <td>390</td>\n",
              "      <td>0.519231</td>\n",
              "      <td>0</td>\n",
              "      <td>0</td>\n",
              "      <td>1</td>\n",
              "    </tr>\n",
              "    <tr>\n",
              "      <th>3</th>\n",
              "      <td>25.00</td>\n",
              "      <td>24.75</td>\n",
              "      <td>24.56</td>\n",
              "      <td>25.44</td>\n",
              "      <td>121</td>\n",
              "      <td>34</td>\n",
              "      <td>53</td>\n",
              "      <td>40</td>\n",
              "      <td>0.41</td>\n",
              "      <td>0.10</td>\n",
              "      <td>0.10</td>\n",
              "      <td>0.09</td>\n",
              "      <td>390</td>\n",
              "      <td>0.388462</td>\n",
              "      <td>0</td>\n",
              "      <td>0</td>\n",
              "      <td>1</td>\n",
              "    </tr>\n",
              "    <tr>\n",
              "      <th>4</th>\n",
              "      <td>25.00</td>\n",
              "      <td>24.75</td>\n",
              "      <td>24.56</td>\n",
              "      <td>25.44</td>\n",
              "      <td>121</td>\n",
              "      <td>34</td>\n",
              "      <td>54</td>\n",
              "      <td>40</td>\n",
              "      <td>0.18</td>\n",
              "      <td>0.06</td>\n",
              "      <td>0.06</td>\n",
              "      <td>0.06</td>\n",
              "      <td>390</td>\n",
              "      <td>0.253846</td>\n",
              "      <td>0</td>\n",
              "      <td>0</td>\n",
              "      <td>1</td>\n",
              "    </tr>\n",
              "    <tr>\n",
              "      <th>...</th>\n",
              "      <td>...</td>\n",
              "      <td>...</td>\n",
              "      <td>...</td>\n",
              "      <td>...</td>\n",
              "      <td>...</td>\n",
              "      <td>...</td>\n",
              "      <td>...</td>\n",
              "      <td>...</td>\n",
              "      <td>...</td>\n",
              "      <td>...</td>\n",
              "      <td>...</td>\n",
              "      <td>...</td>\n",
              "      <td>...</td>\n",
              "      <td>...</td>\n",
              "      <td>...</td>\n",
              "      <td>...</td>\n",
              "      <td>...</td>\n",
              "    </tr>\n",
              "    <tr>\n",
              "      <th>10124</th>\n",
              "      <td>25.06</td>\n",
              "      <td>25.13</td>\n",
              "      <td>24.69</td>\n",
              "      <td>25.31</td>\n",
              "      <td>6</td>\n",
              "      <td>7</td>\n",
              "      <td>33</td>\n",
              "      <td>22</td>\n",
              "      <td>0.09</td>\n",
              "      <td>0.04</td>\n",
              "      <td>0.06</td>\n",
              "      <td>0.08</td>\n",
              "      <td>345</td>\n",
              "      <td>0.000000</td>\n",
              "      <td>0</td>\n",
              "      <td>0</td>\n",
              "      <td>0</td>\n",
              "    </tr>\n",
              "    <tr>\n",
              "      <th>10125</th>\n",
              "      <td>25.06</td>\n",
              "      <td>25.06</td>\n",
              "      <td>24.69</td>\n",
              "      <td>25.25</td>\n",
              "      <td>6</td>\n",
              "      <td>7</td>\n",
              "      <td>34</td>\n",
              "      <td>22</td>\n",
              "      <td>0.07</td>\n",
              "      <td>0.05</td>\n",
              "      <td>0.05</td>\n",
              "      <td>0.08</td>\n",
              "      <td>345</td>\n",
              "      <td>0.000000</td>\n",
              "      <td>0</td>\n",
              "      <td>0</td>\n",
              "      <td>0</td>\n",
              "    </tr>\n",
              "    <tr>\n",
              "      <th>10126</th>\n",
              "      <td>25.13</td>\n",
              "      <td>25.06</td>\n",
              "      <td>24.69</td>\n",
              "      <td>25.25</td>\n",
              "      <td>6</td>\n",
              "      <td>7</td>\n",
              "      <td>34</td>\n",
              "      <td>22</td>\n",
              "      <td>0.11</td>\n",
              "      <td>0.05</td>\n",
              "      <td>0.06</td>\n",
              "      <td>0.08</td>\n",
              "      <td>345</td>\n",
              "      <td>0.000000</td>\n",
              "      <td>0</td>\n",
              "      <td>0</td>\n",
              "      <td>0</td>\n",
              "    </tr>\n",
              "    <tr>\n",
              "      <th>10127</th>\n",
              "      <td>25.13</td>\n",
              "      <td>25.06</td>\n",
              "      <td>24.69</td>\n",
              "      <td>25.25</td>\n",
              "      <td>6</td>\n",
              "      <td>7</td>\n",
              "      <td>34</td>\n",
              "      <td>22</td>\n",
              "      <td>0.08</td>\n",
              "      <td>0.08</td>\n",
              "      <td>0.10</td>\n",
              "      <td>0.08</td>\n",
              "      <td>345</td>\n",
              "      <td>0.000000</td>\n",
              "      <td>0</td>\n",
              "      <td>0</td>\n",
              "      <td>0</td>\n",
              "    </tr>\n",
              "    <tr>\n",
              "      <th>10128</th>\n",
              "      <td>25.13</td>\n",
              "      <td>25.06</td>\n",
              "      <td>24.69</td>\n",
              "      <td>25.25</td>\n",
              "      <td>6</td>\n",
              "      <td>7</td>\n",
              "      <td>34</td>\n",
              "      <td>22</td>\n",
              "      <td>0.08</td>\n",
              "      <td>0.05</td>\n",
              "      <td>0.06</td>\n",
              "      <td>0.08</td>\n",
              "      <td>345</td>\n",
              "      <td>0.000000</td>\n",
              "      <td>0</td>\n",
              "      <td>0</td>\n",
              "      <td>0</td>\n",
              "    </tr>\n",
              "  </tbody>\n",
              "</table>\n",
              "<p>10129 rows × 17 columns</p>\n",
              "</div>\n",
              "      <button class=\"colab-df-convert\" onclick=\"convertToInteractive('df-024a127d-1a4b-4d91-8e4f-eeb6da0220b7')\"\n",
              "              title=\"Convert this dataframe to an interactive table.\"\n",
              "              style=\"display:none;\">\n",
              "        \n",
              "  <svg xmlns=\"http://www.w3.org/2000/svg\" height=\"24px\"viewBox=\"0 0 24 24\"\n",
              "       width=\"24px\">\n",
              "    <path d=\"M0 0h24v24H0V0z\" fill=\"none\"/>\n",
              "    <path d=\"M18.56 5.44l.94 2.06.94-2.06 2.06-.94-2.06-.94-.94-2.06-.94 2.06-2.06.94zm-11 1L8.5 8.5l.94-2.06 2.06-.94-2.06-.94L8.5 2.5l-.94 2.06-2.06.94zm10 10l.94 2.06.94-2.06 2.06-.94-2.06-.94-.94-2.06-.94 2.06-2.06.94z\"/><path d=\"M17.41 7.96l-1.37-1.37c-.4-.4-.92-.59-1.43-.59-.52 0-1.04.2-1.43.59L10.3 9.45l-7.72 7.72c-.78.78-.78 2.05 0 2.83L4 21.41c.39.39.9.59 1.41.59.51 0 1.02-.2 1.41-.59l7.78-7.78 2.81-2.81c.8-.78.8-2.07 0-2.86zM5.41 20L4 18.59l7.72-7.72 1.47 1.35L5.41 20z\"/>\n",
              "  </svg>\n",
              "      </button>\n",
              "      \n",
              "  <style>\n",
              "    .colab-df-container {\n",
              "      display:flex;\n",
              "      flex-wrap:wrap;\n",
              "      gap: 12px;\n",
              "    }\n",
              "\n",
              "    .colab-df-convert {\n",
              "      background-color: #E8F0FE;\n",
              "      border: none;\n",
              "      border-radius: 50%;\n",
              "      cursor: pointer;\n",
              "      display: none;\n",
              "      fill: #1967D2;\n",
              "      height: 32px;\n",
              "      padding: 0 0 0 0;\n",
              "      width: 32px;\n",
              "    }\n",
              "\n",
              "    .colab-df-convert:hover {\n",
              "      background-color: #E2EBFA;\n",
              "      box-shadow: 0px 1px 2px rgba(60, 64, 67, 0.3), 0px 1px 3px 1px rgba(60, 64, 67, 0.15);\n",
              "      fill: #174EA6;\n",
              "    }\n",
              "\n",
              "    [theme=dark] .colab-df-convert {\n",
              "      background-color: #3B4455;\n",
              "      fill: #D2E3FC;\n",
              "    }\n",
              "\n",
              "    [theme=dark] .colab-df-convert:hover {\n",
              "      background-color: #434B5C;\n",
              "      box-shadow: 0px 1px 3px 1px rgba(0, 0, 0, 0.15);\n",
              "      filter: drop-shadow(0px 1px 2px rgba(0, 0, 0, 0.3));\n",
              "      fill: #FFFFFF;\n",
              "    }\n",
              "  </style>\n",
              "\n",
              "      <script>\n",
              "        const buttonEl =\n",
              "          document.querySelector('#df-024a127d-1a4b-4d91-8e4f-eeb6da0220b7 button.colab-df-convert');\n",
              "        buttonEl.style.display =\n",
              "          google.colab.kernel.accessAllowed ? 'block' : 'none';\n",
              "\n",
              "        async function convertToInteractive(key) {\n",
              "          const element = document.querySelector('#df-024a127d-1a4b-4d91-8e4f-eeb6da0220b7');\n",
              "          const dataTable =\n",
              "            await google.colab.kernel.invokeFunction('convertToInteractive',\n",
              "                                                     [key], {});\n",
              "          if (!dataTable) return;\n",
              "\n",
              "          const docLinkHtml = 'Like what you see? Visit the ' +\n",
              "            '<a target=\"_blank\" href=https://colab.research.google.com/notebooks/data_table.ipynb>data table notebook</a>'\n",
              "            + ' to learn more about interactive tables.';\n",
              "          element.innerHTML = '';\n",
              "          dataTable['output_type'] = 'display_data';\n",
              "          await google.colab.output.renderOutput(dataTable, element);\n",
              "          const docLink = document.createElement('div');\n",
              "          docLink.innerHTML = docLinkHtml;\n",
              "          element.appendChild(docLink);\n",
              "        }\n",
              "      </script>\n",
              "    </div>\n",
              "  </div>\n",
              "  "
            ]
          },
          "metadata": {},
          "execution_count": 9
        }
      ],
      "source": [
        "df"
      ]
    },
    {
      "cell_type": "markdown",
      "id": "ba60b73d",
      "metadata": {
        "id": "ba60b73d"
      },
      "source": [
        "Checking Null values"
      ]
    },
    {
      "cell_type": "code",
      "execution_count": null,
      "id": "174b743d",
      "metadata": {
        "colab": {
          "base_uri": "https://localhost:8080/"
        },
        "id": "174b743d",
        "outputId": "648fe432-755b-4fdf-e573-37a7a58b0906"
      },
      "outputs": [
        {
          "output_type": "execute_result",
          "data": {
            "text/plain": [
              "(10129, 17)"
            ]
          },
          "metadata": {},
          "execution_count": 10
        }
      ],
      "source": [
        "df.shape"
      ]
    },
    {
      "cell_type": "code",
      "execution_count": null,
      "id": "8074b25e",
      "metadata": {
        "colab": {
          "base_uri": "https://localhost:8080/"
        },
        "id": "8074b25e",
        "outputId": "723cd6cc-32d2-4a15-b98d-34aef5d037f6"
      },
      "outputs": [
        {
          "output_type": "stream",
          "name": "stdout",
          "text": [
            "<class 'pandas.core.frame.DataFrame'>\n",
            "RangeIndex: 10129 entries, 0 to 10128\n",
            "Data columns (total 17 columns):\n",
            " #   Column                Non-Null Count  Dtype  \n",
            "---  ------                --------------  -----  \n",
            " 0   S1_Temp               10129 non-null  float64\n",
            " 1   S2_Temp               10129 non-null  float64\n",
            " 2   S3_Temp               10129 non-null  float64\n",
            " 3   S4_Temp               10129 non-null  float64\n",
            " 4   S1_Light              10129 non-null  int64  \n",
            " 5   S2_Light              10129 non-null  int64  \n",
            " 6   S3_Light              10129 non-null  int64  \n",
            " 7   S4_Light              10129 non-null  int64  \n",
            " 8   S1_Sound              10129 non-null  float64\n",
            " 9   S2_Sound              10129 non-null  float64\n",
            " 10  S3_Sound              10129 non-null  float64\n",
            " 11  S4_Sound              10129 non-null  float64\n",
            " 12  S5_CO2                10129 non-null  int64  \n",
            " 13  S5_CO2_Slope          10129 non-null  float64\n",
            " 14  S6_PIR                10129 non-null  int64  \n",
            " 15  S7_PIR                10129 non-null  int64  \n",
            " 16  Room_Occupancy_Count  10129 non-null  int64  \n",
            "dtypes: float64(9), int64(8)\n",
            "memory usage: 1.3 MB\n"
          ]
        }
      ],
      "source": [
        "df.info()"
      ]
    },
    {
      "cell_type": "code",
      "execution_count": null,
      "id": "adbb129d",
      "metadata": {
        "colab": {
          "base_uri": "https://localhost:8080/",
          "height": 582
        },
        "id": "adbb129d",
        "outputId": "d1006a1e-9b13-446e-fe6a-505de39a9c4c"
      },
      "outputs": [
        {
          "output_type": "execute_result",
          "data": {
            "text/plain": [
              "                        count        mean         std         min         25%  \\\n",
              "S1_Temp               10129.0   25.454012    0.351351   24.940000   25.190000   \n",
              "S2_Temp               10129.0   25.546059    0.586325   24.750000   25.190000   \n",
              "S3_Temp               10129.0   25.056621    0.427283   24.440000   24.690000   \n",
              "S4_Temp               10129.0   25.754125    0.356434   24.940000   25.440000   \n",
              "S1_Light              10129.0   25.445059   51.011264    0.000000    0.000000   \n",
              "S2_Light              10129.0   26.016290   67.304170    0.000000    0.000000   \n",
              "S3_Light              10129.0   34.248494   58.400744    0.000000    0.000000   \n",
              "S4_Light              10129.0   13.220259   19.602219    0.000000    0.000000   \n",
              "S1_Sound              10129.0    0.168178    0.316709    0.060000    0.070000   \n",
              "S2_Sound              10129.0    0.120066    0.266503    0.040000    0.050000   \n",
              "S3_Sound              10129.0    0.158119    0.413637    0.040000    0.060000   \n",
              "S4_Sound              10129.0    0.103840    0.120683    0.050000    0.060000   \n",
              "S5_CO2                10129.0  460.860401  199.964940  345.000000  355.000000   \n",
              "S5_CO2_Slope          10129.0   -0.004830    1.164990   -6.296154   -0.046154   \n",
              "S6_PIR                10129.0    0.090137    0.286392    0.000000    0.000000   \n",
              "S7_PIR                10129.0    0.079574    0.270645    0.000000    0.000000   \n",
              "Room_Occupancy_Count  10129.0    0.398559    0.893633    0.000000    0.000000   \n",
              "\n",
              "                         50%     75%          max  \n",
              "S1_Temp                25.38   25.63    26.380000  \n",
              "S2_Temp                25.38   25.63    29.000000  \n",
              "S3_Temp                24.94   25.38    26.190000  \n",
              "S4_Temp                25.75   26.00    26.560000  \n",
              "S1_Light                0.00   12.00   165.000000  \n",
              "S2_Light                0.00   14.00   258.000000  \n",
              "S3_Light                0.00   50.00   280.000000  \n",
              "S4_Light                0.00   22.00    74.000000  \n",
              "S1_Sound                0.08    0.08     3.880000  \n",
              "S2_Sound                0.05    0.06     3.440000  \n",
              "S3_Sound                0.06    0.07     3.670000  \n",
              "S4_Sound                0.08    0.10     3.400000  \n",
              "S5_CO2                360.00  465.00  1270.000000  \n",
              "S5_CO2_Slope            0.00    0.00     8.980769  \n",
              "S6_PIR                  0.00    0.00     1.000000  \n",
              "S7_PIR                  0.00    0.00     1.000000  \n",
              "Room_Occupancy_Count    0.00    0.00     3.000000  "
            ],
            "text/html": [
              "\n",
              "  <div id=\"df-91429c9d-6f99-41a8-bfa9-4389bfedd9c6\">\n",
              "    <div class=\"colab-df-container\">\n",
              "      <div>\n",
              "<style scoped>\n",
              "    .dataframe tbody tr th:only-of-type {\n",
              "        vertical-align: middle;\n",
              "    }\n",
              "\n",
              "    .dataframe tbody tr th {\n",
              "        vertical-align: top;\n",
              "    }\n",
              "\n",
              "    .dataframe thead th {\n",
              "        text-align: right;\n",
              "    }\n",
              "</style>\n",
              "<table border=\"1\" class=\"dataframe\">\n",
              "  <thead>\n",
              "    <tr style=\"text-align: right;\">\n",
              "      <th></th>\n",
              "      <th>count</th>\n",
              "      <th>mean</th>\n",
              "      <th>std</th>\n",
              "      <th>min</th>\n",
              "      <th>25%</th>\n",
              "      <th>50%</th>\n",
              "      <th>75%</th>\n",
              "      <th>max</th>\n",
              "    </tr>\n",
              "  </thead>\n",
              "  <tbody>\n",
              "    <tr>\n",
              "      <th>S1_Temp</th>\n",
              "      <td>10129.0</td>\n",
              "      <td>25.454012</td>\n",
              "      <td>0.351351</td>\n",
              "      <td>24.940000</td>\n",
              "      <td>25.190000</td>\n",
              "      <td>25.38</td>\n",
              "      <td>25.63</td>\n",
              "      <td>26.380000</td>\n",
              "    </tr>\n",
              "    <tr>\n",
              "      <th>S2_Temp</th>\n",
              "      <td>10129.0</td>\n",
              "      <td>25.546059</td>\n",
              "      <td>0.586325</td>\n",
              "      <td>24.750000</td>\n",
              "      <td>25.190000</td>\n",
              "      <td>25.38</td>\n",
              "      <td>25.63</td>\n",
              "      <td>29.000000</td>\n",
              "    </tr>\n",
              "    <tr>\n",
              "      <th>S3_Temp</th>\n",
              "      <td>10129.0</td>\n",
              "      <td>25.056621</td>\n",
              "      <td>0.427283</td>\n",
              "      <td>24.440000</td>\n",
              "      <td>24.690000</td>\n",
              "      <td>24.94</td>\n",
              "      <td>25.38</td>\n",
              "      <td>26.190000</td>\n",
              "    </tr>\n",
              "    <tr>\n",
              "      <th>S4_Temp</th>\n",
              "      <td>10129.0</td>\n",
              "      <td>25.754125</td>\n",
              "      <td>0.356434</td>\n",
              "      <td>24.940000</td>\n",
              "      <td>25.440000</td>\n",
              "      <td>25.75</td>\n",
              "      <td>26.00</td>\n",
              "      <td>26.560000</td>\n",
              "    </tr>\n",
              "    <tr>\n",
              "      <th>S1_Light</th>\n",
              "      <td>10129.0</td>\n",
              "      <td>25.445059</td>\n",
              "      <td>51.011264</td>\n",
              "      <td>0.000000</td>\n",
              "      <td>0.000000</td>\n",
              "      <td>0.00</td>\n",
              "      <td>12.00</td>\n",
              "      <td>165.000000</td>\n",
              "    </tr>\n",
              "    <tr>\n",
              "      <th>S2_Light</th>\n",
              "      <td>10129.0</td>\n",
              "      <td>26.016290</td>\n",
              "      <td>67.304170</td>\n",
              "      <td>0.000000</td>\n",
              "      <td>0.000000</td>\n",
              "      <td>0.00</td>\n",
              "      <td>14.00</td>\n",
              "      <td>258.000000</td>\n",
              "    </tr>\n",
              "    <tr>\n",
              "      <th>S3_Light</th>\n",
              "      <td>10129.0</td>\n",
              "      <td>34.248494</td>\n",
              "      <td>58.400744</td>\n",
              "      <td>0.000000</td>\n",
              "      <td>0.000000</td>\n",
              "      <td>0.00</td>\n",
              "      <td>50.00</td>\n",
              "      <td>280.000000</td>\n",
              "    </tr>\n",
              "    <tr>\n",
              "      <th>S4_Light</th>\n",
              "      <td>10129.0</td>\n",
              "      <td>13.220259</td>\n",
              "      <td>19.602219</td>\n",
              "      <td>0.000000</td>\n",
              "      <td>0.000000</td>\n",
              "      <td>0.00</td>\n",
              "      <td>22.00</td>\n",
              "      <td>74.000000</td>\n",
              "    </tr>\n",
              "    <tr>\n",
              "      <th>S1_Sound</th>\n",
              "      <td>10129.0</td>\n",
              "      <td>0.168178</td>\n",
              "      <td>0.316709</td>\n",
              "      <td>0.060000</td>\n",
              "      <td>0.070000</td>\n",
              "      <td>0.08</td>\n",
              "      <td>0.08</td>\n",
              "      <td>3.880000</td>\n",
              "    </tr>\n",
              "    <tr>\n",
              "      <th>S2_Sound</th>\n",
              "      <td>10129.0</td>\n",
              "      <td>0.120066</td>\n",
              "      <td>0.266503</td>\n",
              "      <td>0.040000</td>\n",
              "      <td>0.050000</td>\n",
              "      <td>0.05</td>\n",
              "      <td>0.06</td>\n",
              "      <td>3.440000</td>\n",
              "    </tr>\n",
              "    <tr>\n",
              "      <th>S3_Sound</th>\n",
              "      <td>10129.0</td>\n",
              "      <td>0.158119</td>\n",
              "      <td>0.413637</td>\n",
              "      <td>0.040000</td>\n",
              "      <td>0.060000</td>\n",
              "      <td>0.06</td>\n",
              "      <td>0.07</td>\n",
              "      <td>3.670000</td>\n",
              "    </tr>\n",
              "    <tr>\n",
              "      <th>S4_Sound</th>\n",
              "      <td>10129.0</td>\n",
              "      <td>0.103840</td>\n",
              "      <td>0.120683</td>\n",
              "      <td>0.050000</td>\n",
              "      <td>0.060000</td>\n",
              "      <td>0.08</td>\n",
              "      <td>0.10</td>\n",
              "      <td>3.400000</td>\n",
              "    </tr>\n",
              "    <tr>\n",
              "      <th>S5_CO2</th>\n",
              "      <td>10129.0</td>\n",
              "      <td>460.860401</td>\n",
              "      <td>199.964940</td>\n",
              "      <td>345.000000</td>\n",
              "      <td>355.000000</td>\n",
              "      <td>360.00</td>\n",
              "      <td>465.00</td>\n",
              "      <td>1270.000000</td>\n",
              "    </tr>\n",
              "    <tr>\n",
              "      <th>S5_CO2_Slope</th>\n",
              "      <td>10129.0</td>\n",
              "      <td>-0.004830</td>\n",
              "      <td>1.164990</td>\n",
              "      <td>-6.296154</td>\n",
              "      <td>-0.046154</td>\n",
              "      <td>0.00</td>\n",
              "      <td>0.00</td>\n",
              "      <td>8.980769</td>\n",
              "    </tr>\n",
              "    <tr>\n",
              "      <th>S6_PIR</th>\n",
              "      <td>10129.0</td>\n",
              "      <td>0.090137</td>\n",
              "      <td>0.286392</td>\n",
              "      <td>0.000000</td>\n",
              "      <td>0.000000</td>\n",
              "      <td>0.00</td>\n",
              "      <td>0.00</td>\n",
              "      <td>1.000000</td>\n",
              "    </tr>\n",
              "    <tr>\n",
              "      <th>S7_PIR</th>\n",
              "      <td>10129.0</td>\n",
              "      <td>0.079574</td>\n",
              "      <td>0.270645</td>\n",
              "      <td>0.000000</td>\n",
              "      <td>0.000000</td>\n",
              "      <td>0.00</td>\n",
              "      <td>0.00</td>\n",
              "      <td>1.000000</td>\n",
              "    </tr>\n",
              "    <tr>\n",
              "      <th>Room_Occupancy_Count</th>\n",
              "      <td>10129.0</td>\n",
              "      <td>0.398559</td>\n",
              "      <td>0.893633</td>\n",
              "      <td>0.000000</td>\n",
              "      <td>0.000000</td>\n",
              "      <td>0.00</td>\n",
              "      <td>0.00</td>\n",
              "      <td>3.000000</td>\n",
              "    </tr>\n",
              "  </tbody>\n",
              "</table>\n",
              "</div>\n",
              "      <button class=\"colab-df-convert\" onclick=\"convertToInteractive('df-91429c9d-6f99-41a8-bfa9-4389bfedd9c6')\"\n",
              "              title=\"Convert this dataframe to an interactive table.\"\n",
              "              style=\"display:none;\">\n",
              "        \n",
              "  <svg xmlns=\"http://www.w3.org/2000/svg\" height=\"24px\"viewBox=\"0 0 24 24\"\n",
              "       width=\"24px\">\n",
              "    <path d=\"M0 0h24v24H0V0z\" fill=\"none\"/>\n",
              "    <path d=\"M18.56 5.44l.94 2.06.94-2.06 2.06-.94-2.06-.94-.94-2.06-.94 2.06-2.06.94zm-11 1L8.5 8.5l.94-2.06 2.06-.94-2.06-.94L8.5 2.5l-.94 2.06-2.06.94zm10 10l.94 2.06.94-2.06 2.06-.94-2.06-.94-.94-2.06-.94 2.06-2.06.94z\"/><path d=\"M17.41 7.96l-1.37-1.37c-.4-.4-.92-.59-1.43-.59-.52 0-1.04.2-1.43.59L10.3 9.45l-7.72 7.72c-.78.78-.78 2.05 0 2.83L4 21.41c.39.39.9.59 1.41.59.51 0 1.02-.2 1.41-.59l7.78-7.78 2.81-2.81c.8-.78.8-2.07 0-2.86zM5.41 20L4 18.59l7.72-7.72 1.47 1.35L5.41 20z\"/>\n",
              "  </svg>\n",
              "      </button>\n",
              "      \n",
              "  <style>\n",
              "    .colab-df-container {\n",
              "      display:flex;\n",
              "      flex-wrap:wrap;\n",
              "      gap: 12px;\n",
              "    }\n",
              "\n",
              "    .colab-df-convert {\n",
              "      background-color: #E8F0FE;\n",
              "      border: none;\n",
              "      border-radius: 50%;\n",
              "      cursor: pointer;\n",
              "      display: none;\n",
              "      fill: #1967D2;\n",
              "      height: 32px;\n",
              "      padding: 0 0 0 0;\n",
              "      width: 32px;\n",
              "    }\n",
              "\n",
              "    .colab-df-convert:hover {\n",
              "      background-color: #E2EBFA;\n",
              "      box-shadow: 0px 1px 2px rgba(60, 64, 67, 0.3), 0px 1px 3px 1px rgba(60, 64, 67, 0.15);\n",
              "      fill: #174EA6;\n",
              "    }\n",
              "\n",
              "    [theme=dark] .colab-df-convert {\n",
              "      background-color: #3B4455;\n",
              "      fill: #D2E3FC;\n",
              "    }\n",
              "\n",
              "    [theme=dark] .colab-df-convert:hover {\n",
              "      background-color: #434B5C;\n",
              "      box-shadow: 0px 1px 3px 1px rgba(0, 0, 0, 0.15);\n",
              "      filter: drop-shadow(0px 1px 2px rgba(0, 0, 0, 0.3));\n",
              "      fill: #FFFFFF;\n",
              "    }\n",
              "  </style>\n",
              "\n",
              "      <script>\n",
              "        const buttonEl =\n",
              "          document.querySelector('#df-91429c9d-6f99-41a8-bfa9-4389bfedd9c6 button.colab-df-convert');\n",
              "        buttonEl.style.display =\n",
              "          google.colab.kernel.accessAllowed ? 'block' : 'none';\n",
              "\n",
              "        async function convertToInteractive(key) {\n",
              "          const element = document.querySelector('#df-91429c9d-6f99-41a8-bfa9-4389bfedd9c6');\n",
              "          const dataTable =\n",
              "            await google.colab.kernel.invokeFunction('convertToInteractive',\n",
              "                                                     [key], {});\n",
              "          if (!dataTable) return;\n",
              "\n",
              "          const docLinkHtml = 'Like what you see? Visit the ' +\n",
              "            '<a target=\"_blank\" href=https://colab.research.google.com/notebooks/data_table.ipynb>data table notebook</a>'\n",
              "            + ' to learn more about interactive tables.';\n",
              "          element.innerHTML = '';\n",
              "          dataTable['output_type'] = 'display_data';\n",
              "          await google.colab.output.renderOutput(dataTable, element);\n",
              "          const docLink = document.createElement('div');\n",
              "          docLink.innerHTML = docLinkHtml;\n",
              "          element.appendChild(docLink);\n",
              "        }\n",
              "      </script>\n",
              "    </div>\n",
              "  </div>\n",
              "  "
            ]
          },
          "metadata": {},
          "execution_count": 12
        }
      ],
      "source": [
        "df.describe().T"
      ]
    },
    {
      "cell_type": "code",
      "execution_count": null,
      "id": "65d20053",
      "metadata": {
        "colab": {
          "base_uri": "https://localhost:8080/"
        },
        "id": "65d20053",
        "outputId": "3260ff6b-e308-4c29-c6e9-10b7513fe4be"
      },
      "outputs": [
        {
          "output_type": "execute_result",
          "data": {
            "text/plain": [
              "array([1, 1, 1, ..., 0, 0, 0])"
            ]
          },
          "metadata": {},
          "execution_count": 13
        }
      ],
      "source": [
        "df['Room_Occupancy_Count'].values"
      ]
    },
    {
      "cell_type": "markdown",
      "id": "604fb311",
      "metadata": {
        "id": "604fb311"
      },
      "source": [
        "Data Does not contain any outliers"
      ]
    },
    {
      "cell_type": "code",
      "execution_count": null,
      "id": "625a6ac7",
      "metadata": {
        "id": "625a6ac7"
      },
      "outputs": [],
      "source": [
        "x = df.drop(['Room_Occupancy_Count'],axis=1)\n",
        "y = df['Room_Occupancy_Count']"
      ]
    },
    {
      "cell_type": "code",
      "execution_count": null,
      "id": "8183f532",
      "metadata": {
        "id": "8183f532"
      },
      "outputs": [],
      "source": [
        "x_train,x_test,y_train,y_test = train_test_split(x,y,test_size=0.2,random_state=42)\n"
      ]
    },
    {
      "cell_type": "code",
      "execution_count": null,
      "id": "3b114894",
      "metadata": {
        "id": "3b114894"
      },
      "outputs": [],
      "source": [
        "sc = MinMaxScaler()\n",
        "x_train_scaled = sc.fit_transform(x_train)\n",
        "x_test_scaled = sc.transform(x_test)"
      ]
    },
    {
      "cell_type": "markdown",
      "id": "b422df08",
      "metadata": {
        "id": "b422df08"
      },
      "source": [
        "# Naive Bayers"
      ]
    },
    {
      "cell_type": "code",
      "execution_count": null,
      "id": "61d765ea",
      "metadata": {
        "id": "61d765ea"
      },
      "outputs": [],
      "source": [
        "model = MultinomialNB()"
      ]
    },
    {
      "cell_type": "code",
      "execution_count": null,
      "id": "46cbdd16",
      "metadata": {
        "colab": {
          "base_uri": "https://localhost:8080/"
        },
        "id": "46cbdd16",
        "outputId": "8725caa0-2f79-42af-b051-3a67d9e7ad34"
      },
      "outputs": [
        {
          "output_type": "execute_result",
          "data": {
            "text/plain": [
              "MultinomialNB()"
            ]
          },
          "metadata": {},
          "execution_count": 18
        }
      ],
      "source": [
        "model.fit(x_train_scaled,y_train)"
      ]
    },
    {
      "cell_type": "code",
      "execution_count": null,
      "id": "c396900a",
      "metadata": {
        "id": "c396900a"
      },
      "outputs": [],
      "source": [
        "y_pred_test = model.predict(x_test_scaled)\n",
        "y_pred_train = model.predict(x_train_scaled)"
      ]
    },
    {
      "cell_type": "code",
      "execution_count": null,
      "id": "6ae06557",
      "metadata": {
        "colab": {
          "base_uri": "https://localhost:8080/"
        },
        "id": "6ae06557",
        "outputId": "e1e5c67d-ea03-4a58-9228-bc3229787f4e"
      },
      "outputs": [
        {
          "output_type": "stream",
          "name": "stdout",
          "text": [
            "Test Accuracy :  0.8988153998025666\n",
            "Train Accuracy :  0.908058743675182\n"
          ]
        }
      ],
      "source": [
        "print(\"Test Accuracy : \",accuracy_score(y_test,y_pred_test))\n",
        "print('Train Accuracy : ',accuracy_score(y_train,y_pred_train))"
      ]
    },
    {
      "cell_type": "code",
      "execution_count": null,
      "id": "df951167",
      "metadata": {
        "colab": {
          "base_uri": "https://localhost:8080/"
        },
        "id": "df951167",
        "outputId": "1d461f0e-2a49-49f0-cdae-87b3727d7b1b"
      },
      "outputs": [
        {
          "output_type": "stream",
          "name": "stdout",
          "text": [
            "Confusion Matrix :\n",
            " [[1613    3    1    2]\n",
            " [  70   28    4    1]\n",
            " [  28    0   95   41]\n",
            " [  10    1   44   85]]\n"
          ]
        },
        {
          "output_type": "execute_result",
          "data": {
            "text/plain": [
              "<matplotlib.axes._subplots.AxesSubplot at 0x7f7bf55852d0>"
            ]
          },
          "metadata": {},
          "execution_count": 21
        },
        {
          "output_type": "display_data",
          "data": {
            "text/plain": [
              "<Figure size 432x288 with 2 Axes>"
            ],
            "image/png": "[encoded data removed]"
          },
          "metadata": {
            "needs_background": "light"
          }
        }
      ],
      "source": [
        "cm = confusion_matrix(y_test,y_pred_test)\n",
        "print('Confusion Matrix :\\n',cm)\n",
        "sns.heatmap(cm, annot=True)"
      ]
    },
    {
      "cell_type": "markdown",
      "id": "7ca65783",
      "metadata": {
        "id": "7ca65783"
      },
      "source": [
        "# Decision Tree Classifier"
      ]
    },
    {
      "cell_type": "code",
      "execution_count": null,
      "id": "a3206efc",
      "metadata": {
        "id": "a3206efc"
      },
      "outputs": [],
      "source": [
        "param_grid = {'criterion':['entropy','gini']}"
      ]
    },
    {
      "cell_type": "code",
      "execution_count": null,
      "id": "9db8e898",
      "metadata": {
        "id": "9db8e898"
      },
      "outputs": [],
      "source": [
        "model = DecisionTreeClassifier()"
      ]
    },
    {
      "cell_type": "code",
      "execution_count": null,
      "id": "6447abf2",
      "metadata": {
        "colab": {
          "base_uri": "https://localhost:8080/"
        },
        "id": "6447abf2",
        "outputId": "7c714d41-9b64-4d3b-8d14-0096de5ba8de"
      },
      "outputs": [
        {
          "output_type": "stream",
          "name": "stdout",
          "text": [
            "{'criterion': 'entropy'}\n"
          ]
        }
      ],
      "source": [
        "print(best_param(model,param_grid,x_train_scaled,y_train))"
      ]
    },
    {
      "cell_type": "code",
      "execution_count": null,
      "id": "6a1c7d5d",
      "metadata": {
        "id": "6a1c7d5d"
      },
      "outputs": [],
      "source": [
        "model = DecisionTreeClassifier(criterion='entropy',max_depth=8,random_state=41)"
      ]
    },
    {
      "cell_type": "code",
      "execution_count": null,
      "id": "b7b29261",
      "metadata": {
        "colab": {
          "base_uri": "https://localhost:8080/"
        },
        "id": "b7b29261",
        "outputId": "92daaf91-c25f-4ce7-98e2-4cb89ae56eb9"
      },
      "outputs": [
        {
          "output_type": "execute_result",
          "data": {
            "text/plain": [
              "DecisionTreeClassifier(criterion='entropy', max_depth=8, random_state=41)"
            ]
          },
          "metadata": {},
          "execution_count": 26
        }
      ],
      "source": [
        "model.fit(x_train_scaled,y_train)"
      ]
    },
    {
      "cell_type": "code",
      "execution_count": null,
      "id": "b9faa15c",
      "metadata": {
        "id": "b9faa15c"
      },
      "outputs": [],
      "source": [
        "y_pred_test = model.predict(x_test_scaled)\n",
        "y_pred_train = model.predict(x_train_scaled)"
      ]
    },
    {
      "cell_type": "code",
      "execution_count": null,
      "id": "6ada9c1b",
      "metadata": {
        "colab": {
          "base_uri": "https://localhost:8080/"
        },
        "id": "6ada9c1b",
        "outputId": "f40c2085-a387-4701-92ce-d9d9471a197b"
      },
      "outputs": [
        {
          "output_type": "stream",
          "name": "stdout",
          "text": [
            "Test Accuracy :  0.9965449160908193\n",
            "Train Accuracy :  0.9986424780945329\n"
          ]
        }
      ],
      "source": [
        "print(\"Test Accuracy : \",accuracy_score(y_test,y_pred_test))\n",
        "print('Train Accuracy : ',accuracy_score(y_train,y_pred_train))"
      ]
    },
    {
      "cell_type": "code",
      "execution_count": null,
      "id": "e24cc10a",
      "metadata": {
        "colab": {
          "base_uri": "https://localhost:8080/"
        },
        "id": "e24cc10a",
        "outputId": "f575bc7a-2849-4038-b47d-f47d92058bb8"
      },
      "outputs": [
        {
          "output_type": "stream",
          "name": "stdout",
          "text": [
            "Confusion Matrix :\n",
            " [[1619    0    0    0]\n",
            " [   0  103    0    0]\n",
            " [   0    1  162    1]\n",
            " [   2    0    3  135]]\n"
          ]
        },
        {
          "output_type": "execute_result",
          "data": {
            "text/plain": [
              "<matplotlib.axes._subplots.AxesSubplot at 0x7f7bf2bf9410>"
            ]
          },
          "metadata": {},
          "execution_count": 29
        },
        {
          "output_type": "display_data",
          "data": {
            "text/plain": [
              "<Figure size 432x288 with 2 Axes>"
            ],
            "image/png": "[encoded data removed]"
          },
          "metadata": {
            "needs_background": "light"
          }
        }
      ],
      "source": [
        "cm = confusion_matrix(y_test,y_pred_test)\n",
        "print('Confusion Matrix :\\n',cm)\n",
        "sns.heatmap(cm, annot=True)"
      ]
    },
    {
      "cell_type": "markdown",
      "id": "d6cb104e",
      "metadata": {
        "id": "d6cb104e"
      },
      "source": [
        "# Linear Regression"
      ]
    },
    {
      "cell_type": "markdown",
      "id": "a0125309",
      "metadata": {
        "id": "a0125309"
      },
      "source": [
        "Since classifier is used for regression problems, it is not used"
      ]
    },
    {
      "cell_type": "markdown",
      "id": "b2de8b8f",
      "metadata": {
        "id": "b2de8b8f"
      },
      "source": [
        "# Logistic Regression"
      ]
    },
    {
      "cell_type": "code",
      "execution_count": null,
      "id": "9d3a2430",
      "metadata": {
        "colab": {
          "base_uri": "https://localhost:8080/"
        },
        "id": "9d3a2430",
        "outputId": "efc62bed-e8a9-4aea-a46a-07c6c8067dd9"
      },
      "outputs": [
        {
          "output_type": "execute_result",
          "data": {
            "text/plain": [
              "LogisticRegression(random_state=41)"
            ]
          },
          "metadata": {},
          "execution_count": 30
        }
      ],
      "source": [
        "model = LogisticRegression(random_state=41)\n",
        "model.fit(x_train_scaled,y_train)"
      ]
    },
    {
      "cell_type": "code",
      "execution_count": null,
      "id": "cdf6878e",
      "metadata": {
        "id": "cdf6878e"
      },
      "outputs": [],
      "source": [
        "y_pred_test = model.predict(x_test_scaled)\n",
        "y_pred_train = model.predict(x_train_scaled)"
      ]
    },
    {
      "cell_type": "code",
      "execution_count": null,
      "id": "5e05f8de",
      "metadata": {
        "colab": {
          "base_uri": "https://localhost:8080/"
        },
        "id": "5e05f8de",
        "outputId": "029427f4-8657-4f95-c84a-fd2c71aea8b1"
      },
      "outputs": [
        {
          "output_type": "stream",
          "name": "stdout",
          "text": [
            "Test Accuracy :  0.9846989141164857\n",
            "Train Accuracy :  0.9886461804270024\n"
          ]
        }
      ],
      "source": [
        "print(\"Test Accuracy : \",accuracy_score(y_test,y_pred_test))\n",
        "print('Train Accuracy : ',accuracy_score(y_train,y_pred_train))"
      ]
    },
    {
      "cell_type": "code",
      "execution_count": null,
      "id": "c0dfffa4",
      "metadata": {
        "colab": {
          "base_uri": "https://localhost:8080/"
        },
        "id": "c0dfffa4",
        "outputId": "831bb2d0-fe5c-4cf3-df22-de42e1ee9e0a"
      },
      "outputs": [
        {
          "output_type": "stream",
          "name": "stdout",
          "text": [
            "Confusion Matrix :\n",
            " [[1616    0    0    3]\n",
            " [   0  103    0    0]\n",
            " [   0    0  148   16]\n",
            " [  11    0    1  128]]\n"
          ]
        },
        {
          "output_type": "execute_result",
          "data": {
            "text/plain": [
              "<matplotlib.axes._subplots.AxesSubplot at 0x7f7bf1e84510>"
            ]
          },
          "metadata": {},
          "execution_count": 33
        },
        {
          "output_type": "display_data",
          "data": {
            "text/plain": [
              "<Figure size 432x288 with 2 Axes>"
            ],
            "image/png": "[encoded data removed]"
          },
          "metadata": {
            "needs_background": "light"
          }
        }
      ],
      "source": [
        "cm = confusion_matrix(y_test,y_pred_test)\n",
        "print('Confusion Matrix :\\n',cm)\n",
        "sns.heatmap(cm, annot=True)"
      ]
    },
    {
      "cell_type": "markdown",
      "id": "1e62d488",
      "metadata": {
        "id": "1e62d488"
      },
      "source": [
        "# Artificial Neural Network"
      ]
    },
    {
      "cell_type": "code",
      "execution_count": null,
      "id": "c41f7043",
      "metadata": {
        "id": "c41f7043"
      },
      "outputs": [],
      "source": [
        "param_grid = {'hidden_layer_sizes':[(100,80,60),(120,80,60),(150,100,80)],\n",
        "             'activation':['tanh','relu'],\n",
        "             'solver':['sgd','adam'],\n",
        "             'max_iter':[150,100,50],\n",
        "             'learning_rate':['constant','adaptive']}"
      ]
    },
    {
      "cell_type": "code",
      "execution_count": null,
      "id": "db1ba3a1",
      "metadata": {
        "id": "db1ba3a1"
      },
      "outputs": [],
      "source": [
        "model = MLPClassifier()"
      ]
    },
    {
      "cell_type": "code",
      "execution_count": null,
      "id": "29415521",
      "metadata": {
        "colab": {
          "base_uri": "https://localhost:8080/"
        },
        "id": "29415521",
        "outputId": "159d1047-cc9f-4ea1-bc42-7382b1aa918c"
      },
      "outputs": [
        {
          "output_type": "stream",
          "name": "stdout",
          "text": [
            "{'activation': 'tanh', 'hidden_layer_sizes': (120, 80, 60), 'learning_rate': 'adaptive', 'max_iter': 100, 'solver': 'adam'}\n"
          ]
        }
      ],
      "source": [
        "print(best_param(model,param_grid,x_train_scaled,y_train))"
      ]
    },
    {
      "cell_type": "code",
      "source": [
        "model = MLPClassifier(hidden_layer_sizes=(120,80,60),\n",
        "                      max_iter = 100,\n",
        "                      activation = 'tanh',\n",
        "                      verbose=True,\n",
        "                      solver = 'adam',\n",
        "                      learning_rate='adaptive')"
      ],
      "metadata": {
        "id": "BeoRcftBwnpY"
      },
      "id": "BeoRcftBwnpY",
      "execution_count": null,
      "outputs": []
    },
    {
      "cell_type": "code",
      "execution_count": null,
      "id": "9e2a0aa9",
      "metadata": {
        "colab": {
          "base_uri": "https://localhost:8080/"
        },
        "id": "9e2a0aa9",
        "outputId": "a69072d0-3f64-4882-defe-4dcf81f48179"
      },
      "outputs": [
        {
          "output_type": "execute_result",
          "data": {
            "text/plain": [
              "MLPClassifier()"
            ]
          },
          "metadata": {},
          "execution_count": 42
        }
      ],
      "source": [
        "model = MLPClassifier()\n",
        "model.fit(x_train_scaled,y_train)"
      ]
    },
    {
      "cell_type": "code",
      "execution_count": null,
      "id": "1ff6d1ec",
      "metadata": {
        "id": "1ff6d1ec"
      },
      "outputs": [],
      "source": [
        "y_pred_test = model.predict(x_test_scaled)\n",
        "y_pred_train = model.predict(x_train_scaled)"
      ]
    },
    {
      "cell_type": "code",
      "execution_count": null,
      "id": "7484e1e4",
      "metadata": {
        "colab": {
          "base_uri": "https://localhost:8080/"
        },
        "id": "7484e1e4",
        "outputId": "1d9de87f-8af1-4712-b93c-d63714633c74"
      },
      "outputs": [
        {
          "output_type": "stream",
          "name": "stdout",
          "text": [
            "Test Accuracy :  0.9945705824284304\n",
            "Train Accuracy :  0.9966679007774898\n"
          ]
        }
      ],
      "source": [
        "print(\"Test Accuracy : \",accuracy_score(y_test,y_pred_test))\n",
        "print('Train Accuracy : ',accuracy_score(y_train,y_pred_train))"
      ]
    },
    {
      "cell_type": "code",
      "execution_count": null,
      "id": "b78196e5",
      "metadata": {
        "id": "b78196e5"
      },
      "outputs": [],
      "source": [
        "cm = confusion_matrix(y_test,y_pred_test)\n",
        "print('Confusion Matrix :\\n',cm)\n",
        "sns.heatmap(cm, annot=True)"
      ]
    },
    {
      "cell_type": "markdown",
      "id": "08d0e31b",
      "metadata": {
        "id": "08d0e31b"
      },
      "source": [
        "# KNN"
      ]
    },
    {
      "cell_type": "code",
      "execution_count": null,
      "id": "049c0568",
      "metadata": {
        "id": "049c0568"
      },
      "outputs": [],
      "source": []
    }
  ],
  "metadata": {
    "kernelspec": {
      "display_name": "Python 3 (ipykernel)",
      "language": "python",
      "name": "python3"
    },
    "language_info": {
      "codemirror_mode": {
        "name": "ipython",
        "version": 3
      },
      "file_extension": ".py",
      "mimetype": "text/x-python",
      "name": "python",
      "nbconvert_exporter": "python",
      "pygments_lexer": "ipython3",
      "version": "3.9.7"
    },
    "colab": {
      "provenance": [],
      "include_colab_link": true
    }
  },
  "nbformat": 4,
  "nbformat_minor": 5
}